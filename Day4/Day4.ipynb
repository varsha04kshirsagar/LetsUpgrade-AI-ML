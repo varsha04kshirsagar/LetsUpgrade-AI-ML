{
  "nbformat": 4,
  "nbformat_minor": 0,
  "metadata": {
    "colab": {
      "name": "Day4.ipynb",
      "provenance": [],
      "collapsed_sections": []
    },
    "kernelspec": {
      "name": "python3",
      "display_name": "Python 3"
    }
  },
  "cells": [
    {
      "cell_type": "markdown",
      "metadata": {
        "id": "rdlIzENSjHW0",
        "colab_type": "text"
      },
      "source": [
        "**Q.1 Research on whether addition, subtraction, multiplication, division, floor division and modulo operations be performed on complex numbers. Based on your study, implement a Python program to demonstrate these operations**"
      ]
    },
    {
      "cell_type": "code",
      "metadata": {
        "id": "k-1XjMSSjRlW",
        "colab_type": "code",
        "colab": {
          "base_uri": "https://localhost:8080/",
          "height": 104
        },
        "outputId": "212f5e7a-66e1-4f0a-8002-11a45ae4c6fa"
      },
      "source": [
        "c = 1 + 2j\n",
        "c1 = 2 + 4j\n",
        "print('Addition =', c + c1)\n",
        "print('Subtraction =', c - c1)\n",
        "print('Multiplication =', c * c1)\n",
        "print('Division =', c1 / c)\n",
        "print(\"floor division and modulo operation can't perform on complex number\")\n"
      ],
      "execution_count": 4,
      "outputs": [
        {
          "output_type": "stream",
          "text": [
            "Addition = (3+6j)\n",
            "Subtraction = (-1-2j)\n",
            "Multiplication = (-6+8j)\n",
            "Division = (2+0j)\n",
            "floor division and modulo operation can't perform on complex number\n"
          ],
          "name": "stdout"
        }
      ]
    },
    {
      "cell_type": "markdown",
      "metadata": {
        "id": "eJiQCJARkjd4",
        "colab_type": "text"
      },
      "source": [
        "**Q.2 Research on range() functions and its parameters. Create a markdown cell and write in your own words (no copy-paste from google please) what you understand about it. Implement a small program of your choice on the same**."
      ]
    },
    {
      "cell_type": "markdown",
      "metadata": {
        "id": "dw9hjIu8k3DH",
        "colab_type": "text"
      },
      "source": [
        "**range()** function in returns sequence of numbers ,start with 0 by default and it increment bu 1. Also you can set starting number , end (stop ) number and incrementation number by default it is 1. Datatype of range values is **'int'**"
      ]
    },
    {
      "cell_type": "code",
      "metadata": {
        "id": "J6hgQipCkymZ",
        "colab_type": "code",
        "colab": {
          "base_uri": "https://localhost:8080/",
          "height": 173
        },
        "outputId": "89002880-ff38-4515-87be-1fa0eb3f82f3"
      },
      "source": [
        "x = range(3, 20, 2)\n",
        "for n in x:\n",
        "  print(n)"
      ],
      "execution_count": 5,
      "outputs": [
        {
          "output_type": "stream",
          "text": [
            "3\n",
            "5\n",
            "7\n",
            "9\n",
            "11\n",
            "13\n",
            "15\n",
            "17\n",
            "19\n"
          ],
          "name": "stdout"
        }
      ]
    },
    {
      "cell_type": "markdown",
      "metadata": {
        "id": "_4okHe4tl_9f",
        "colab_type": "text"
      },
      "source": [
        "**Q.3  Consider two numbers. Perform their subtraction and if the result of subtraction is greater than 25, print their multiplication result else print their division result.**\n"
      ]
    },
    {
      "cell_type": "code",
      "metadata": {
        "id": "3JAlN84smNOX",
        "colab_type": "code",
        "colab": {
          "base_uri": "https://localhost:8080/",
          "height": 89
        },
        "outputId": "322dd7d3-cbc0-4956-a816-6314b8edd48a"
      },
      "source": [
        "num1 = int(input(\"Enetr first number:\"))\n",
        "num2 = int(input(\"Enetr second number:\"))\n",
        "if num1 - num2 > 25:\n",
        "  print(\"Multiplication of num1 and num2 is:\", num1 * num2)\n",
        "else:\n",
        "  print(\"Division of num1 and num2 is:\", num1/num2)  "
      ],
      "execution_count": 6,
      "outputs": [
        {
          "output_type": "stream",
          "text": [
            "Enetr first number:55\n",
            "Enetr second number:25\n",
            "Multiplication of num1 and num2 is: 1375\n"
          ],
          "name": "stdout"
        }
      ]
    },
    {
      "cell_type": "code",
      "metadata": {
        "id": "rE4o70xlnMzD",
        "colab_type": "code",
        "colab": {
          "base_uri": "https://localhost:8080/",
          "height": 89
        },
        "outputId": "dc67e3c6-b958-40b0-8199-24c28aed8e84"
      },
      "source": [
        "num1 = int(input(\"Enetr first number:\"))\n",
        "num2 = int(input(\"Enetr second number:\"))\n",
        "if num1 - num2 > 25:\n",
        "  print(\"Multiplication of num1 and num2 is:\", num1 * num2)\n",
        "else:\n",
        "  print(\"Division of num1 and num2 is:\", num1/num2)  \n",
        "  "
      ],
      "execution_count": 7,
      "outputs": [
        {
          "output_type": "stream",
          "text": [
            "Enetr first number:55\n",
            "Enetr second number:30\n",
            "Division of num1 and num2 is: 1.8333333333333333\n"
          ],
          "name": "stdout"
        }
      ]
    },
    {
      "cell_type": "markdown",
      "metadata": {
        "id": "FOLezPrTnfQr",
        "colab_type": "text"
      },
      "source": [
        "**Q.4 Consider a list of 10 elements of integer values. If the number in the list is divisible by 2, print the result as \"square of that number minus 2\".**"
      ]
    },
    {
      "cell_type": "code",
      "metadata": {
        "id": "ij_bMRDznl9o",
        "colab_type": "code",
        "colab": {
          "base_uri": "https://localhost:8080/",
          "height": 156
        },
        "outputId": "71bb166c-2b19-4e78-d602-30205d95ed34"
      },
      "source": [
        "list1 = [5,6,7,3,9,10,50,35,23,80]\n",
        "for i in list1:\n",
        "  if i % 2 == 0:\n",
        "    a = (i * i) -2\n",
        "    print(\"number is:\",i)\n",
        "    print(\"square of that number minus 2 is :\", a)"
      ],
      "execution_count": 13,
      "outputs": [
        {
          "output_type": "stream",
          "text": [
            "number is: 6\n",
            "square of that number minus 2 is : 34\n",
            "number is: 10\n",
            "square of that number minus 2 is : 98\n",
            "number is: 50\n",
            "square of that number minus 2 is : 2498\n",
            "number is: 80\n",
            "square of that number minus 2 is : 6398\n"
          ],
          "name": "stdout"
        }
      ]
    },
    {
      "cell_type": "markdown",
      "metadata": {
        "id": "DJNDKmKwpwkp",
        "colab_type": "text"
      },
      "source": [
        "**Q.5 Consider a list of 10 elements. Print all the elements in the list which are greater than 7 when that number is divided 2.**"
      ]
    },
    {
      "cell_type": "code",
      "metadata": {
        "id": "fJzaAMB7p9b3",
        "colab_type": "code",
        "colab": {
          "base_uri": "https://localhost:8080/",
          "height": 69
        },
        "outputId": "8d459c48-063c-4f4b-974d-44f186e9e1fa"
      },
      "source": [
        "list1 = [5,6,7,3,9,10,544,35,23,80]\n",
        "for i in list1:\n",
        "  if i > 7 and i % 2 ==0:\n",
        "    print(\"number is:\", i)"
      ],
      "execution_count": 16,
      "outputs": [
        {
          "output_type": "stream",
          "text": [
            "number is: 10\n",
            "number is: 544\n",
            "number is: 80\n"
          ],
          "name": "stdout"
        }
      ]
    },
    {
      "cell_type": "code",
      "metadata": {
        "id": "PnQ8drZmqg9h",
        "colab_type": "code",
        "colab": {}
      },
      "source": [
        ""
      ],
      "execution_count": null,
      "outputs": []
    }
  ]
}