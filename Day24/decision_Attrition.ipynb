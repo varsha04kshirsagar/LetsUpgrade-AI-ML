{
 "metadata": {
  "language_info": {
   "codemirror_mode": {
    "name": "ipython",
    "version": 3
   },
   "file_extension": ".py",
   "mimetype": "text/x-python",
   "name": "python",
   "nbconvert_exporter": "python",
   "pygments_lexer": "ipython3",
   "version": 3
  },
  "orig_nbformat": 2,
  "kernelspec": {
   "name": "python_defaultSpec_1596945094631",
   "display_name": "Python 3"
  }
 },
 "nbformat": 4,
 "nbformat_minor": 2,
 "cells": [
  {
   "cell_type": "code",
   "execution_count": 2,
   "metadata": {},
   "outputs": [],
   "source": [
    "import pandas as pd\n",
    "import numpy as np "
   ]
  },
  {
   "cell_type": "code",
   "execution_count": 3,
   "metadata": {},
   "outputs": [],
   "source": [
    "data  = pd.read_csv('general_data.csv')"
   ]
  },
  {
   "cell_type": "code",
   "execution_count": 4,
   "metadata": {},
   "outputs": [],
   "source": [
    "df = data.dropna()"
   ]
  },
  {
   "cell_type": "code",
   "execution_count": 5,
   "metadata": {},
   "outputs": [],
   "source": [
    "from sklearn.preprocessing import LabelEncoder\n",
    "ec=LabelEncoder()\n",
    "df['Attrition']=ec.fit_transform(df['Attrition'])\n",
    "df['BusinessTravel'] = ec.fit_transform(df['BusinessTravel'])\n",
    "df['Gender'] = ec.fit_transform(df['Gender'])\n",
    "df['Department'] = ec.fit_transform(df['Department'])\n",
    "df['EducationField'] = ec.fit_transform(df['EducationField'])\n",
    "df['Over18'] = ec.fit_transform(df['Over18'])\n",
    "df['JobRole'] = ec.fit_transform(df['JobRole'])\n",
    "df['MaritalStatus'] = ec.fit_transform(df['MaritalStatus'])\n"
   ]
  },
  {
   "cell_type": "code",
   "execution_count": 6,
   "metadata": {},
   "outputs": [],
   "source": [
    "df_y = df[['Attrition']]"
   ]
  },
  {
   "cell_type": "code",
   "execution_count": 12,
   "metadata": {},
   "outputs": [],
   "source": [
    "x = df.drop('Attrition',axis = 1)\n",
    "df_x = x.drop('EmployeeID',axis = 1)\n",
    "X = pd.DataFrame([df['Age'],df['BusinessTravel'],df['Department'],df['DistanceFromHome'],df['Education'],df['EducationField'],df['EmployeeCount'],df['Gender'],df['JobLevel'],df['JobRole'],df['MaritalStatus'],df['MonthlyIncome'],df['NumCompaniesWorked'],df['Over18'],df['PercentSalaryHike'],df['StandardHours'],df['StockOptionLevel'],df['TotalWorkingYears'],df['TrainingTimesLastYear'],df['YearsAtCompany'],df['YearsSinceLastPromotion'],df['YearsWithCurrManager']]).T"
   ]
  },
  {
   "cell_type": "code",
   "execution_count": 13,
   "metadata": {},
   "outputs": [
    {
     "output_type": "execute_result",
     "data": {
      "text/plain": "DecisionTreeClassifier(class_weight=None, criterion='gini', max_depth=8,\n                       max_features=None, max_leaf_nodes=None,\n                       min_impurity_decrease=0.0, min_impurity_split=None,\n                       min_samples_leaf=1, min_samples_split=2,\n                       min_weight_fraction_leaf=0.0, presort=False,\n                       random_state=None, splitter='best')"
     },
     "metadata": {},
     "execution_count": 13
    }
   ],
   "source": [
    "from sklearn.tree import DecisionTreeClassifier, export_graphviz\n",
    "classifier=DecisionTreeClassifier(max_depth=8)\n",
    "classifier.fit(X,df_y)"
   ]
  },
  {
   "cell_type": "code",
   "execution_count": 14,
   "metadata": {},
   "outputs": [
    {
     "output_type": "execute_result",
     "data": {
      "text/plain": "0.9189867640346874"
     },
     "metadata": {},
     "execution_count": 14
    }
   ],
   "source": [
    "classifier.score(X,df_y)"
   ]
  },
  {
   "cell_type": "code",
   "execution_count": 15,
   "metadata": {},
   "outputs": [],
   "source": [
    "from sklearn.ensemble import RandomForestClassifier\n",
    "rf_model = RandomForestClassifier(n_estimators=1000,max_features=2,oob_score=True)"
   ]
  },
  {
   "cell_type": "code",
   "execution_count": 16,
   "metadata": {},
   "outputs": [],
   "source": [
    "features = ['Age', 'BusinessTravel', 'Department', 'DistanceFromHome', 'Education',\n",
    "       'EducationField', 'EmployeeCount', 'Gender', 'JobLevel', 'JobRole',\n",
    "       'MaritalStatus', 'MonthlyIncome', 'NumCompaniesWorked', 'Over18',\n",
    "       'PercentSalaryHike', 'StandardHours', 'StockOptionLevel',\n",
    "       'TotalWorkingYears', 'TrainingTimesLastYear', 'YearsAtCompany',\n",
    "       'YearsSinceLastPromotion', 'YearsWithCurrManager']"
   ]
  },
  {
   "cell_type": "code",
   "execution_count": 17,
   "metadata": {},
   "outputs": [
    {
     "output_type": "execute_result",
     "data": {
      "text/plain": "RandomForestClassifier(bootstrap=True, class_weight=None, criterion='gini',\n                       max_depth=None, max_features=2, max_leaf_nodes=None,\n                       min_impurity_decrease=0.0, min_impurity_split=None,\n                       min_samples_leaf=1, min_samples_split=2,\n                       min_weight_fraction_leaf=0.0, n_estimators=1000,\n                       n_jobs=None, oob_score=True, random_state=None,\n                       verbose=0, warm_start=False)"
     },
     "metadata": {},
     "execution_count": 17
    }
   ],
   "source": [
    "rf_model.fit(X=X[features],y=df_y['Attrition'])"
   ]
  },
  {
   "cell_type": "code",
   "execution_count": 19,
   "metadata": {
    "tags": []
   },
   "outputs": [
    {
     "output_type": "stream",
     "name": "stdout",
     "text": "oob Accuracy\n1.0\n"
    }
   ],
   "source": [
    "print(\"oob Accuracy\")\n",
    "print(rf_model.oob_score_);"
   ]
  },
  {
   "cell_type": "code",
   "execution_count": 20,
   "metadata": {
    "tags": []
   },
   "outputs": [
    {
     "output_type": "stream",
     "name": "stdout",
     "text": "Age 0.0969271921207366\nBusinessTravel 0.028014415772460395\nDepartment 0.026573926817951912\nDistanceFromHome 0.06946839768283548\nEducation 0.04166977350064191\nEducationField 0.041179571941862746\nEmployeeCount 0.0\nGender 0.01788121578102929\nJobLevel 0.037235918185691795\nJobRole 0.05555949596579053\nMaritalStatus 0.038903494605282495\nMonthlyIncome 0.09254595309129578\nNumCompaniesWorked 0.05602510671906573\nOver18 0.0\nPercentSalaryHike 0.06536296513925047\nStandardHours 0.0\nStockOptionLevel 0.03461491748230593\nTotalWorkingYears 0.08465390143549875\nTrainingTimesLastYear 0.044930049696780286\nYearsAtCompany 0.06968281144506976\nYearsSinceLastPromotion 0.04390723392806233\nYearsWithCurrManager 0.05486365868838762\n"
    }
   ],
   "source": [
    "for feature,imp in zip(features,rf_model.feature_importances_):\n",
    "    print(feature,imp)"
   ]
  },
  {
   "cell_type": "code",
   "execution_count": 21,
   "metadata": {},
   "outputs": [],
   "source": [
    "df_X = pd.DataFrame([df['Age'],df['DistanceFromHome'],df['JobRole'],df['MonthlyIncome'],df['NumCompaniesWorked'],df['PercentSalaryHike'],df['TotalWorkingYears'],df['YearsAtCompany'],df['YearsWithCurrManager']]).T"
   ]
  },
  {
   "cell_type": "code",
   "execution_count": 35,
   "metadata": {},
   "outputs": [
    {
     "output_type": "execute_result",
     "data": {
      "text/plain": "DecisionTreeClassifier(class_weight=None, criterion='gini', max_depth=4,\n                       max_features=None, max_leaf_nodes=None,\n                       min_impurity_decrease=0.0, min_impurity_split=None,\n                       min_samples_leaf=1, min_samples_split=2,\n                       min_weight_fraction_leaf=0.0, presort=False,\n                       random_state=None, splitter='best')"
     },
     "metadata": {},
     "execution_count": 35
    }
   ],
   "source": [
    "from sklearn.tree import DecisionTreeClassifier, export_graphviz\n",
    "classifier1=DecisionTreeClassifier(max_depth=4)\n",
    "classifier1.fit(df_X,df_y)"
   ]
  },
  {
   "cell_type": "code",
   "execution_count": 36,
   "metadata": {},
   "outputs": [
    {
     "output_type": "execute_result",
     "data": {
      "text/plain": "0.856001825650388"
     },
     "metadata": {},
     "execution_count": 36
    }
   ],
   "source": [
    "classifier1.score(df_X,df_y)"
   ]
  },
  {
   "cell_type": "code",
   "execution_count": 37,
   "metadata": {},
   "outputs": [],
   "source": [
    "with open(\"Dtree_Attr.dot\",\"w\") as f:\n",
    "    f = export_graphviz(classifier1,feature_names=['Age','DistanceFromHome','JobRole',\n",
    "       'MonthlyIncome', 'NumCompaniesWorked',\n",
    "       'PercentSalaryHike','TotalWorkingYears','YearsAtCompany',\n",
    "       'YearsWithCurrManager'],out_file=f);"
   ]
  },
  {
   "cell_type": "code",
   "execution_count": null,
   "metadata": {},
   "outputs": [],
   "source": []
  }
 ]
}