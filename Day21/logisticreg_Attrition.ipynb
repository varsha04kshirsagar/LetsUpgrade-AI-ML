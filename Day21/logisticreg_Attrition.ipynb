{
 "metadata": {
  "language_info": {
   "codemirror_mode": {
    "name": "ipython",
    "version": 3
   },
   "file_extension": ".py",
   "mimetype": "text/x-python",
   "name": "python",
   "nbconvert_exporter": "python",
   "pygments_lexer": "ipython3",
   "version": 3
  },
  "orig_nbformat": 2,
  "kernelspec": {
   "name": "python_defaultSpec_1596813598053",
   "display_name": "Python 3.7.4 64-bit ('base': conda)"
  }
 },
 "nbformat": 4,
 "nbformat_minor": 2,
 "cells": [
  {
   "cell_type": "code",
   "execution_count": 2,
   "metadata": {},
   "outputs": [],
   "source": [
    "import pandas as pd\n",
    "import numpy as np \n",
    "import matplotlib.pyplot as plt\n",
    "import statsmodels.api as sm\n",
    "from sklearn import linear_model\n",
    "import math\n",
    "import seaborn as sns"
   ]
  },
  {
   "cell_type": "code",
   "execution_count": 3,
   "metadata": {},
   "outputs": [],
   "source": [
    "data  = pd.read_csv('general_data.csv')"
   ]
  },
  {
   "cell_type": "code",
   "execution_count": 4,
   "metadata": {},
   "outputs": [
    {
     "output_type": "execute_result",
     "data": {
      "text/plain": "      Age Attrition     BusinessTravel              Department  \\\n0      51        No      Travel_Rarely                   Sales   \n1      31       Yes  Travel_Frequently  Research & Development   \n2      32        No  Travel_Frequently  Research & Development   \n3      38        No         Non-Travel  Research & Development   \n4      32        No      Travel_Rarely  Research & Development   \n...   ...       ...                ...                     ...   \n4405   42        No      Travel_Rarely  Research & Development   \n4406   29        No      Travel_Rarely  Research & Development   \n4407   25        No      Travel_Rarely  Research & Development   \n4408   42        No      Travel_Rarely                   Sales   \n4409   40        No      Travel_Rarely  Research & Development   \n\n      DistanceFromHome  Education EducationField  EmployeeCount  EmployeeID  \\\n0                    6          2  Life Sciences              1           1   \n1                   10          1  Life Sciences              1           2   \n2                   17          4          Other              1           3   \n3                    2          5  Life Sciences              1           4   \n4                   10          1        Medical              1           5   \n...                ...        ...            ...            ...         ...   \n4405                 5          4        Medical              1        4406   \n4406                 2          4        Medical              1        4407   \n4407                25          2  Life Sciences              1        4408   \n4408                18          2        Medical              1        4409   \n4409                28          3        Medical              1        4410   \n\n      Gender  ...  NumCompaniesWorked Over18 PercentSalaryHike  StandardHours  \\\n0     Female  ...                 1.0      Y                11              8   \n1     Female  ...                 0.0      Y                23              8   \n2       Male  ...                 1.0      Y                15              8   \n3       Male  ...                 3.0      Y                11              8   \n4       Male  ...                 4.0      Y                12              8   \n...      ...  ...                 ...    ...               ...            ...   \n4405  Female  ...                 3.0      Y                17              8   \n4406    Male  ...                 2.0      Y                15              8   \n4407    Male  ...                 0.0      Y                20              8   \n4408    Male  ...                 0.0      Y                14              8   \n4409    Male  ...                 0.0      Y                12              8   \n\n      StockOptionLevel TotalWorkingYears  TrainingTimesLastYear  \\\n0                    0               1.0                      6   \n1                    1               6.0                      3   \n2                    3               5.0                      2   \n3                    3              13.0                      5   \n4                    2               9.0                      2   \n...                ...               ...                    ...   \n4405                 1              10.0                      5   \n4406                 0              10.0                      2   \n4407                 0               5.0                      4   \n4408                 1              10.0                      2   \n4409                 0               NaN                      6   \n\n      YearsAtCompany  YearsSinceLastPromotion  YearsWithCurrManager  \n0                  1                        0                     0  \n1                  5                        1                     4  \n2                  5                        0                     3  \n3                  8                        7                     5  \n4                  6                        0                     4  \n...              ...                      ...                   ...  \n4405               3                        0                     2  \n4406               3                        0                     2  \n4407               4                        1                     2  \n4408               9                        7                     8  \n4409              21                        3                     9  \n\n[4410 rows x 24 columns]",
      "text/html": "<div>\n<style scoped>\n    .dataframe tbody tr th:only-of-type {\n        vertical-align: middle;\n    }\n\n    .dataframe tbody tr th {\n        vertical-align: top;\n    }\n\n    .dataframe thead th {\n        text-align: right;\n    }\n</style>\n<table border=\"1\" class=\"dataframe\">\n  <thead>\n    <tr style=\"text-align: right;\">\n      <th></th>\n      <th>Age</th>\n      <th>Attrition</th>\n      <th>BusinessTravel</th>\n      <th>Department</th>\n      <th>DistanceFromHome</th>\n      <th>Education</th>\n      <th>EducationField</th>\n      <th>EmployeeCount</th>\n      <th>EmployeeID</th>\n      <th>Gender</th>\n      <th>...</th>\n      <th>NumCompaniesWorked</th>\n      <th>Over18</th>\n      <th>PercentSalaryHike</th>\n      <th>StandardHours</th>\n      <th>StockOptionLevel</th>\n      <th>TotalWorkingYears</th>\n      <th>TrainingTimesLastYear</th>\n      <th>YearsAtCompany</th>\n      <th>YearsSinceLastPromotion</th>\n      <th>YearsWithCurrManager</th>\n    </tr>\n  </thead>\n  <tbody>\n    <tr>\n      <td>0</td>\n      <td>51</td>\n      <td>No</td>\n      <td>Travel_Rarely</td>\n      <td>Sales</td>\n      <td>6</td>\n      <td>2</td>\n      <td>Life Sciences</td>\n      <td>1</td>\n      <td>1</td>\n      <td>Female</td>\n      <td>...</td>\n      <td>1.0</td>\n      <td>Y</td>\n      <td>11</td>\n      <td>8</td>\n      <td>0</td>\n      <td>1.0</td>\n      <td>6</td>\n      <td>1</td>\n      <td>0</td>\n      <td>0</td>\n    </tr>\n    <tr>\n      <td>1</td>\n      <td>31</td>\n      <td>Yes</td>\n      <td>Travel_Frequently</td>\n      <td>Research &amp; Development</td>\n      <td>10</td>\n      <td>1</td>\n      <td>Life Sciences</td>\n      <td>1</td>\n      <td>2</td>\n      <td>Female</td>\n      <td>...</td>\n      <td>0.0</td>\n      <td>Y</td>\n      <td>23</td>\n      <td>8</td>\n      <td>1</td>\n      <td>6.0</td>\n      <td>3</td>\n      <td>5</td>\n      <td>1</td>\n      <td>4</td>\n    </tr>\n    <tr>\n      <td>2</td>\n      <td>32</td>\n      <td>No</td>\n      <td>Travel_Frequently</td>\n      <td>Research &amp; Development</td>\n      <td>17</td>\n      <td>4</td>\n      <td>Other</td>\n      <td>1</td>\n      <td>3</td>\n      <td>Male</td>\n      <td>...</td>\n      <td>1.0</td>\n      <td>Y</td>\n      <td>15</td>\n      <td>8</td>\n      <td>3</td>\n      <td>5.0</td>\n      <td>2</td>\n      <td>5</td>\n      <td>0</td>\n      <td>3</td>\n    </tr>\n    <tr>\n      <td>3</td>\n      <td>38</td>\n      <td>No</td>\n      <td>Non-Travel</td>\n      <td>Research &amp; Development</td>\n      <td>2</td>\n      <td>5</td>\n      <td>Life Sciences</td>\n      <td>1</td>\n      <td>4</td>\n      <td>Male</td>\n      <td>...</td>\n      <td>3.0</td>\n      <td>Y</td>\n      <td>11</td>\n      <td>8</td>\n      <td>3</td>\n      <td>13.0</td>\n      <td>5</td>\n      <td>8</td>\n      <td>7</td>\n      <td>5</td>\n    </tr>\n    <tr>\n      <td>4</td>\n      <td>32</td>\n      <td>No</td>\n      <td>Travel_Rarely</td>\n      <td>Research &amp; Development</td>\n      <td>10</td>\n      <td>1</td>\n      <td>Medical</td>\n      <td>1</td>\n      <td>5</td>\n      <td>Male</td>\n      <td>...</td>\n      <td>4.0</td>\n      <td>Y</td>\n      <td>12</td>\n      <td>8</td>\n      <td>2</td>\n      <td>9.0</td>\n      <td>2</td>\n      <td>6</td>\n      <td>0</td>\n      <td>4</td>\n    </tr>\n    <tr>\n      <td>...</td>\n      <td>...</td>\n      <td>...</td>\n      <td>...</td>\n      <td>...</td>\n      <td>...</td>\n      <td>...</td>\n      <td>...</td>\n      <td>...</td>\n      <td>...</td>\n      <td>...</td>\n      <td>...</td>\n      <td>...</td>\n      <td>...</td>\n      <td>...</td>\n      <td>...</td>\n      <td>...</td>\n      <td>...</td>\n      <td>...</td>\n      <td>...</td>\n      <td>...</td>\n      <td>...</td>\n    </tr>\n    <tr>\n      <td>4405</td>\n      <td>42</td>\n      <td>No</td>\n      <td>Travel_Rarely</td>\n      <td>Research &amp; Development</td>\n      <td>5</td>\n      <td>4</td>\n      <td>Medical</td>\n      <td>1</td>\n      <td>4406</td>\n      <td>Female</td>\n      <td>...</td>\n      <td>3.0</td>\n      <td>Y</td>\n      <td>17</td>\n      <td>8</td>\n      <td>1</td>\n      <td>10.0</td>\n      <td>5</td>\n      <td>3</td>\n      <td>0</td>\n      <td>2</td>\n    </tr>\n    <tr>\n      <td>4406</td>\n      <td>29</td>\n      <td>No</td>\n      <td>Travel_Rarely</td>\n      <td>Research &amp; Development</td>\n      <td>2</td>\n      <td>4</td>\n      <td>Medical</td>\n      <td>1</td>\n      <td>4407</td>\n      <td>Male</td>\n      <td>...</td>\n      <td>2.0</td>\n      <td>Y</td>\n      <td>15</td>\n      <td>8</td>\n      <td>0</td>\n      <td>10.0</td>\n      <td>2</td>\n      <td>3</td>\n      <td>0</td>\n      <td>2</td>\n    </tr>\n    <tr>\n      <td>4407</td>\n      <td>25</td>\n      <td>No</td>\n      <td>Travel_Rarely</td>\n      <td>Research &amp; Development</td>\n      <td>25</td>\n      <td>2</td>\n      <td>Life Sciences</td>\n      <td>1</td>\n      <td>4408</td>\n      <td>Male</td>\n      <td>...</td>\n      <td>0.0</td>\n      <td>Y</td>\n      <td>20</td>\n      <td>8</td>\n      <td>0</td>\n      <td>5.0</td>\n      <td>4</td>\n      <td>4</td>\n      <td>1</td>\n      <td>2</td>\n    </tr>\n    <tr>\n      <td>4408</td>\n      <td>42</td>\n      <td>No</td>\n      <td>Travel_Rarely</td>\n      <td>Sales</td>\n      <td>18</td>\n      <td>2</td>\n      <td>Medical</td>\n      <td>1</td>\n      <td>4409</td>\n      <td>Male</td>\n      <td>...</td>\n      <td>0.0</td>\n      <td>Y</td>\n      <td>14</td>\n      <td>8</td>\n      <td>1</td>\n      <td>10.0</td>\n      <td>2</td>\n      <td>9</td>\n      <td>7</td>\n      <td>8</td>\n    </tr>\n    <tr>\n      <td>4409</td>\n      <td>40</td>\n      <td>No</td>\n      <td>Travel_Rarely</td>\n      <td>Research &amp; Development</td>\n      <td>28</td>\n      <td>3</td>\n      <td>Medical</td>\n      <td>1</td>\n      <td>4410</td>\n      <td>Male</td>\n      <td>...</td>\n      <td>0.0</td>\n      <td>Y</td>\n      <td>12</td>\n      <td>8</td>\n      <td>0</td>\n      <td>NaN</td>\n      <td>6</td>\n      <td>21</td>\n      <td>3</td>\n      <td>9</td>\n    </tr>\n  </tbody>\n</table>\n<p>4410 rows × 24 columns</p>\n</div>"
     },
     "metadata": {},
     "execution_count": 4
    }
   ],
   "source": [
    "data"
   ]
  },
  {
   "cell_type": "code",
   "execution_count": 5,
   "metadata": {},
   "outputs": [],
   "source": [
    "df = data.dropna()"
   ]
  },
  {
   "cell_type": "code",
   "execution_count": 6,
   "metadata": {},
   "outputs": [
    {
     "output_type": "execute_result",
     "data": {
      "text/plain": "      Age Attrition     BusinessTravel              Department  \\\n0      51        No      Travel_Rarely                   Sales   \n1      31       Yes  Travel_Frequently  Research & Development   \n2      32        No  Travel_Frequently  Research & Development   \n3      38        No         Non-Travel  Research & Development   \n4      32        No      Travel_Rarely  Research & Development   \n...   ...       ...                ...                     ...   \n4404   29        No      Travel_Rarely                   Sales   \n4405   42        No      Travel_Rarely  Research & Development   \n4406   29        No      Travel_Rarely  Research & Development   \n4407   25        No      Travel_Rarely  Research & Development   \n4408   42        No      Travel_Rarely                   Sales   \n\n      DistanceFromHome  Education EducationField  EmployeeCount  EmployeeID  \\\n0                    6          2  Life Sciences              1           1   \n1                   10          1  Life Sciences              1           2   \n2                   17          4          Other              1           3   \n3                    2          5  Life Sciences              1           4   \n4                   10          1        Medical              1           5   \n...                ...        ...            ...            ...         ...   \n4404                 4          3          Other              1        4405   \n4405                 5          4        Medical              1        4406   \n4406                 2          4        Medical              1        4407   \n4407                25          2  Life Sciences              1        4408   \n4408                18          2        Medical              1        4409   \n\n      Gender  ...  NumCompaniesWorked Over18 PercentSalaryHike  StandardHours  \\\n0     Female  ...                 1.0      Y                11              8   \n1     Female  ...                 0.0      Y                23              8   \n2       Male  ...                 1.0      Y                15              8   \n3       Male  ...                 3.0      Y                11              8   \n4       Male  ...                 4.0      Y                12              8   \n...      ...  ...                 ...    ...               ...            ...   \n4404  Female  ...                 1.0      Y                18              8   \n4405  Female  ...                 3.0      Y                17              8   \n4406    Male  ...                 2.0      Y                15              8   \n4407    Male  ...                 0.0      Y                20              8   \n4408    Male  ...                 0.0      Y                14              8   \n\n      StockOptionLevel TotalWorkingYears  TrainingTimesLastYear  \\\n0                    0               1.0                      6   \n1                    1               6.0                      3   \n2                    3               5.0                      2   \n3                    3              13.0                      5   \n4                    2               9.0                      2   \n...                ...               ...                    ...   \n4404                 0               6.0                      2   \n4405                 1              10.0                      5   \n4406                 0              10.0                      2   \n4407                 0               5.0                      4   \n4408                 1              10.0                      2   \n\n      YearsAtCompany  YearsSinceLastPromotion  YearsWithCurrManager  \n0                  1                        0                     0  \n1                  5                        1                     4  \n2                  5                        0                     3  \n3                  8                        7                     5  \n4                  6                        0                     4  \n...              ...                      ...                   ...  \n4404               6                        1                     5  \n4405               3                        0                     2  \n4406               3                        0                     2  \n4407               4                        1                     2  \n4408               9                        7                     8  \n\n[4382 rows x 24 columns]",
      "text/html": "<div>\n<style scoped>\n    .dataframe tbody tr th:only-of-type {\n        vertical-align: middle;\n    }\n\n    .dataframe tbody tr th {\n        vertical-align: top;\n    }\n\n    .dataframe thead th {\n        text-align: right;\n    }\n</style>\n<table border=\"1\" class=\"dataframe\">\n  <thead>\n    <tr style=\"text-align: right;\">\n      <th></th>\n      <th>Age</th>\n      <th>Attrition</th>\n      <th>BusinessTravel</th>\n      <th>Department</th>\n      <th>DistanceFromHome</th>\n      <th>Education</th>\n      <th>EducationField</th>\n      <th>EmployeeCount</th>\n      <th>EmployeeID</th>\n      <th>Gender</th>\n      <th>...</th>\n      <th>NumCompaniesWorked</th>\n      <th>Over18</th>\n      <th>PercentSalaryHike</th>\n      <th>StandardHours</th>\n      <th>StockOptionLevel</th>\n      <th>TotalWorkingYears</th>\n      <th>TrainingTimesLastYear</th>\n      <th>YearsAtCompany</th>\n      <th>YearsSinceLastPromotion</th>\n      <th>YearsWithCurrManager</th>\n    </tr>\n  </thead>\n  <tbody>\n    <tr>\n      <td>0</td>\n      <td>51</td>\n      <td>No</td>\n      <td>Travel_Rarely</td>\n      <td>Sales</td>\n      <td>6</td>\n      <td>2</td>\n      <td>Life Sciences</td>\n      <td>1</td>\n      <td>1</td>\n      <td>Female</td>\n      <td>...</td>\n      <td>1.0</td>\n      <td>Y</td>\n      <td>11</td>\n      <td>8</td>\n      <td>0</td>\n      <td>1.0</td>\n      <td>6</td>\n      <td>1</td>\n      <td>0</td>\n      <td>0</td>\n    </tr>\n    <tr>\n      <td>1</td>\n      <td>31</td>\n      <td>Yes</td>\n      <td>Travel_Frequently</td>\n      <td>Research &amp; Development</td>\n      <td>10</td>\n      <td>1</td>\n      <td>Life Sciences</td>\n      <td>1</td>\n      <td>2</td>\n      <td>Female</td>\n      <td>...</td>\n      <td>0.0</td>\n      <td>Y</td>\n      <td>23</td>\n      <td>8</td>\n      <td>1</td>\n      <td>6.0</td>\n      <td>3</td>\n      <td>5</td>\n      <td>1</td>\n      <td>4</td>\n    </tr>\n    <tr>\n      <td>2</td>\n      <td>32</td>\n      <td>No</td>\n      <td>Travel_Frequently</td>\n      <td>Research &amp; Development</td>\n      <td>17</td>\n      <td>4</td>\n      <td>Other</td>\n      <td>1</td>\n      <td>3</td>\n      <td>Male</td>\n      <td>...</td>\n      <td>1.0</td>\n      <td>Y</td>\n      <td>15</td>\n      <td>8</td>\n      <td>3</td>\n      <td>5.0</td>\n      <td>2</td>\n      <td>5</td>\n      <td>0</td>\n      <td>3</td>\n    </tr>\n    <tr>\n      <td>3</td>\n      <td>38</td>\n      <td>No</td>\n      <td>Non-Travel</td>\n      <td>Research &amp; Development</td>\n      <td>2</td>\n      <td>5</td>\n      <td>Life Sciences</td>\n      <td>1</td>\n      <td>4</td>\n      <td>Male</td>\n      <td>...</td>\n      <td>3.0</td>\n      <td>Y</td>\n      <td>11</td>\n      <td>8</td>\n      <td>3</td>\n      <td>13.0</td>\n      <td>5</td>\n      <td>8</td>\n      <td>7</td>\n      <td>5</td>\n    </tr>\n    <tr>\n      <td>4</td>\n      <td>32</td>\n      <td>No</td>\n      <td>Travel_Rarely</td>\n      <td>Research &amp; Development</td>\n      <td>10</td>\n      <td>1</td>\n      <td>Medical</td>\n      <td>1</td>\n      <td>5</td>\n      <td>Male</td>\n      <td>...</td>\n      <td>4.0</td>\n      <td>Y</td>\n      <td>12</td>\n      <td>8</td>\n      <td>2</td>\n      <td>9.0</td>\n      <td>2</td>\n      <td>6</td>\n      <td>0</td>\n      <td>4</td>\n    </tr>\n    <tr>\n      <td>...</td>\n      <td>...</td>\n      <td>...</td>\n      <td>...</td>\n      <td>...</td>\n      <td>...</td>\n      <td>...</td>\n      <td>...</td>\n      <td>...</td>\n      <td>...</td>\n      <td>...</td>\n      <td>...</td>\n      <td>...</td>\n      <td>...</td>\n      <td>...</td>\n      <td>...</td>\n      <td>...</td>\n      <td>...</td>\n      <td>...</td>\n      <td>...</td>\n      <td>...</td>\n      <td>...</td>\n    </tr>\n    <tr>\n      <td>4404</td>\n      <td>29</td>\n      <td>No</td>\n      <td>Travel_Rarely</td>\n      <td>Sales</td>\n      <td>4</td>\n      <td>3</td>\n      <td>Other</td>\n      <td>1</td>\n      <td>4405</td>\n      <td>Female</td>\n      <td>...</td>\n      <td>1.0</td>\n      <td>Y</td>\n      <td>18</td>\n      <td>8</td>\n      <td>0</td>\n      <td>6.0</td>\n      <td>2</td>\n      <td>6</td>\n      <td>1</td>\n      <td>5</td>\n    </tr>\n    <tr>\n      <td>4405</td>\n      <td>42</td>\n      <td>No</td>\n      <td>Travel_Rarely</td>\n      <td>Research &amp; Development</td>\n      <td>5</td>\n      <td>4</td>\n      <td>Medical</td>\n      <td>1</td>\n      <td>4406</td>\n      <td>Female</td>\n      <td>...</td>\n      <td>3.0</td>\n      <td>Y</td>\n      <td>17</td>\n      <td>8</td>\n      <td>1</td>\n      <td>10.0</td>\n      <td>5</td>\n      <td>3</td>\n      <td>0</td>\n      <td>2</td>\n    </tr>\n    <tr>\n      <td>4406</td>\n      <td>29</td>\n      <td>No</td>\n      <td>Travel_Rarely</td>\n      <td>Research &amp; Development</td>\n      <td>2</td>\n      <td>4</td>\n      <td>Medical</td>\n      <td>1</td>\n      <td>4407</td>\n      <td>Male</td>\n      <td>...</td>\n      <td>2.0</td>\n      <td>Y</td>\n      <td>15</td>\n      <td>8</td>\n      <td>0</td>\n      <td>10.0</td>\n      <td>2</td>\n      <td>3</td>\n      <td>0</td>\n      <td>2</td>\n    </tr>\n    <tr>\n      <td>4407</td>\n      <td>25</td>\n      <td>No</td>\n      <td>Travel_Rarely</td>\n      <td>Research &amp; Development</td>\n      <td>25</td>\n      <td>2</td>\n      <td>Life Sciences</td>\n      <td>1</td>\n      <td>4408</td>\n      <td>Male</td>\n      <td>...</td>\n      <td>0.0</td>\n      <td>Y</td>\n      <td>20</td>\n      <td>8</td>\n      <td>0</td>\n      <td>5.0</td>\n      <td>4</td>\n      <td>4</td>\n      <td>1</td>\n      <td>2</td>\n    </tr>\n    <tr>\n      <td>4408</td>\n      <td>42</td>\n      <td>No</td>\n      <td>Travel_Rarely</td>\n      <td>Sales</td>\n      <td>18</td>\n      <td>2</td>\n      <td>Medical</td>\n      <td>1</td>\n      <td>4409</td>\n      <td>Male</td>\n      <td>...</td>\n      <td>0.0</td>\n      <td>Y</td>\n      <td>14</td>\n      <td>8</td>\n      <td>1</td>\n      <td>10.0</td>\n      <td>2</td>\n      <td>9</td>\n      <td>7</td>\n      <td>8</td>\n    </tr>\n  </tbody>\n</table>\n<p>4382 rows × 24 columns</p>\n</div>"
     },
     "metadata": {},
     "execution_count": 6
    }
   ],
   "source": [
    "df"
   ]
  },
  {
   "cell_type": "code",
   "execution_count": 7,
   "metadata": {},
   "outputs": [],
   "source": [
    "from sklearn.preprocessing import LabelEncoder\n",
    "ec=LabelEncoder()\n",
    "df['Attrition']=ec.fit_transform(df['Attrition'])\n",
    "df['BusinessTravel'] = ec.fit_transform(df['BusinessTravel'])\n",
    "df['Gender'] = ec.fit_transform(df['Gender'])\n",
    "df['Department'] = ec.fit_transform(df['Department'])\n",
    "df['EducationField'] = ec.fit_transform(df['EducationField'])\n",
    "df['Over18'] = ec.fit_transform(df['Over18'])\n",
    "df['JobRole'] = ec.fit_transform(df['JobRole'])\n",
    "df['MaritalStatus'] = ec.fit_transform(df['MaritalStatus'])\n"
   ]
  },
  {
   "cell_type": "code",
   "execution_count": 8,
   "metadata": {},
   "outputs": [
    {
     "output_type": "execute_result",
     "data": {
      "text/plain": "      Age  Attrition  BusinessTravel  Department  DistanceFromHome  Education  \\\n0      51          0               2           2                 6          2   \n1      31          1               1           1                10          1   \n2      32          0               1           1                17          4   \n3      38          0               0           1                 2          5   \n4      32          0               2           1                10          1   \n...   ...        ...             ...         ...               ...        ...   \n4404   29          0               2           2                 4          3   \n4405   42          0               2           1                 5          4   \n4406   29          0               2           1                 2          4   \n4407   25          0               2           1                25          2   \n4408   42          0               2           2                18          2   \n\n      EducationField  EmployeeCount  EmployeeID  Gender  ...  \\\n0                  1              1           1       0  ...   \n1                  1              1           2       0  ...   \n2                  4              1           3       1  ...   \n3                  1              1           4       1  ...   \n4                  3              1           5       1  ...   \n...              ...            ...         ...     ...  ...   \n4404               4              1        4405       0  ...   \n4405               3              1        4406       0  ...   \n4406               3              1        4407       1  ...   \n4407               1              1        4408       1  ...   \n4408               3              1        4409       1  ...   \n\n      NumCompaniesWorked  Over18  PercentSalaryHike  StandardHours  \\\n0                    1.0       0                 11              8   \n1                    0.0       0                 23              8   \n2                    1.0       0                 15              8   \n3                    3.0       0                 11              8   \n4                    4.0       0                 12              8   \n...                  ...     ...                ...            ...   \n4404                 1.0       0                 18              8   \n4405                 3.0       0                 17              8   \n4406                 2.0       0                 15              8   \n4407                 0.0       0                 20              8   \n4408                 0.0       0                 14              8   \n\n      StockOptionLevel  TotalWorkingYears  TrainingTimesLastYear  \\\n0                    0                1.0                      6   \n1                    1                6.0                      3   \n2                    3                5.0                      2   \n3                    3               13.0                      5   \n4                    2                9.0                      2   \n...                ...                ...                    ...   \n4404                 0                6.0                      2   \n4405                 1               10.0                      5   \n4406                 0               10.0                      2   \n4407                 0                5.0                      4   \n4408                 1               10.0                      2   \n\n      YearsAtCompany  YearsSinceLastPromotion  YearsWithCurrManager  \n0                  1                        0                     0  \n1                  5                        1                     4  \n2                  5                        0                     3  \n3                  8                        7                     5  \n4                  6                        0                     4  \n...              ...                      ...                   ...  \n4404               6                        1                     5  \n4405               3                        0                     2  \n4406               3                        0                     2  \n4407               4                        1                     2  \n4408               9                        7                     8  \n\n[4382 rows x 24 columns]",
      "text/html": "<div>\n<style scoped>\n    .dataframe tbody tr th:only-of-type {\n        vertical-align: middle;\n    }\n\n    .dataframe tbody tr th {\n        vertical-align: top;\n    }\n\n    .dataframe thead th {\n        text-align: right;\n    }\n</style>\n<table border=\"1\" class=\"dataframe\">\n  <thead>\n    <tr style=\"text-align: right;\">\n      <th></th>\n      <th>Age</th>\n      <th>Attrition</th>\n      <th>BusinessTravel</th>\n      <th>Department</th>\n      <th>DistanceFromHome</th>\n      <th>Education</th>\n      <th>EducationField</th>\n      <th>EmployeeCount</th>\n      <th>EmployeeID</th>\n      <th>Gender</th>\n      <th>...</th>\n      <th>NumCompaniesWorked</th>\n      <th>Over18</th>\n      <th>PercentSalaryHike</th>\n      <th>StandardHours</th>\n      <th>StockOptionLevel</th>\n      <th>TotalWorkingYears</th>\n      <th>TrainingTimesLastYear</th>\n      <th>YearsAtCompany</th>\n      <th>YearsSinceLastPromotion</th>\n      <th>YearsWithCurrManager</th>\n    </tr>\n  </thead>\n  <tbody>\n    <tr>\n      <td>0</td>\n      <td>51</td>\n      <td>0</td>\n      <td>2</td>\n      <td>2</td>\n      <td>6</td>\n      <td>2</td>\n      <td>1</td>\n      <td>1</td>\n      <td>1</td>\n      <td>0</td>\n      <td>...</td>\n      <td>1.0</td>\n      <td>0</td>\n      <td>11</td>\n      <td>8</td>\n      <td>0</td>\n      <td>1.0</td>\n      <td>6</td>\n      <td>1</td>\n      <td>0</td>\n      <td>0</td>\n    </tr>\n    <tr>\n      <td>1</td>\n      <td>31</td>\n      <td>1</td>\n      <td>1</td>\n      <td>1</td>\n      <td>10</td>\n      <td>1</td>\n      <td>1</td>\n      <td>1</td>\n      <td>2</td>\n      <td>0</td>\n      <td>...</td>\n      <td>0.0</td>\n      <td>0</td>\n      <td>23</td>\n      <td>8</td>\n      <td>1</td>\n      <td>6.0</td>\n      <td>3</td>\n      <td>5</td>\n      <td>1</td>\n      <td>4</td>\n    </tr>\n    <tr>\n      <td>2</td>\n      <td>32</td>\n      <td>0</td>\n      <td>1</td>\n      <td>1</td>\n      <td>17</td>\n      <td>4</td>\n      <td>4</td>\n      <td>1</td>\n      <td>3</td>\n      <td>1</td>\n      <td>...</td>\n      <td>1.0</td>\n      <td>0</td>\n      <td>15</td>\n      <td>8</td>\n      <td>3</td>\n      <td>5.0</td>\n      <td>2</td>\n      <td>5</td>\n      <td>0</td>\n      <td>3</td>\n    </tr>\n    <tr>\n      <td>3</td>\n      <td>38</td>\n      <td>0</td>\n      <td>0</td>\n      <td>1</td>\n      <td>2</td>\n      <td>5</td>\n      <td>1</td>\n      <td>1</td>\n      <td>4</td>\n      <td>1</td>\n      <td>...</td>\n      <td>3.0</td>\n      <td>0</td>\n      <td>11</td>\n      <td>8</td>\n      <td>3</td>\n      <td>13.0</td>\n      <td>5</td>\n      <td>8</td>\n      <td>7</td>\n      <td>5</td>\n    </tr>\n    <tr>\n      <td>4</td>\n      <td>32</td>\n      <td>0</td>\n      <td>2</td>\n      <td>1</td>\n      <td>10</td>\n      <td>1</td>\n      <td>3</td>\n      <td>1</td>\n      <td>5</td>\n      <td>1</td>\n      <td>...</td>\n      <td>4.0</td>\n      <td>0</td>\n      <td>12</td>\n      <td>8</td>\n      <td>2</td>\n      <td>9.0</td>\n      <td>2</td>\n      <td>6</td>\n      <td>0</td>\n      <td>4</td>\n    </tr>\n    <tr>\n      <td>...</td>\n      <td>...</td>\n      <td>...</td>\n      <td>...</td>\n      <td>...</td>\n      <td>...</td>\n      <td>...</td>\n      <td>...</td>\n      <td>...</td>\n      <td>...</td>\n      <td>...</td>\n      <td>...</td>\n      <td>...</td>\n      <td>...</td>\n      <td>...</td>\n      <td>...</td>\n      <td>...</td>\n      <td>...</td>\n      <td>...</td>\n      <td>...</td>\n      <td>...</td>\n      <td>...</td>\n    </tr>\n    <tr>\n      <td>4404</td>\n      <td>29</td>\n      <td>0</td>\n      <td>2</td>\n      <td>2</td>\n      <td>4</td>\n      <td>3</td>\n      <td>4</td>\n      <td>1</td>\n      <td>4405</td>\n      <td>0</td>\n      <td>...</td>\n      <td>1.0</td>\n      <td>0</td>\n      <td>18</td>\n      <td>8</td>\n      <td>0</td>\n      <td>6.0</td>\n      <td>2</td>\n      <td>6</td>\n      <td>1</td>\n      <td>5</td>\n    </tr>\n    <tr>\n      <td>4405</td>\n      <td>42</td>\n      <td>0</td>\n      <td>2</td>\n      <td>1</td>\n      <td>5</td>\n      <td>4</td>\n      <td>3</td>\n      <td>1</td>\n      <td>4406</td>\n      <td>0</td>\n      <td>...</td>\n      <td>3.0</td>\n      <td>0</td>\n      <td>17</td>\n      <td>8</td>\n      <td>1</td>\n      <td>10.0</td>\n      <td>5</td>\n      <td>3</td>\n      <td>0</td>\n      <td>2</td>\n    </tr>\n    <tr>\n      <td>4406</td>\n      <td>29</td>\n      <td>0</td>\n      <td>2</td>\n      <td>1</td>\n      <td>2</td>\n      <td>4</td>\n      <td>3</td>\n      <td>1</td>\n      <td>4407</td>\n      <td>1</td>\n      <td>...</td>\n      <td>2.0</td>\n      <td>0</td>\n      <td>15</td>\n      <td>8</td>\n      <td>0</td>\n      <td>10.0</td>\n      <td>2</td>\n      <td>3</td>\n      <td>0</td>\n      <td>2</td>\n    </tr>\n    <tr>\n      <td>4407</td>\n      <td>25</td>\n      <td>0</td>\n      <td>2</td>\n      <td>1</td>\n      <td>25</td>\n      <td>2</td>\n      <td>1</td>\n      <td>1</td>\n      <td>4408</td>\n      <td>1</td>\n      <td>...</td>\n      <td>0.0</td>\n      <td>0</td>\n      <td>20</td>\n      <td>8</td>\n      <td>0</td>\n      <td>5.0</td>\n      <td>4</td>\n      <td>4</td>\n      <td>1</td>\n      <td>2</td>\n    </tr>\n    <tr>\n      <td>4408</td>\n      <td>42</td>\n      <td>0</td>\n      <td>2</td>\n      <td>2</td>\n      <td>18</td>\n      <td>2</td>\n      <td>3</td>\n      <td>1</td>\n      <td>4409</td>\n      <td>1</td>\n      <td>...</td>\n      <td>0.0</td>\n      <td>0</td>\n      <td>14</td>\n      <td>8</td>\n      <td>1</td>\n      <td>10.0</td>\n      <td>2</td>\n      <td>9</td>\n      <td>7</td>\n      <td>8</td>\n    </tr>\n  </tbody>\n</table>\n<p>4382 rows × 24 columns</p>\n</div>"
     },
     "metadata": {},
     "execution_count": 8
    }
   ],
   "source": [
    "df"
   ]
  },
  {
   "cell_type": "code",
   "execution_count": 9,
   "metadata": {},
   "outputs": [],
   "source": [
    "y = df[['Attrition']]"
   ]
  },
  {
   "cell_type": "code",
   "execution_count": 10,
   "metadata": {},
   "outputs": [
    {
     "output_type": "execute_result",
     "data": {
      "text/plain": "(4382, 1)"
     },
     "metadata": {},
     "execution_count": 10
    }
   ],
   "source": [
    "\n",
    "y.shape"
   ]
  },
  {
   "cell_type": "code",
   "execution_count": 11,
   "metadata": {},
   "outputs": [],
   "source": [
    "x = df.drop('Attrition',axis = 1)\n",
    "df_x = x.drop('EmployeeID',axis = 1)\n",
    "df_X = df_x[['Age', 'BusinessTravel', 'Department', 'DistanceFromHome', 'Education',\n",
    "       'EducationField',  'Gender', 'JobLevel', 'JobRole',\n",
    "       'MaritalStatus', 'MonthlyIncome', 'NumCompaniesWorked',\n",
    "       'PercentSalaryHike', 'StockOptionLevel',\n",
    "       'TotalWorkingYears', 'TrainingTimesLastYear', 'YearsAtCompany',\n",
    "       'YearsSinceLastPromotion', 'YearsWithCurrManager']]"
   ]
  },
  {
   "cell_type": "code",
   "execution_count": 13,
   "metadata": {},
   "outputs": [
    {
     "output_type": "execute_result",
     "data": {
      "text/plain": "(4382, 19)"
     },
     "metadata": {},
     "execution_count": 13
    }
   ],
   "source": [
    "\n",
    "df_X.shape"
   ]
  },
  {
   "cell_type": "code",
   "execution_count": 14,
   "metadata": {},
   "outputs": [],
   "source": [
    "x1 = sm.add_constant(df_X)"
   ]
  },
  {
   "cell_type": "code",
   "execution_count": 15,
   "metadata": {},
   "outputs": [],
   "source": [
    "logistic = sm.Logit(y,x1)"
   ]
  },
  {
   "cell_type": "code",
   "execution_count": 16,
   "metadata": {
    "tags": []
   },
   "outputs": [
    {
     "output_type": "stream",
     "name": "stdout",
     "text": "Optimization terminated successfully.\n         Current function value: 0.392916\n         Iterations 7\n"
    }
   ],
   "source": [
    "result = logistic.fit()"
   ]
  },
  {
   "cell_type": "code",
   "execution_count": 17,
   "metadata": {},
   "outputs": [
    {
     "output_type": "execute_result",
     "data": {
      "text/plain": "<class 'statsmodels.iolib.summary.Summary'>\n\"\"\"\n                           Logit Regression Results                           \n==============================================================================\nDep. Variable:              Attrition   No. Observations:                 4382\nModel:                          Logit   Df Residuals:                     4362\nMethod:                           MLE   Df Model:                           19\nDate:                Fri, 07 Aug 2020   Pseudo R-squ.:                  0.1093\nTime:                        23:42:30   Log-Likelihood:                -1721.8\nconverged:                       True   LL-Null:                       -1933.1\nCovariance Type:            nonrobust   LLR p-value:                 8.681e-78\n===========================================================================================\n                              coef    std err          z      P>|z|      [0.025      0.975]\n-------------------------------------------------------------------------------------------\nconst                       0.0270      0.414      0.065      0.948      -0.785       0.839\nAge                        -0.0307      0.007     -4.478      0.000      -0.044      -0.017\nBusinessTravel             -0.0137      0.066     -0.209      0.834      -0.143       0.115\nDepartment                 -0.2229      0.082     -2.735      0.006      -0.383      -0.063\nDistanceFromHome           -0.0012      0.005     -0.231      0.818      -0.012       0.009\nEducation                  -0.0664      0.043     -1.555      0.120      -0.150       0.017\nEducationField             -0.0954      0.034     -2.849      0.004      -0.161      -0.030\nGender                      0.0855      0.090      0.952      0.341      -0.091       0.262\nJobLevel                   -0.0285      0.040     -0.716      0.474      -0.107       0.050\nJobRole                     0.0400      0.018      2.226      0.026       0.005       0.075\nMaritalStatus               0.5835      0.063      9.212      0.000       0.459       0.708\nMonthlyIncome           -1.815e-06   9.57e-07     -1.897      0.058   -3.69e-06    6.01e-08\nNumCompaniesWorked          0.1174      0.018      6.390      0.000       0.081       0.153\nPercentSalaryHike           0.0126      0.012      1.067      0.286      -0.011       0.036\nStockOptionLevel           -0.0675      0.052     -1.302      0.193      -0.169       0.034\nTotalWorkingYears          -0.0584      0.012     -4.873      0.000      -0.082      -0.035\nTrainingTimesLastYear      -0.1443      0.035     -4.097      0.000      -0.213      -0.075\nYearsAtCompany              0.0132      0.018      0.718      0.473      -0.023       0.049\nYearsSinceLastPromotion     0.1328      0.020      6.479      0.000       0.093       0.173\nYearsWithCurrManager       -0.1394      0.022     -6.288      0.000      -0.183      -0.096\n===========================================================================================\n\"\"\"",
      "text/html": "<table class=\"simpletable\">\n<caption>Logit Regression Results</caption>\n<tr>\n  <th>Dep. Variable:</th>       <td>Attrition</td>    <th>  No. Observations:  </th>  <td>  4382</td>  \n</tr>\n<tr>\n  <th>Model:</th>                 <td>Logit</td>      <th>  Df Residuals:      </th>  <td>  4362</td>  \n</tr>\n<tr>\n  <th>Method:</th>                 <td>MLE</td>       <th>  Df Model:          </th>  <td>    19</td>  \n</tr>\n<tr>\n  <th>Date:</th>            <td>Fri, 07 Aug 2020</td> <th>  Pseudo R-squ.:     </th>  <td>0.1093</td>  \n</tr>\n<tr>\n  <th>Time:</th>                <td>23:42:30</td>     <th>  Log-Likelihood:    </th> <td> -1721.8</td> \n</tr>\n<tr>\n  <th>converged:</th>             <td>True</td>       <th>  LL-Null:           </th> <td> -1933.1</td> \n</tr>\n<tr>\n  <th>Covariance Type:</th>     <td>nonrobust</td>    <th>  LLR p-value:       </th> <td>8.681e-78</td>\n</tr>\n</table>\n<table class=\"simpletable\">\n<tr>\n             <td></td>                <th>coef</th>     <th>std err</th>      <th>z</th>      <th>P>|z|</th>  <th>[0.025</th>    <th>0.975]</th>  \n</tr>\n<tr>\n  <th>const</th>                   <td>    0.0270</td> <td>    0.414</td> <td>    0.065</td> <td> 0.948</td> <td>   -0.785</td> <td>    0.839</td>\n</tr>\n<tr>\n  <th>Age</th>                     <td>   -0.0307</td> <td>    0.007</td> <td>   -4.478</td> <td> 0.000</td> <td>   -0.044</td> <td>   -0.017</td>\n</tr>\n<tr>\n  <th>BusinessTravel</th>          <td>   -0.0137</td> <td>    0.066</td> <td>   -0.209</td> <td> 0.834</td> <td>   -0.143</td> <td>    0.115</td>\n</tr>\n<tr>\n  <th>Department</th>              <td>   -0.2229</td> <td>    0.082</td> <td>   -2.735</td> <td> 0.006</td> <td>   -0.383</td> <td>   -0.063</td>\n</tr>\n<tr>\n  <th>DistanceFromHome</th>        <td>   -0.0012</td> <td>    0.005</td> <td>   -0.231</td> <td> 0.818</td> <td>   -0.012</td> <td>    0.009</td>\n</tr>\n<tr>\n  <th>Education</th>               <td>   -0.0664</td> <td>    0.043</td> <td>   -1.555</td> <td> 0.120</td> <td>   -0.150</td> <td>    0.017</td>\n</tr>\n<tr>\n  <th>EducationField</th>          <td>   -0.0954</td> <td>    0.034</td> <td>   -2.849</td> <td> 0.004</td> <td>   -0.161</td> <td>   -0.030</td>\n</tr>\n<tr>\n  <th>Gender</th>                  <td>    0.0855</td> <td>    0.090</td> <td>    0.952</td> <td> 0.341</td> <td>   -0.091</td> <td>    0.262</td>\n</tr>\n<tr>\n  <th>JobLevel</th>                <td>   -0.0285</td> <td>    0.040</td> <td>   -0.716</td> <td> 0.474</td> <td>   -0.107</td> <td>    0.050</td>\n</tr>\n<tr>\n  <th>JobRole</th>                 <td>    0.0400</td> <td>    0.018</td> <td>    2.226</td> <td> 0.026</td> <td>    0.005</td> <td>    0.075</td>\n</tr>\n<tr>\n  <th>MaritalStatus</th>           <td>    0.5835</td> <td>    0.063</td> <td>    9.212</td> <td> 0.000</td> <td>    0.459</td> <td>    0.708</td>\n</tr>\n<tr>\n  <th>MonthlyIncome</th>           <td>-1.815e-06</td> <td> 9.57e-07</td> <td>   -1.897</td> <td> 0.058</td> <td>-3.69e-06</td> <td> 6.01e-08</td>\n</tr>\n<tr>\n  <th>NumCompaniesWorked</th>      <td>    0.1174</td> <td>    0.018</td> <td>    6.390</td> <td> 0.000</td> <td>    0.081</td> <td>    0.153</td>\n</tr>\n<tr>\n  <th>PercentSalaryHike</th>       <td>    0.0126</td> <td>    0.012</td> <td>    1.067</td> <td> 0.286</td> <td>   -0.011</td> <td>    0.036</td>\n</tr>\n<tr>\n  <th>StockOptionLevel</th>        <td>   -0.0675</td> <td>    0.052</td> <td>   -1.302</td> <td> 0.193</td> <td>   -0.169</td> <td>    0.034</td>\n</tr>\n<tr>\n  <th>TotalWorkingYears</th>       <td>   -0.0584</td> <td>    0.012</td> <td>   -4.873</td> <td> 0.000</td> <td>   -0.082</td> <td>   -0.035</td>\n</tr>\n<tr>\n  <th>TrainingTimesLastYear</th>   <td>   -0.1443</td> <td>    0.035</td> <td>   -4.097</td> <td> 0.000</td> <td>   -0.213</td> <td>   -0.075</td>\n</tr>\n<tr>\n  <th>YearsAtCompany</th>          <td>    0.0132</td> <td>    0.018</td> <td>    0.718</td> <td> 0.473</td> <td>   -0.023</td> <td>    0.049</td>\n</tr>\n<tr>\n  <th>YearsSinceLastPromotion</th> <td>    0.1328</td> <td>    0.020</td> <td>    6.479</td> <td> 0.000</td> <td>    0.093</td> <td>    0.173</td>\n</tr>\n<tr>\n  <th>YearsWithCurrManager</th>    <td>   -0.1394</td> <td>    0.022</td> <td>   -6.288</td> <td> 0.000</td> <td>   -0.183</td> <td>   -0.096</td>\n</tr>\n</table>"
     },
     "metadata": {},
     "execution_count": 17
    }
   ],
   "source": [
    "result.summary()"
   ]
  },
  {
   "cell_type": "code",
   "execution_count": null,
   "metadata": {},
   "outputs": [],
   "source": []
  }
 ]
}