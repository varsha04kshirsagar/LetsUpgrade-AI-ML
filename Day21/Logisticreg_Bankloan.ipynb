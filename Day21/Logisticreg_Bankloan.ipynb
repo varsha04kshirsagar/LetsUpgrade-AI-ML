{
 "metadata": {
  "language_info": {
   "codemirror_mode": {
    "name": "ipython",
    "version": 3
   },
   "file_extension": ".py",
   "mimetype": "text/x-python",
   "name": "python",
   "nbconvert_exporter": "python",
   "pygments_lexer": "ipython3",
   "version": 3
  },
  "orig_nbformat": 2,
  "kernelspec": {
   "name": "python_defaultSpec_1596790779469",
   "display_name": "Python 3.7.4 64-bit ('base': conda)"
  }
 },
 "nbformat": 4,
 "nbformat_minor": 2,
 "cells": [
  {
   "cell_type": "code",
   "execution_count": 1,
   "metadata": {},
   "outputs": [],
   "source": [
    "import pandas as pd\n",
    "import numpy as np \n",
    "import matplotlib.pyplot as plt\n",
    "import statsmodels.api as sm\n",
    "from sklearn import linear_model\n",
    "import math\n",
    "import seaborn as sns"
   ]
  },
  {
   "cell_type": "code",
   "execution_count": 5,
   "metadata": {},
   "outputs": [],
   "source": [
    "data = pd.read_excel('Bank_Personal_Loan_Modelling.xlsx',sheet_name=1)"
   ]
  },
  {
   "cell_type": "code",
   "execution_count": 7,
   "metadata": {},
   "outputs": [
    {
     "output_type": "execute_result",
     "data": {
      "text/plain": "<bound method NDFrame.head of         ID  Age  Experience  Income  ZIP Code  Family  CCAvg  Education  \\\n0        1   25           1      49     91107       4    1.6          1   \n1        2   45          19      34     90089       3    1.5          1   \n2        3   39          15      11     94720       1    1.0          1   \n3        4   35           9     100     94112       1    2.7          2   \n4        5   35           8      45     91330       4    1.0          2   \n...    ...  ...         ...     ...       ...     ...    ...        ...   \n4995  4996   29           3      40     92697       1    1.9          3   \n4996  4997   30           4      15     92037       4    0.4          1   \n4997  4998   63          39      24     93023       2    0.3          3   \n4998  4999   65          40      49     90034       3    0.5          2   \n4999  5000   28           4      83     92612       3    0.8          1   \n\n      Mortgage  Personal Loan  Securities Account  CD Account  Online  \\\n0            0              0                   1           0       0   \n1            0              0                   1           0       0   \n2            0              0                   0           0       0   \n3            0              0                   0           0       0   \n4            0              0                   0           0       0   \n...        ...            ...                 ...         ...     ...   \n4995         0              0                   0           0       1   \n4996        85              0                   0           0       1   \n4997         0              0                   0           0       0   \n4998         0              0                   0           0       1   \n4999         0              0                   0           0       1   \n\n      CreditCard  \n0              0  \n1              0  \n2              0  \n3              0  \n4              1  \n...          ...  \n4995           0  \n4996           0  \n4997           0  \n4998           0  \n4999           1  \n\n[5000 rows x 14 columns]>"
     },
     "metadata": {},
     "execution_count": 7
    }
   ],
   "source": [
    "data.head"
   ]
  },
  {
   "cell_type": "code",
   "execution_count": null,
   "metadata": {},
   "outputs": [],
   "source": []
  }
 ]
}