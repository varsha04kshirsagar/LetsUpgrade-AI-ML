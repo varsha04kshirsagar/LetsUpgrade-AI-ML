{
 "metadata": {
  "language_info": {
   "codemirror_mode": {
    "name": "ipython",
    "version": 3
   },
   "file_extension": ".py",
   "mimetype": "text/x-python",
   "name": "python",
   "nbconvert_exporter": "python",
   "pygments_lexer": "ipython3",
   "version": 3
  },
  "orig_nbformat": 2,
  "kernelspec": {
   "name": "python_defaultSpec_1596816593672",
   "display_name": "Python 3.7.4 64-bit ('base': conda)"
  }
 },
 "nbformat": 4,
 "nbformat_minor": 2,
 "cells": [
  {
   "cell_type": "code",
   "execution_count": 3,
   "metadata": {},
   "outputs": [],
   "source": [
    "import pandas as pd\n",
    "import numpy as np \n",
    "import matplotlib.pyplot as plt\n",
    "import statsmodels.api as sm\n",
    "from sklearn import linear_model\n",
    "import math\n",
    "import seaborn as sns"
   ]
  },
  {
   "cell_type": "code",
   "execution_count": 4,
   "metadata": {},
   "outputs": [],
   "source": [
    "data = pd.read_excel('Bank_Personal_Loan_Modelling.xlsx',sheet_name=1)"
   ]
  },
  {
   "cell_type": "code",
   "execution_count": 5,
   "metadata": {},
   "outputs": [
    {
     "output_type": "execute_result",
     "data": {
      "text/plain": "<bound method NDFrame.head of         ID  Age  Experience  Income  ZIP Code  Family  CCAvg  Education  \\\n0        1   25           1      49     91107       4    1.6          1   \n1        2   45          19      34     90089       3    1.5          1   \n2        3   39          15      11     94720       1    1.0          1   \n3        4   35           9     100     94112       1    2.7          2   \n4        5   35           8      45     91330       4    1.0          2   \n...    ...  ...         ...     ...       ...     ...    ...        ...   \n4995  4996   29           3      40     92697       1    1.9          3   \n4996  4997   30           4      15     92037       4    0.4          1   \n4997  4998   63          39      24     93023       2    0.3          3   \n4998  4999   65          40      49     90034       3    0.5          2   \n4999  5000   28           4      83     92612       3    0.8          1   \n\n      Mortgage  Personal Loan  Securities Account  CD Account  Online  \\\n0            0              0                   1           0       0   \n1            0              0                   1           0       0   \n2            0              0                   0           0       0   \n3            0              0                   0           0       0   \n4            0              0                   0           0       0   \n...        ...            ...                 ...         ...     ...   \n4995         0              0                   0           0       1   \n4996        85              0                   0           0       1   \n4997         0              0                   0           0       0   \n4998         0              0                   0           0       1   \n4999         0              0                   0           0       1   \n\n      CreditCard  \n0              0  \n1              0  \n2              0  \n3              0  \n4              1  \n...          ...  \n4995           0  \n4996           0  \n4997           0  \n4998           0  \n4999           1  \n\n[5000 rows x 14 columns]>"
     },
     "metadata": {},
     "execution_count": 5
    }
   ],
   "source": [
    "data.head"
   ]
  },
  {
   "cell_type": "code",
   "execution_count": 6,
   "metadata": {},
   "outputs": [],
   "source": [
    "y = data[['Personal Loan']]"
   ]
  },
  {
   "cell_type": "code",
   "execution_count": 7,
   "metadata": {},
   "outputs": [
    {
     "output_type": "execute_result",
     "data": {
      "text/plain": "      Personal Loan\n0                 0\n1                 0\n2                 0\n3                 0\n4                 0\n...             ...\n4995              0\n4996              0\n4997              0\n4998              0\n4999              0\n\n[5000 rows x 1 columns]",
      "text/html": "<div>\n<style scoped>\n    .dataframe tbody tr th:only-of-type {\n        vertical-align: middle;\n    }\n\n    .dataframe tbody tr th {\n        vertical-align: top;\n    }\n\n    .dataframe thead th {\n        text-align: right;\n    }\n</style>\n<table border=\"1\" class=\"dataframe\">\n  <thead>\n    <tr style=\"text-align: right;\">\n      <th></th>\n      <th>Personal Loan</th>\n    </tr>\n  </thead>\n  <tbody>\n    <tr>\n      <td>0</td>\n      <td>0</td>\n    </tr>\n    <tr>\n      <td>1</td>\n      <td>0</td>\n    </tr>\n    <tr>\n      <td>2</td>\n      <td>0</td>\n    </tr>\n    <tr>\n      <td>3</td>\n      <td>0</td>\n    </tr>\n    <tr>\n      <td>4</td>\n      <td>0</td>\n    </tr>\n    <tr>\n      <td>...</td>\n      <td>...</td>\n    </tr>\n    <tr>\n      <td>4995</td>\n      <td>0</td>\n    </tr>\n    <tr>\n      <td>4996</td>\n      <td>0</td>\n    </tr>\n    <tr>\n      <td>4997</td>\n      <td>0</td>\n    </tr>\n    <tr>\n      <td>4998</td>\n      <td>0</td>\n    </tr>\n    <tr>\n      <td>4999</td>\n      <td>0</td>\n    </tr>\n  </tbody>\n</table>\n<p>5000 rows × 1 columns</p>\n</div>"
     },
     "metadata": {},
     "execution_count": 7
    }
   ],
   "source": [
    "y"
   ]
  },
  {
   "cell_type": "code",
   "execution_count": 8,
   "metadata": {},
   "outputs": [],
   "source": [
    "x = data[['Age','Experience','Income','Family','CCAvg','Education','Mortgage','Securities Account','CD Account','Online','CreditCard']]"
   ]
  },
  {
   "cell_type": "code",
   "execution_count": 9,
   "metadata": {},
   "outputs": [
    {
     "output_type": "execute_result",
     "data": {
      "text/plain": "<bound method NDFrame.head of       Age  Experience  Income  Family  CCAvg  Education  Mortgage  \\\n0      25           1      49       4    1.6          1         0   \n1      45          19      34       3    1.5          1         0   \n2      39          15      11       1    1.0          1         0   \n3      35           9     100       1    2.7          2         0   \n4      35           8      45       4    1.0          2         0   \n...   ...         ...     ...     ...    ...        ...       ...   \n4995   29           3      40       1    1.9          3         0   \n4996   30           4      15       4    0.4          1        85   \n4997   63          39      24       2    0.3          3         0   \n4998   65          40      49       3    0.5          2         0   \n4999   28           4      83       3    0.8          1         0   \n\n      Securities Account  CD Account  Online  CreditCard  \n0                      1           0       0           0  \n1                      1           0       0           0  \n2                      0           0       0           0  \n3                      0           0       0           0  \n4                      0           0       0           1  \n...                  ...         ...     ...         ...  \n4995                   0           0       1           0  \n4996                   0           0       1           0  \n4997                   0           0       0           0  \n4998                   0           0       1           0  \n4999                   0           0       1           1  \n\n[5000 rows x 11 columns]>"
     },
     "metadata": {},
     "execution_count": 9
    }
   ],
   "source": [
    "x.head"
   ]
  },
  {
   "cell_type": "code",
   "execution_count": 10,
   "metadata": {},
   "outputs": [],
   "source": [
    "x1 = sm.add_constant(x)"
   ]
  },
  {
   "cell_type": "code",
   "execution_count": 11,
   "metadata": {},
   "outputs": [],
   "source": [
    "logistic = sm.Logit(y,x1)"
   ]
  },
  {
   "cell_type": "code",
   "execution_count": 12,
   "metadata": {
    "tags": []
   },
   "outputs": [
    {
     "output_type": "stream",
     "name": "stdout",
     "text": "Optimization terminated successfully.\n         Current function value: 0.128435\n         Iterations 9\n"
    }
   ],
   "source": [
    "result = logistic.fit()"
   ]
  },
  {
   "cell_type": "code",
   "execution_count": 13,
   "metadata": {},
   "outputs": [
    {
     "output_type": "execute_result",
     "data": {
      "text/plain": "<class 'statsmodels.iolib.summary.Summary'>\n\"\"\"\n                           Logit Regression Results                           \n==============================================================================\nDep. Variable:          Personal Loan   No. Observations:                 5000\nModel:                          Logit   Df Residuals:                     4988\nMethod:                           MLE   Df Model:                           11\nDate:                Sat, 08 Aug 2020   Pseudo R-squ.:                  0.5938\nTime:                        00:11:59   Log-Likelihood:                -642.18\nconverged:                       True   LL-Null:                       -1581.0\nCovariance Type:            nonrobust   LLR p-value:                     0.000\n======================================================================================\n                         coef    std err          z      P>|z|      [0.025      0.975]\n--------------------------------------------------------------------------------------\nconst                -12.1928      1.645     -7.411      0.000     -15.417      -8.968\nAge                   -0.0536      0.061     -0.874      0.382      -0.174       0.067\nExperience             0.0638      0.061      1.046      0.295      -0.056       0.183\nIncome                 0.0546      0.003     20.831      0.000       0.049       0.060\nFamily                 0.6958      0.074      9.364      0.000       0.550       0.841\nCCAvg                  0.1240      0.040      3.127      0.002       0.046       0.202\nEducation              1.7362      0.115     15.088      0.000       1.511       1.962\nMortgage               0.0005      0.001      0.856      0.392      -0.001       0.002\nSecurities Account    -0.9368      0.286     -3.277      0.001      -1.497      -0.377\nCD Account             3.8225      0.324     11.800      0.000       3.188       4.457\nOnline                -0.6752      0.157     -4.298      0.000      -0.983      -0.367\nCreditCard            -1.1197      0.205     -5.462      0.000      -1.522      -0.718\n======================================================================================\n\"\"\"",
      "text/html": "<table class=\"simpletable\">\n<caption>Logit Regression Results</caption>\n<tr>\n  <th>Dep. Variable:</th>     <td>Personal Loan</td>  <th>  No. Observations:  </th>  <td>  5000</td> \n</tr>\n<tr>\n  <th>Model:</th>                 <td>Logit</td>      <th>  Df Residuals:      </th>  <td>  4988</td> \n</tr>\n<tr>\n  <th>Method:</th>                 <td>MLE</td>       <th>  Df Model:          </th>  <td>    11</td> \n</tr>\n<tr>\n  <th>Date:</th>            <td>Sat, 08 Aug 2020</td> <th>  Pseudo R-squ.:     </th>  <td>0.5938</td> \n</tr>\n<tr>\n  <th>Time:</th>                <td>00:11:59</td>     <th>  Log-Likelihood:    </th> <td> -642.18</td>\n</tr>\n<tr>\n  <th>converged:</th>             <td>True</td>       <th>  LL-Null:           </th> <td> -1581.0</td>\n</tr>\n<tr>\n  <th>Covariance Type:</th>     <td>nonrobust</td>    <th>  LLR p-value:       </th>  <td> 0.000</td> \n</tr>\n</table>\n<table class=\"simpletable\">\n<tr>\n           <td></td>             <th>coef</th>     <th>std err</th>      <th>z</th>      <th>P>|z|</th>  <th>[0.025</th>    <th>0.975]</th>  \n</tr>\n<tr>\n  <th>const</th>              <td>  -12.1928</td> <td>    1.645</td> <td>   -7.411</td> <td> 0.000</td> <td>  -15.417</td> <td>   -8.968</td>\n</tr>\n<tr>\n  <th>Age</th>                <td>   -0.0536</td> <td>    0.061</td> <td>   -0.874</td> <td> 0.382</td> <td>   -0.174</td> <td>    0.067</td>\n</tr>\n<tr>\n  <th>Experience</th>         <td>    0.0638</td> <td>    0.061</td> <td>    1.046</td> <td> 0.295</td> <td>   -0.056</td> <td>    0.183</td>\n</tr>\n<tr>\n  <th>Income</th>             <td>    0.0546</td> <td>    0.003</td> <td>   20.831</td> <td> 0.000</td> <td>    0.049</td> <td>    0.060</td>\n</tr>\n<tr>\n  <th>Family</th>             <td>    0.6958</td> <td>    0.074</td> <td>    9.364</td> <td> 0.000</td> <td>    0.550</td> <td>    0.841</td>\n</tr>\n<tr>\n  <th>CCAvg</th>              <td>    0.1240</td> <td>    0.040</td> <td>    3.127</td> <td> 0.002</td> <td>    0.046</td> <td>    0.202</td>\n</tr>\n<tr>\n  <th>Education</th>          <td>    1.7362</td> <td>    0.115</td> <td>   15.088</td> <td> 0.000</td> <td>    1.511</td> <td>    1.962</td>\n</tr>\n<tr>\n  <th>Mortgage</th>           <td>    0.0005</td> <td>    0.001</td> <td>    0.856</td> <td> 0.392</td> <td>   -0.001</td> <td>    0.002</td>\n</tr>\n<tr>\n  <th>Securities Account</th> <td>   -0.9368</td> <td>    0.286</td> <td>   -3.277</td> <td> 0.001</td> <td>   -1.497</td> <td>   -0.377</td>\n</tr>\n<tr>\n  <th>CD Account</th>         <td>    3.8225</td> <td>    0.324</td> <td>   11.800</td> <td> 0.000</td> <td>    3.188</td> <td>    4.457</td>\n</tr>\n<tr>\n  <th>Online</th>             <td>   -0.6752</td> <td>    0.157</td> <td>   -4.298</td> <td> 0.000</td> <td>   -0.983</td> <td>   -0.367</td>\n</tr>\n<tr>\n  <th>CreditCard</th>         <td>   -1.1197</td> <td>    0.205</td> <td>   -5.462</td> <td> 0.000</td> <td>   -1.522</td> <td>   -0.718</td>\n</tr>\n</table>"
     },
     "metadata": {},
     "execution_count": 13
    }
   ],
   "source": [
    "result.summary()"
   ]
  },
  {
   "cell_type": "code",
   "execution_count": null,
   "metadata": {},
   "outputs": [],
   "source": []
  }
 ]
}