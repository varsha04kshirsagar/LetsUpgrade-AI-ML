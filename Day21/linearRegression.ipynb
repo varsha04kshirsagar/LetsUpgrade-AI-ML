{
 "metadata": {
  "language_info": {
   "codemirror_mode": {
    "name": "ipython",
    "version": 3
   },
   "file_extension": ".py",
   "mimetype": "text/x-python",
   "name": "python",
   "nbconvert_exporter": "python",
   "pygments_lexer": "ipython3",
   "version": 3
  },
  "orig_nbformat": 2,
  "kernelspec": {
   "name": "python_defaultSpec_1596779045776",
   "display_name": "Python 3.7.4 64-bit ('base': conda)"
  }
 },
 "nbformat": 4,
 "nbformat_minor": 2,
 "cells": [
  {
   "cell_type": "code",
   "execution_count": 2,
   "metadata": {},
   "outputs": [],
   "source": [
    "import pandas as pd\n",
    "import numpy as np \n",
    "import matplotlib.pyplot as plt\n",
    "import statsmodels.api as sm\n",
    "from sklearn import linear_model"
   ]
  },
  {
   "cell_type": "code",
   "execution_count": 3,
   "metadata": {},
   "outputs": [],
   "source": [
    "data = pd.read_excel('Linear Regression.xlsx',sheet_name=0)"
   ]
  },
  {
   "cell_type": "code",
   "execution_count": 4,
   "metadata": {},
   "outputs": [
    {
     "output_type": "execute_result",
     "data": {
      "text/plain": "        price  sqft_living  bedrooms  bathrooms  floors\n0      221900         1180         3       1.00     1.0\n1      538000         2570         3       2.25     2.0\n2      180000          770         2       1.00     1.0\n3      604000         1960         4       3.00     1.0\n4      510000         1680         3       2.00     1.0\n...       ...          ...       ...        ...     ...\n21608  360000         1530         3       2.50     3.0\n21609  400000         2310         4       2.50     2.0\n21610  402101         1020         2       0.75     2.0\n21611  400000         1600         3       2.50     2.0\n21612  325000         1020         2       0.75     2.0\n\n[21613 rows x 5 columns]",
      "text/html": "<div>\n<style scoped>\n    .dataframe tbody tr th:only-of-type {\n        vertical-align: middle;\n    }\n\n    .dataframe tbody tr th {\n        vertical-align: top;\n    }\n\n    .dataframe thead th {\n        text-align: right;\n    }\n</style>\n<table border=\"1\" class=\"dataframe\">\n  <thead>\n    <tr style=\"text-align: right;\">\n      <th></th>\n      <th>price</th>\n      <th>sqft_living</th>\n      <th>bedrooms</th>\n      <th>bathrooms</th>\n      <th>floors</th>\n    </tr>\n  </thead>\n  <tbody>\n    <tr>\n      <td>0</td>\n      <td>221900</td>\n      <td>1180</td>\n      <td>3</td>\n      <td>1.00</td>\n      <td>1.0</td>\n    </tr>\n    <tr>\n      <td>1</td>\n      <td>538000</td>\n      <td>2570</td>\n      <td>3</td>\n      <td>2.25</td>\n      <td>2.0</td>\n    </tr>\n    <tr>\n      <td>2</td>\n      <td>180000</td>\n      <td>770</td>\n      <td>2</td>\n      <td>1.00</td>\n      <td>1.0</td>\n    </tr>\n    <tr>\n      <td>3</td>\n      <td>604000</td>\n      <td>1960</td>\n      <td>4</td>\n      <td>3.00</td>\n      <td>1.0</td>\n    </tr>\n    <tr>\n      <td>4</td>\n      <td>510000</td>\n      <td>1680</td>\n      <td>3</td>\n      <td>2.00</td>\n      <td>1.0</td>\n    </tr>\n    <tr>\n      <td>...</td>\n      <td>...</td>\n      <td>...</td>\n      <td>...</td>\n      <td>...</td>\n      <td>...</td>\n    </tr>\n    <tr>\n      <td>21608</td>\n      <td>360000</td>\n      <td>1530</td>\n      <td>3</td>\n      <td>2.50</td>\n      <td>3.0</td>\n    </tr>\n    <tr>\n      <td>21609</td>\n      <td>400000</td>\n      <td>2310</td>\n      <td>4</td>\n      <td>2.50</td>\n      <td>2.0</td>\n    </tr>\n    <tr>\n      <td>21610</td>\n      <td>402101</td>\n      <td>1020</td>\n      <td>2</td>\n      <td>0.75</td>\n      <td>2.0</td>\n    </tr>\n    <tr>\n      <td>21611</td>\n      <td>400000</td>\n      <td>1600</td>\n      <td>3</td>\n      <td>2.50</td>\n      <td>2.0</td>\n    </tr>\n    <tr>\n      <td>21612</td>\n      <td>325000</td>\n      <td>1020</td>\n      <td>2</td>\n      <td>0.75</td>\n      <td>2.0</td>\n    </tr>\n  </tbody>\n</table>\n<p>21613 rows × 5 columns</p>\n</div>"
     },
     "metadata": {},
     "execution_count": 4
    }
   ],
   "source": [
    "data"
   ]
  },
  {
   "cell_type": "code",
   "execution_count": 6,
   "metadata": {},
   "outputs": [],
   "source": [
    "df_x = data[['sqft_living','bedrooms','bathrooms','floors']]\n",
    "df_y = data[['price']]"
   ]
  },
  {
   "cell_type": "code",
   "execution_count": 8,
   "metadata": {},
   "outputs": [
    {
     "output_type": "execute_result",
     "data": {
      "text/plain": "       sqft_living  bedrooms  bathrooms  floors\n0             1180         3       1.00     1.0\n1             2570         3       2.25     2.0\n2              770         2       1.00     1.0\n3             1960         4       3.00     1.0\n4             1680         3       2.00     1.0\n...            ...       ...        ...     ...\n21608         1530         3       2.50     3.0\n21609         2310         4       2.50     2.0\n21610         1020         2       0.75     2.0\n21611         1600         3       2.50     2.0\n21612         1020         2       0.75     2.0\n\n[21613 rows x 4 columns]",
      "text/html": "<div>\n<style scoped>\n    .dataframe tbody tr th:only-of-type {\n        vertical-align: middle;\n    }\n\n    .dataframe tbody tr th {\n        vertical-align: top;\n    }\n\n    .dataframe thead th {\n        text-align: right;\n    }\n</style>\n<table border=\"1\" class=\"dataframe\">\n  <thead>\n    <tr style=\"text-align: right;\">\n      <th></th>\n      <th>sqft_living</th>\n      <th>bedrooms</th>\n      <th>bathrooms</th>\n      <th>floors</th>\n    </tr>\n  </thead>\n  <tbody>\n    <tr>\n      <td>0</td>\n      <td>1180</td>\n      <td>3</td>\n      <td>1.00</td>\n      <td>1.0</td>\n    </tr>\n    <tr>\n      <td>1</td>\n      <td>2570</td>\n      <td>3</td>\n      <td>2.25</td>\n      <td>2.0</td>\n    </tr>\n    <tr>\n      <td>2</td>\n      <td>770</td>\n      <td>2</td>\n      <td>1.00</td>\n      <td>1.0</td>\n    </tr>\n    <tr>\n      <td>3</td>\n      <td>1960</td>\n      <td>4</td>\n      <td>3.00</td>\n      <td>1.0</td>\n    </tr>\n    <tr>\n      <td>4</td>\n      <td>1680</td>\n      <td>3</td>\n      <td>2.00</td>\n      <td>1.0</td>\n    </tr>\n    <tr>\n      <td>...</td>\n      <td>...</td>\n      <td>...</td>\n      <td>...</td>\n      <td>...</td>\n    </tr>\n    <tr>\n      <td>21608</td>\n      <td>1530</td>\n      <td>3</td>\n      <td>2.50</td>\n      <td>3.0</td>\n    </tr>\n    <tr>\n      <td>21609</td>\n      <td>2310</td>\n      <td>4</td>\n      <td>2.50</td>\n      <td>2.0</td>\n    </tr>\n    <tr>\n      <td>21610</td>\n      <td>1020</td>\n      <td>2</td>\n      <td>0.75</td>\n      <td>2.0</td>\n    </tr>\n    <tr>\n      <td>21611</td>\n      <td>1600</td>\n      <td>3</td>\n      <td>2.50</td>\n      <td>2.0</td>\n    </tr>\n    <tr>\n      <td>21612</td>\n      <td>1020</td>\n      <td>2</td>\n      <td>0.75</td>\n      <td>2.0</td>\n    </tr>\n  </tbody>\n</table>\n<p>21613 rows × 4 columns</p>\n</div>"
     },
     "metadata": {},
     "execution_count": 8
    }
   ],
   "source": [
    "df_x"
   ]
  },
  {
   "cell_type": "code",
   "execution_count": 10,
   "metadata": {},
   "outputs": [
    {
     "output_type": "execute_result",
     "data": {
      "text/plain": "        price\n0      221900\n1      538000\n2      180000\n3      604000\n4      510000\n...       ...\n21608  360000\n21609  400000\n21610  402101\n21611  400000\n21612  325000\n\n[21613 rows x 1 columns]",
      "text/html": "<div>\n<style scoped>\n    .dataframe tbody tr th:only-of-type {\n        vertical-align: middle;\n    }\n\n    .dataframe tbody tr th {\n        vertical-align: top;\n    }\n\n    .dataframe thead th {\n        text-align: right;\n    }\n</style>\n<table border=\"1\" class=\"dataframe\">\n  <thead>\n    <tr style=\"text-align: right;\">\n      <th></th>\n      <th>price</th>\n    </tr>\n  </thead>\n  <tbody>\n    <tr>\n      <td>0</td>\n      <td>221900</td>\n    </tr>\n    <tr>\n      <td>1</td>\n      <td>538000</td>\n    </tr>\n    <tr>\n      <td>2</td>\n      <td>180000</td>\n    </tr>\n    <tr>\n      <td>3</td>\n      <td>604000</td>\n    </tr>\n    <tr>\n      <td>4</td>\n      <td>510000</td>\n    </tr>\n    <tr>\n      <td>...</td>\n      <td>...</td>\n    </tr>\n    <tr>\n      <td>21608</td>\n      <td>360000</td>\n    </tr>\n    <tr>\n      <td>21609</td>\n      <td>400000</td>\n    </tr>\n    <tr>\n      <td>21610</td>\n      <td>402101</td>\n    </tr>\n    <tr>\n      <td>21611</td>\n      <td>400000</td>\n    </tr>\n    <tr>\n      <td>21612</td>\n      <td>325000</td>\n    </tr>\n  </tbody>\n</table>\n<p>21613 rows × 1 columns</p>\n</div>"
     },
     "metadata": {},
     "execution_count": 10
    }
   ],
   "source": [
    "df_y"
   ]
  },
  {
   "cell_type": "code",
   "execution_count": 11,
   "metadata": {},
   "outputs": [],
   "source": [
    "#splitting dataset into training and testing dataset\n",
    "from sklearn.model_selection import train_test_split\n",
    "x_train, x_test, y_train, y_test = train_test_split(df_x, df_y, test_size = 1/3, random_state = 0)"
   ]
  },
  {
   "cell_type": "code",
   "execution_count": 13,
   "metadata": {},
   "outputs": [
    {
     "output_type": "execute_result",
     "data": {
      "text/plain": "57632"
     },
     "metadata": {},
     "execution_count": 13
    }
   ],
   "source": [
    "x_train.size"
   ]
  },
  {
   "cell_type": "code",
   "execution_count": 14,
   "metadata": {},
   "outputs": [
    {
     "output_type": "execute_result",
     "data": {
      "text/plain": "14408"
     },
     "metadata": {},
     "execution_count": 14
    }
   ],
   "source": [
    "y_train.size"
   ]
  },
  {
   "cell_type": "code",
   "execution_count": 15,
   "metadata": {
    "tags": []
   },
   "outputs": [
    {
     "output_type": "stream",
     "name": "stdout",
     "text": "Intercept: \n [71317.92981796]\nCoefficients: \n [[   300.22555387 -51118.88229941   4146.34756861   5226.69830459]]\n"
    }
   ],
   "source": [
    "#with sklearn\n",
    "regr = linear_model.LinearRegression()\n",
    "regr.fit(x_train, y_train)\n",
    "print('Intercept: \\n', regr.intercept_)\n",
    "print('Coefficients: \\n', regr.coef_)\n"
   ]
  },
  {
   "cell_type": "code",
   "execution_count": 16,
   "metadata": {
    "tags": []
   },
   "outputs": [
    {
     "output_type": "stream",
     "name": "stdout",
     "text": "OLS Regression Results                            \n==============================================================================\nDep. Variable:                  price   R-squared:                       0.500\nModel:                            OLS   Adj. R-squared:                  0.500\nMethod:                 Least Squares   F-statistic:                     3605.\nDate:                Fri, 07 Aug 2020   Prob (F-statistic):               0.00\nTime:                        15:40:41   Log-Likelihood:            -1.9980e+05\nNo. Observations:               14408   AIC:                         3.996e+05\nDf Residuals:                   14403   BIC:                         3.997e+05\nDf Model:                           4                                         \nCovariance Type:            nonrobust                                         \n===============================================================================\n                  coef    std err          t      P>|t|      [0.025      0.975]\n-------------------------------------------------------------------------------\nconst        7.132e+04   9211.871      7.742      0.000    5.33e+04    8.94e+04\nsqft_living   300.2256      3.710     80.922      0.000     292.953     307.498\nbedrooms    -5.112e+04   2806.027    -18.218      0.000   -5.66e+04   -4.56e+04\nbathrooms    4146.3476   4595.753      0.902      0.367   -4861.920    1.32e+04\nfloors       5226.6983   4548.332      1.149      0.251   -3688.618    1.41e+04\n==============================================================================\nOmnibus:                     8504.047   Durbin-Watson:                   2.018\nProb(Omnibus):                  0.000   Jarque-Bera (JB):           177779.400\nSkew:                           2.435   Prob(JB):                         0.00\nKurtosis:                      19.505   Cond. No.                     1.03e+04\n==============================================================================\n\nWarnings:\n[1] Standard Errors assume that the covariance matrix of the errors is correctly specified.\n[2] The condition number is large, 1.03e+04. This might indicate that there are\nstrong multicollinearity or other numerical problems.\n"
    }
   ],
   "source": [
    "# with statsmodels\n",
    "x = sm.add_constant(x_train) # adding a constant\n",
    "#predictions = model.predict(x) \n",
    "model = sm.OLS(y_train, x).fit()\n",
    "predictions = model.predict(x) \n",
    "print_model = model.summary()\n",
    "print(print_model)"
   ]
  },
  {
   "cell_type": "code",
   "execution_count": null,
   "metadata": {},
   "outputs": [],
   "source": []
  }
 ]
}