{
 "cells": [
  {
   "cell_type": "markdown",
   "metadata": {},
   "source": [
    "# 1. Create a 3x3x3 array with random values "
   ]
  },
  {
   "cell_type": "code",
   "execution_count": 26,
   "metadata": {},
   "outputs": [
    {
     "name": "stdout",
     "output_type": "stream",
     "text": [
      "[[[0.82907471 0.84813707 0.49559555]\n",
      "  [0.37024886 0.01891246 0.09346965]\n",
      "  [0.2126146  0.44199618 0.83537699]]\n",
      "\n",
      " [[0.44544542 0.00330495 0.9524486 ]\n",
      "  [0.16958998 0.82316123 0.43766286]\n",
      "  [0.43212411 0.67574084 0.95031443]]\n",
      "\n",
      " [[0.60046135 0.66743251 0.94637242]\n",
      "  [0.01746297 0.25873525 0.66445805]\n",
      "  [0.09233837 0.75150813 0.31234471]]]\n"
     ]
    }
   ],
   "source": [
    "x = np.random.random((3,3,3))\n",
    "print(x)"
   ]
  },
  {
   "cell_type": "markdown",
   "metadata": {},
   "source": [
    "# 2.Create a 5x5 matrix with values 1,2,3,4 just below the diagonal"
   ]
  },
  {
   "cell_type": "code",
   "execution_count": 2,
   "metadata": {},
   "outputs": [
    {
     "name": "stdout",
     "output_type": "stream",
     "text": [
      "[[1 0 0 0]\n",
      " [0 2 0 0]\n",
      " [0 0 3 0]\n",
      " [0 0 0 4]]\n"
     ]
    }
   ],
   "source": [
    "x = np.diag([1, 2, 3, 4])\n",
    "print(x)"
   ]
  },
  {
   "cell_type": "markdown",
   "metadata": {},
   "source": [
    "# 3.Create a 8x8 matrix and fill it with a checkerboard pattern"
   ]
  },
  {
   "cell_type": "code",
   "execution_count": 3,
   "metadata": {},
   "outputs": [
    {
     "name": "stdout",
     "output_type": "stream",
     "text": [
      "Checkerboard pattern:\n",
      "[[0 1 0 1 0 1 0 1]\n",
      " [1 0 1 0 1 0 1 0]\n",
      " [0 1 0 1 0 1 0 1]\n",
      " [1 0 1 0 1 0 1 0]\n",
      " [0 1 0 1 0 1 0 1]\n",
      " [1 0 1 0 1 0 1 0]\n",
      " [0 1 0 1 0 1 0 1]\n",
      " [1 0 1 0 1 0 1 0]]\n"
     ]
    }
   ],
   "source": [
    "x = np.ones((3,3))\n",
    "print(\"Checkerboard pattern:\")\n",
    "x = np.zeros((8,8),dtype=int)\n",
    "x[1::2,::2] = 1\n",
    "x[::2,1::2] = 1\n",
    "print(x)"
   ]
  },
  {
   "cell_type": "markdown",
   "metadata": {},
   "source": [
    "# 4. Normalize a 5x5 random matrix"
   ]
  },
  {
   "cell_type": "code",
   "execution_count": 4,
   "metadata": {},
   "outputs": [
    {
     "name": "stdout",
     "output_type": "stream",
     "text": [
      "Original Array:\n",
      "[[0.39366139 0.56327192 0.95380449 0.15236956 0.27440218]\n",
      " [0.02373103 0.59616522 0.444042   0.50702677 0.77020663]\n",
      " [0.87498804 0.2799208  0.14699749 0.83804175 0.62338411]\n",
      " [0.28307004 0.61775735 0.62497961 0.63200792 0.27243497]\n",
      " [0.61128472 0.47371596 0.31551289 0.37424485 0.18902835]]\n",
      "After normalization:\n",
      "[[0.39774317 0.58010567 1.         0.13831007 0.26951758]\n",
      " [0.         0.61547201 0.45191158 0.51963179 0.80259854]\n",
      " [0.91525782 0.27545111 0.13253411 0.87553377 0.64473733]\n",
      " [0.27883712 0.63868753 0.64645279 0.65400951 0.26740247]\n",
      " [0.63172826 0.48381654 0.31371915 0.37686681 0.17772502]]\n"
     ]
    }
   ],
   "source": [
    "x= np.random.random((5,5))\n",
    "print(\"Original Array:\")\n",
    "print(x)\n",
    "xmax, xmin = x.max(), x.min()\n",
    "x = (x - xmin)/(xmax - xmin)\n",
    "print(\"After normalization:\")\n",
    "print(x)"
   ]
  },
  {
   "cell_type": "markdown",
   "metadata": {},
   "source": [
    "# 5.  How to find common values between two arrays?"
   ]
  },
  {
   "cell_type": "code",
   "execution_count": 5,
   "metadata": {},
   "outputs": [
    {
     "name": "stdout",
     "output_type": "stream",
     "text": [
      "Array1:  [ 0 10 20 40 60]\n",
      "Array2:  [10, 30, 40]\n",
      "Common values between two arrays:\n",
      "[10 40]\n"
     ]
    }
   ],
   "source": [
    "array1 = np.array([0, 10, 20, 40, 60])\n",
    "print(\"Array1: \",array1)\n",
    "array2 = [10, 30, 40]\n",
    "print(\"Array2: \",array2)\n",
    "print(\"Common values between two arrays:\")\n",
    "print(np.intersect1d(array1, array2))"
   ]
  },
  {
   "cell_type": "markdown",
   "metadata": {},
   "source": [
    "# 6.How to get the dates of yesterday, today and tomorrow?"
   ]
  },
  {
   "cell_type": "code",
   "execution_count": 6,
   "metadata": {},
   "outputs": [
    {
     "name": "stdout",
     "output_type": "stream",
     "text": [
      "Yestraday:  2020-07-24\n",
      "Today:  2020-07-25\n",
      "Tomorrow:  2020-07-26\n"
     ]
    }
   ],
   "source": [
    "yesterday = np.datetime64('today', 'D') - np.timedelta64(1, 'D')\n",
    "print(\"Yestraday: \",yesterday)\n",
    "today     = np.datetime64('today', 'D')\n",
    "print(\"Today: \",today)\n",
    "tomorrow  = np.datetime64('today', 'D') + np.timedelta64(1, 'D')\n",
    "print(\"Tomorrow: \",tomorrow)"
   ]
  },
  {
   "cell_type": "markdown",
   "metadata": {},
   "source": [
    "# 7. Consider two random array A and B, check if they are equal"
   ]
  },
  {
   "cell_type": "code",
   "execution_count": 7,
   "metadata": {},
   "outputs": [
    {
     "name": "stdout",
     "output_type": "stream",
     "text": [
      "First array:\n",
      "[0 1 1 0 1 0]\n",
      "Second array:\n",
      "[0 1 1 1 0 1]\n",
      "Test above two arrays are equal or not!\n",
      "False\n"
     ]
    }
   ],
   "source": [
    "x = np.random.randint(0,2,6)\n",
    "print(\"First array:\")\n",
    "print(x)\n",
    "y = np.random.randint(0,2,6)\n",
    "print(\"Second array:\")\n",
    "print(y)\n",
    "print(\"Test above two arrays are equal or not!\")\n",
    "array_equal = np.allclose(x, y)\n",
    "print(array_equal)"
   ]
  },
  {
   "cell_type": "markdown",
   "metadata": {},
   "source": [
    "# 8.Create random vector of size 10 and replace the maximum value by 0 "
   ]
  },
  {
   "cell_type": "code",
   "execution_count": 9,
   "metadata": {},
   "outputs": [
    {
     "name": "stdout",
     "output_type": "stream",
     "text": [
      "Original array:\n",
      "[0.39825424 0.46241478 0.41885596 0.92910556 0.62516666 0.12711819\n",
      " 0.46852924 0.60937727 0.59641411 0.18430355]\n",
      "Maximum value replaced by 0:\n",
      "[0.39825424 0.46241478 0.41885596 0.         0.62516666 0.12711819\n",
      " 0.46852924 0.60937727 0.59641411 0.18430355]\n"
     ]
    }
   ],
   "source": [
    "x = np.random.random(10)\n",
    "print(\"Original array:\")\n",
    "print(x)\n",
    "x[x.argmax()] = 0\n",
    "print(\"Maximum value replaced by 0:\")\n",
    "print(x)"
   ]
  },
  {
   "cell_type": "markdown",
   "metadata": {},
   "source": [
    "# 9. How to print all the values of an array?"
   ]
  },
  {
   "cell_type": "code",
   "execution_count": 12,
   "metadata": {},
   "outputs": [
    {
     "name": "stdout",
     "output_type": "stream",
     "text": [
      "[ 0  1  2  3  4  5  6  7  8  9 10 11 12 13 14 15 16 17 18 19 20 21 22 23\n",
      " 24 25 26 27 28 29 30 31 32 33 34 35 36 37 38 39 40 41 42 43 44 45 46 47\n",
      " 48 49 50 51 52 53 54 55 56 57 58 59 60 61 62 63 64 65 66 67 68 69 70 71\n",
      " 72 73 74 75 76 77 78 79 80 81 82 83 84 85 86 87 88 89 90 91 92 93 94 95\n",
      " 96 97 98 99]\n"
     ]
    }
   ],
   "source": [
    "import sys\n",
    "nums = np.arange(100)\n",
    "np.set_printoptions(threshold=sys.maxsize)\n",
    "print(nums)"
   ]
  },
  {
   "cell_type": "markdown",
   "metadata": {},
   "source": [
    "# 10.Subtract the mean of each row of a matrix"
   ]
  },
  {
   "cell_type": "code",
   "execution_count": 25,
   "metadata": {},
   "outputs": [
    {
     "name": "stdout",
     "output_type": "stream",
     "text": [
      "Original matrix:\n",
      "\n",
      "[[0.13085501 0.03838727 0.74076553 0.35851048 0.12289775 0.04751315\n",
      "  0.59094632 0.0173199  0.5524006  0.23711082]\n",
      " [0.53270554 0.46237169 0.40135481 0.20755662 0.05106703 0.64704882\n",
      "  0.50351868 0.9891363  0.65825618 0.85303245]\n",
      " [0.40811404 0.58567663 0.0064006  0.55283934 0.70015667 0.50062082\n",
      "  0.82096665 0.12143299 0.08225665 0.24134146]\n",
      " [0.46197671 0.21039723 0.2026825  0.17738783 0.59330636 0.70569409\n",
      "  0.77205514 0.70564997 0.43129674 0.85207749]\n",
      " [0.39449087 0.20350796 0.51257397 0.76261053 0.07373093 0.95655068\n",
      "  0.49031091 0.37269284 0.41137925 0.4389489 ]]\n",
      "\n",
      "Subtract the mean of each row of the said matrix:\n",
      "\n",
      "[[-0.15281567 -0.24528341  0.45709485  0.0748398  -0.16077293 -0.23615754\n",
      "   0.30727563 -0.26635078  0.26872992 -0.04655986]\n",
      " [ 0.00210073 -0.06823312 -0.12925    -0.32304819 -0.47953778  0.11644401\n",
      "  -0.02708613  0.45853149  0.12765137  0.32242764]\n",
      " [ 0.00613346  0.18369605 -0.39557998  0.15085875  0.29817609  0.09864023\n",
      "   0.41898607 -0.2805476  -0.31972394 -0.16063913]\n",
      " [-0.0492757  -0.30085518 -0.3085699  -0.33386457  0.08205395  0.19444168\n",
      "   0.26080273  0.19439756 -0.07995567  0.34082508]\n",
      " [-0.06718881 -0.25817173  0.05089429  0.30093085 -0.38794876  0.494871\n",
      "   0.02863122 -0.08898685 -0.05030044 -0.02273078]]\n"
     ]
    }
   ],
   "source": [
    "print(\"Original matrix:\\n\")\n",
    "X = np.random.rand(5, 10)\n",
    "print(X)\n",
    "print(\"\\nSubtract the mean of each row of the said matrix:\\n\")\n",
    "Y = X - X.mean(axis=1, keepdims=True)\n",
    "print(Y)"
   ]
  },
  {
   "cell_type": "markdown",
   "metadata": {},
   "source": [
    "# 11.Consider a given vector, how to add 1 to each element indexed by a second vector (be careful with repeated indices)? "
   ]
  },
  {
   "cell_type": "code",
   "execution_count": 19,
   "metadata": {},
   "outputs": [
    {
     "name": "stdout",
     "output_type": "stream",
     "text": [
      "[1. 1. 1. 1. 1. 1. 1. 1. 1. 1.]\n",
      "[7 4 6 9 4 1 4 7 0 4 2 5 0 5 6 0 4 6 8 4]\n",
      "[4. 2. 2. 1. 7. 3. 4. 3. 2. 2.]\n"
     ]
    }
   ],
   "source": [
    "import numpy as np\n",
    "Z = np.ones(10)\n",
    "print(Z)\n",
    "I = np.random.randint(0,len(Z),20)\n",
    "print(I)\n",
    "#np.add.at(Z, I, 1)\n",
    "Z += np.bincount(I, minlength=len(Z))\n",
    "print(Z)\n"
   ]
  },
  {
   "cell_type": "markdown",
   "metadata": {},
   "source": [
    "# 12.How to get the diagonal of a dot product?"
   ]
  },
  {
   "cell_type": "code",
   "execution_count": 23,
   "metadata": {},
   "outputs": [
    {
     "name": "stdout",
     "output_type": "stream",
     "text": [
      "[[0 1 2]\n",
      " [3 4 5]\n",
      " [6 7 8]]\n",
      "[[0 1 2]\n",
      " [3 4 5]\n",
      " [6 7 8]]\n",
      "[ 15  54 111]\n",
      "[ 15  54 111]\n"
     ]
    }
   ],
   "source": [
    "a = np.arange(9).reshape(3, 3)\n",
    "print(a)\n",
    "b = np.arange(9).reshape(3, 3)\n",
    "print(b)\n",
    "#method 1\n",
    "Z = np.diag(a.dot(b))\n",
    "print(Z)\n",
    "#method 2\n",
    "z = (a * b.T).sum(-1)\n",
    "print(z)\n"
   ]
  },
  {
   "cell_type": "markdown",
   "metadata": {},
   "source": [
    "# 13.How to find the most frequent value in an array?"
   ]
  },
  {
   "cell_type": "code",
   "execution_count": 24,
   "metadata": {},
   "outputs": [
    {
     "name": "stdout",
     "output_type": "stream",
     "text": [
      "Original array:\n",
      "[3 4 6 8 4 7 0 5 3 9 0 7 5 1 8 3 1 4 2 6 8 9 7 4 5 0 5 7 6 0 4 6 1 5 9 3 2\n",
      " 5 5 7]\n",
      "Most frequent value in the above array:\n",
      "5\n"
     ]
    }
   ],
   "source": [
    "x = np.random.randint(0, 10, 40)\n",
    "print(\"Original array:\")\n",
    "print(x)\n",
    "print(\"Most frequent value in the above array:\")\n",
    "print(np.bincount(x).argmax())"
   ]
  },
  {
   "cell_type": "markdown",
   "metadata": {},
   "source": [
    "# 14.How to get the n largest values of an array"
   ]
  },
  {
   "cell_type": "code",
   "execution_count": 27,
   "metadata": {},
   "outputs": [
    {
     "name": "stdout",
     "output_type": "stream",
     "text": [
      "Original array:\n",
      "[0 1 2 3 4 5 6 7 8 9]\n",
      "[9]\n"
     ]
    }
   ],
   "source": [
    "x = np.arange(10)\n",
    "print(\"Original array:\")\n",
    "print(x)\n",
    "np.random.shuffle(x)\n",
    "n = 1\n",
    "print (x[np.argsort(x)[-n:]])"
   ]
  },
  {
   "cell_type": "markdown",
   "metadata": {},
   "source": [
    "# 15.How to create a record array from a regular array?"
   ]
  },
  {
   "cell_type": "code",
   "execution_count": 28,
   "metadata": {},
   "outputs": [
    {
     "name": "stdout",
     "output_type": "stream",
     "text": [
      "(1, 'Red', 12.2)\n",
      "(2, 'Green', 15.)\n",
      "(3, 'White', 20.)\n"
     ]
    }
   ],
   "source": [
    "a1=np.array([1,2,3,4])\n",
    "a2=np.array(['Red','Green','White','Orange'])\n",
    "a3=np.array([12.20,15,20,40])\n",
    "result= np.core.records.fromarrays([a1, a2, a3],names='a,b,c')\n",
    "print(result[0])\n",
    "print(result[1])\n",
    "print(result[2])\n"
   ]
  }
 ],
 "metadata": {
  "kernelspec": {
   "display_name": "Python 3",
   "language": "python",
   "name": "python3"
  },
  "language_info": {
   "codemirror_mode": {
    "name": "ipython",
    "version": 3
   },
   "file_extension": ".py",
   "mimetype": "text/x-python",
   "name": "python",
   "nbconvert_exporter": "python",
   "pygments_lexer": "ipython3",
   "version": "3.7.4"
  }
 },
 "nbformat": 4,
 "nbformat_minor": 2
}
