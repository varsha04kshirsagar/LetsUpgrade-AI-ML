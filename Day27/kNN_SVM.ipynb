{
 "metadata": {
  "language_info": {
   "codemirror_mode": {
    "name": "ipython",
    "version": 3
   },
   "file_extension": ".py",
   "mimetype": "text/x-python",
   "name": "python",
   "nbconvert_exporter": "python",
   "pygments_lexer": "ipython3",
   "version": "3.7.4-final"
  },
  "orig_nbformat": 2,
  "kernelspec": {
   "name": "python_defaultSpec_1597287947255",
   "display_name": "Python 3.7.4 64-bit ('ProgramData': virtualenv)"
  }
 },
 "nbformat": 4,
 "nbformat_minor": 2,
 "cells": [
  {
   "cell_type": "code",
   "execution_count": 2,
   "metadata": {},
   "outputs": [],
   "source": [
    "import  pandas as pd\n",
    "from sklearn import preprocessing\n",
    "from sklearn.model_selection import train_test_split\n",
    "from sklearn.metrics import accuracy_score\n",
    "from sklearn.metrics import confusion_matrix\n",
    "from sklearn.neighbors import KNeighborsClassifier\n",
    "from sklearn.svm import SVC"
   ]
  },
  {
   "cell_type": "code",
   "execution_count": 3,
   "metadata": {},
   "outputs": [],
   "source": [
    "df = pd.read_excel(\"naive.xlsx\",sheet_name=0)"
   ]
  },
  {
   "cell_type": "code",
   "execution_count": 4,
   "metadata": {},
   "outputs": [
    {
     "output_type": "execute_result",
     "data": {
      "text/plain": "Index(['PassengerId', 'Survived', 'Pclass', 'Sex', 'Age', 'SibSp', 'Parch',\n       'Fare', 'Embarked'],\n      dtype='object')"
     },
     "metadata": {},
     "execution_count": 4
    }
   ],
   "source": [
    "df.columns"
   ]
  },
  {
   "cell_type": "code",
   "execution_count": 5,
   "metadata": {},
   "outputs": [],
   "source": [
    "le = preprocessing.LabelEncoder()"
   ]
  },
  {
   "cell_type": "code",
   "execution_count": 6,
   "metadata": {},
   "outputs": [],
   "source": [
    "df['Sex'] = le.fit_transform(df['Sex'])\n",
    "df['Embarked'] = le.fit_transform(df['Embarked'])"
   ]
  },
  {
   "cell_type": "code",
   "execution_count": 7,
   "metadata": {},
   "outputs": [
    {
     "output_type": "execute_result",
     "data": {
      "text/plain": "   Survived  Sex   Age  SibSp  Parch     Fare  Embarked\n0         0    1  22.0      1      0   7.2500         2\n1         1    0  38.0      1      0  71.2833         0\n2         1    0  26.0      0      0   7.9250         2\n3         1    0  35.0      1      0  53.1000         2\n4         0    1  35.0      0      0   8.0500         2",
      "text/html": "<div>\n<style scoped>\n    .dataframe tbody tr th:only-of-type {\n        vertical-align: middle;\n    }\n\n    .dataframe tbody tr th {\n        vertical-align: top;\n    }\n\n    .dataframe thead th {\n        text-align: right;\n    }\n</style>\n<table border=\"1\" class=\"dataframe\">\n  <thead>\n    <tr style=\"text-align: right;\">\n      <th></th>\n      <th>Survived</th>\n      <th>Sex</th>\n      <th>Age</th>\n      <th>SibSp</th>\n      <th>Parch</th>\n      <th>Fare</th>\n      <th>Embarked</th>\n    </tr>\n  </thead>\n  <tbody>\n    <tr>\n      <td>0</td>\n      <td>0</td>\n      <td>1</td>\n      <td>22.0</td>\n      <td>1</td>\n      <td>0</td>\n      <td>7.2500</td>\n      <td>2</td>\n    </tr>\n    <tr>\n      <td>1</td>\n      <td>1</td>\n      <td>0</td>\n      <td>38.0</td>\n      <td>1</td>\n      <td>0</td>\n      <td>71.2833</td>\n      <td>0</td>\n    </tr>\n    <tr>\n      <td>2</td>\n      <td>1</td>\n      <td>0</td>\n      <td>26.0</td>\n      <td>0</td>\n      <td>0</td>\n      <td>7.9250</td>\n      <td>2</td>\n    </tr>\n    <tr>\n      <td>3</td>\n      <td>1</td>\n      <td>0</td>\n      <td>35.0</td>\n      <td>1</td>\n      <td>0</td>\n      <td>53.1000</td>\n      <td>2</td>\n    </tr>\n    <tr>\n      <td>4</td>\n      <td>0</td>\n      <td>1</td>\n      <td>35.0</td>\n      <td>0</td>\n      <td>0</td>\n      <td>8.0500</td>\n      <td>2</td>\n    </tr>\n  </tbody>\n</table>\n</div>"
     },
     "metadata": {},
     "execution_count": 7
    }
   ],
   "source": [
    "y = df['Pclass']\n",
    "x = df.drop(['Pclass','PassengerId'],axis = 1)\n",
    "x.head()"
   ]
  },
  {
   "cell_type": "code",
   "execution_count": 8,
   "metadata": {
    "tags": []
   },
   "outputs": [
    {
     "output_type": "stream",
     "name": "stdout",
     "text": "Score Survived 3 0.6891385767790262\nConfusion_Matrix: Survived 3 [[122  35]\n [ 48  62]]\nScore Survived 4 0.6591760299625468\nConfusion_Matrix: Survived 4 [[133  24]\n [ 67  43]]\nScore Survived 5 0.6966292134831461\nConfusion_Matrix: Survived 5 [[125  32]\n [ 49  61]]\nScore Survived 6 0.6891385767790262\nConfusion_Matrix: Survived 6 [[130  27]\n [ 56  54]]\nScore Survived 7 0.6928838951310862\nConfusion_Matrix: Survived 7 [[124  33]\n [ 49  61]]\nScore Pclass 3 0.8576779026217228\nConfusion_Matrix: Pclass 3 [[ 62   6   2]\n [  8  28  13]\n [  3   6 139]]\nScore Pclass 4 0.8239700374531835\nConfusion_Matrix: Pclass 4 [[ 60   7   3]\n [  8  31  10]\n [  5  14 129]]\nScore Pclass 5 0.8164794007490637\nConfusion_Matrix: Pclass 5 [[ 57  10   3]\n [  8  26  15]\n [  4   9 135]]\nScore Pclass 6 0.8314606741573034\nConfusion_Matrix: Pclass 6 [[ 63   5   2]\n [  7  31  11]\n [  4  16 128]]\nScore Pclass 7 0.8352059925093633\nConfusion_Matrix: Pclass 7 [[ 59   8   3]\n [  7  29  13]\n [  4   9 135]]\nScore Sex 3 0.6404494382022472\nConfusion_Matrix: Sex 3 [[ 49  49]\n [ 47 122]]\nScore Sex 4 0.6367041198501873\nConfusion_Matrix: Sex 4 [[ 64  34]\n [ 63 106]]\nScore Sex 5 0.704119850187266\nConfusion_Matrix: Sex 5 [[ 56  42]\n [ 37 132]]\nScore Sex 6 0.6741573033707865\nConfusion_Matrix: Sex 6 [[ 59  39]\n [ 48 121]]\nScore Sex 7 0.651685393258427\nConfusion_Matrix: Sex 7 [[ 45  53]\n [ 40 129]]\nScore Age 3 0.08239700374531835\nConfusion_Matrix: Age 3 [[1 0 1 ... 0 0 0]\n [0 0 0 ... 0 0 0]\n [0 0 0 ... 0 0 0]\n ...\n [0 0 0 ... 0 0 0]\n [0 0 0 ... 0 0 0]\n [0 0 0 ... 0 0 0]]\nScore Age 4 0.09737827715355805\nConfusion_Matrix: Age 4 [[1 0 1 ... 0 0 0]\n [0 0 0 ... 0 0 0]\n [0 0 0 ... 0 0 0]\n ...\n [0 0 0 ... 0 0 0]\n [0 0 0 ... 0 0 0]\n [0 0 0 ... 0 0 0]]\nScore Age 5 0.12359550561797752\nConfusion_Matrix: Age 5 [[1 0 1 ... 0 0 0]\n [0 0 0 ... 0 0 0]\n [0 0 0 ... 0 0 0]\n ...\n [0 0 0 ... 0 0 0]\n [0 0 0 ... 0 0 0]\n [0 0 0 ... 0 0 0]]\nScore Age 6 0.15355805243445692\nConfusion_Matrix: Age 6 [[1 1 1 ... 0 0 0]\n [0 0 0 ... 0 0 0]\n [0 0 1 ... 0 0 0]\n ...\n [0 0 0 ... 0 0 0]\n [0 0 0 ... 0 0 0]\n [0 0 0 ... 0 0 0]]\nScore Age 7 0.15355805243445692\nConfusion_Matrix: Age 7 [[1 0 1 ... 0 0 0]\n [0 0 0 ... 0 0 0]\n [0 0 1 ... 0 0 0]\n ...\n [0 0 0 ... 0 0 0]\n [0 0 0 ... 0 0 0]\n [0 0 0 ... 0 0 0]]\nScore Embarked 3 0.700374531835206\nConfusion_Matrix: Embarked 3 [[ 17   3  29]\n [  1   8  13]\n [ 30   4 162]]\nScore Embarked 4 0.7228464419475655\nConfusion_Matrix: Embarked 4 [[ 24   5  20]\n [  2  10  10]\n [ 27  10 159]]\nScore Embarked 5 0.7602996254681648\nConfusion_Matrix: Embarked 5 [[ 21   5  23]\n [  1   9  12]\n [ 18   5 173]]\nScore Embarked 6 0.7378277153558053\nConfusion_Matrix: Embarked 6 [[ 23   6  20]\n [  1   8  13]\n [ 23   7 166]]\nScore Embarked 7 0.7453183520599251\nConfusion_Matrix: Embarked 7 [[ 18   7  24]\n [  1   7  14]\n [ 19   3 174]]\nScore Parch 3 0.7865168539325843\nConfusion_Matrix: Parch 3 [[190   7   1   0   0]\n [ 26  13   1   0   0]\n [ 15   5   7   0   0]\n [  1   0   0   0   0]\n [  1   0   0   0   0]]\nScore Parch 4 0.7865168539325843\nConfusion_Matrix: Parch 4 [[193   4   1   0   0]\n [ 29  11   0   0   0]\n [ 15   6   6   0   0]\n [  0   1   0   0   0]\n [  1   0   0   0   0]]\nScore Parch 5 0.7865168539325843\nConfusion_Matrix: Parch 5 [[193   4   1   0   0]\n [ 28   9   3   0   0]\n [ 15   4   8   0   0]\n [  0   1   0   0   0]\n [  1   0   0   0   0]]\nScore Parch 6 0.797752808988764\nConfusion_Matrix: Parch 6 [[197   0   1   0   0]\n [ 29   8   3   0   0]\n [ 15   4   8   0   0]\n [  0   0   1   0   0]\n [  1   0   0   0   0]]\nScore Parch 7 0.7940074906367042\nConfusion_Matrix: Parch 7 [[196   1   1   0   0]\n [ 29   8   3   0   0]\n [ 15   4   8   0   0]\n [  0   1   0   0   0]\n [  1   0   0   0   0]]\nScore SibSp 3 0.7340823970037453\nConfusion_Matrix: SibSp 3 [[157  22   1   0   2   0   0]\n [ 27  31   3   2   2   0   0]\n [  5   1   1   1   0   0   0]\n [  1   3   0   3   0   0   0]\n [  0   1   0   0   1   0   0]\n [  0   0   0   0   0   1   0]\n [  0   0   0   0   0   0   2]]\nScore SibSp 4 0.7078651685393258\nConfusion_Matrix: SibSp 4 [[163  16   1   0   2   0   0]\n [ 38  20   3   2   2   0   0]\n [  5   1   0   2   0   0   0]\n [  1   4   0   2   0   0   0]\n [  0   0   1   0   1   0   0]\n [  0   0   0   0   0   1   0]\n [  0   0   0   0   0   0   2]]\nScore SibSp 5 0.7265917602996255\nConfusion_Matrix: SibSp 5 [[159  20   1   0   2   0   0]\n [ 30  30   3   0   1   0   1]\n [  5   1   1   1   0   0   0]\n [  2   5   0   0   0   0   0]\n [  0   0   1   0   1   0   0]\n [  0   0   0   0   0   1   0]\n [  0   0   0   0   0   0   2]]\nScore SibSp 6 0.7265917602996255\nConfusion_Matrix: SibSp 6 [[161  19   1   0   1   0   0]\n [ 33  29   0   0   2   0   1]\n [  6   2   0   0   0   0   0]\n [  1   5   0   0   1   0   0]\n [  0   0   1   0   1   0   0]\n [  0   0   0   0   0   1   0]\n [  0   0   0   0   0   0   2]]\nScore SibSp 7 0.7228464419475655\nConfusion_Matrix: SibSp 7 [[157  23   1   0   1   0   0]\n [ 30  32   0   0   2   0   1]\n [  6   2   0   0   0   0   0]\n [  1   4   0   0   2   0   0]\n [  0   0   1   0   1   0   0]\n [  0   0   0   0   0   1   0]\n [  0   0   0   0   0   0   2]]\nScore Fare 3 0.27715355805243447\nConfusion_Matrix: Fare 3 [[ 3  0  1 ...  0  0  0]\n [ 0  0  2 ...  0  0  0]\n [ 0  0 51 ...  0  0  0]\n ...\n [ 0  0  0 ...  0  0  0]\n [ 0  0  1 ...  0  0  0]\n [ 0  0  0 ...  0  0  0]]\nScore Fare 4 0.27340823970037453\nConfusion_Matrix: Fare 4 [[3 0 0 ... 0 0 0]\n [0 0 0 ... 0 0 0]\n [0 0 0 ... 0 0 0]\n ...\n [0 0 0 ... 0 0 0]\n [0 0 0 ... 0 0 0]\n [0 0 0 ... 0 0 0]]\nScore Fare 5 0.2696629213483146\nConfusion_Matrix: Fare 5 [[ 2  0  1 ...  0  0  0]\n [ 0  0  2 ...  0  0  0]\n [ 1  1 51 ...  0  0  0]\n ...\n [ 0  0  0 ...  0  0  0]\n [ 0  0  1 ...  0  0  0]\n [ 0  0  0 ...  0  0  1]]\nScore Fare 6 0.26217228464419473\nConfusion_Matrix: Fare 6 [[ 2  0  2 ...  0  0  0]\n [ 0  0  3 ...  0  0  0]\n [ 1  0 56 ...  0  0  0]\n ...\n [ 0  0  0 ...  0  0  0]\n [ 0  0  1 ...  0  0  0]\n [ 0  0  0 ...  0  0  1]]\nScore Fare 7 0.250936329588015\nConfusion_Matrix: Fare 7 [[ 2  0  2 ...  0  0  0]\n [ 0  0  3 ...  0  0  0]\n [ 1  0 53 ...  0  0  0]\n ...\n [ 0  0  0 ...  0  0  0]\n [ 0  0  1 ...  0  0  0]\n [ 0  0  0 ...  0  0  1]]\n"
    }
   ],
   "source": [
    "#k-NN Algorithm\n",
    "Variables = ['Survived','Pclass','Sex','Age','Embarked','Parch','SibSp','Fare']\n",
    "for i in  Variables:\n",
    "    y = (df[i]).astype('int')\n",
    "    x = (df.drop([i,'PassengerId'],axis = 1)).astype('int')\n",
    "    x_train, x_test, y_train, y_test = train_test_split(x, y, test_size = 0.3, random_state = 0)\n",
    "    k = [3,4,5,6,7]\n",
    "    for j in k:\n",
    "        #print(j, end=', ')\n",
    "        knn = KNeighborsClassifier(n_neighbors=int(j),p=2,metric='minkowski')\n",
    "        print(\"Score\",i,j,knn.fit(x_train,y_train).score(x_test,y_test))\n",
    "        y_pred = knn.predict(x_test)\n",
    "        print(\"Confusion_Matrix:\",i,j,confusion_matrix(y_test,y_pred))\n",
    "    "
   ]
  },
  {
   "cell_type": "code",
   "execution_count": 12,
   "metadata": {
    "tags": []
   },
   "outputs": [
    {
     "output_type": "stream",
     "name": "stdout",
     "text": "Score 1 88.76404494382022\nScore 2 86.14232209737828\nScore 3 85.76779026217228\nScore 4 82.39700374531836\nScore 5 81.64794007490637\nScore 6 83.14606741573034\nScore 7 83.52059925093633\nScore 8 83.14606741573034\nScore 9 82.39700374531836\nScore 10 82.39700374531836\nScore 11 81.64794007490637\nScore 12 82.02247191011236\nScore 13 82.02247191011236\nScore 14 81.64794007490637\nScore 15 81.64794007490637\nScore 16 82.02247191011236\nScore 17 82.02247191011236\nScore 18 82.02247191011236\nScore 19 81.27340823970037\nScore 20 81.27340823970037\nScore 21 80.52434456928839\nScore 22 79.40074906367042\nScore 23 80.14981273408239\nScore 24 78.65168539325843\nScore 25 79.40074906367042\nScore 26 79.02621722846442\nScore 27 79.40074906367042\nScore 28 79.02621722846442\nScore 29 78.65168539325843\nScore 30 78.65168539325843\nScore 31 78.65168539325843\nScore 32 78.65168539325843\nScore 33 79.02621722846442\nScore 34 79.02621722846442\nScore 35 79.02621722846442\nScore 36 79.02621722846442\nScore 37 79.02621722846442\nScore 38 78.65168539325843\nScore 39 77.52808988764045\nScore 40 79.02621722846442\nScore 41 79.02621722846442\nScore 42 79.02621722846442\nScore 43 79.02621722846442\nScore 44 79.02621722846442\nScore 45 79.7752808988764\nScore 46 79.7752808988764\nScore 47 79.7752808988764\nScore 48 80.14981273408239\nScore 49 78.65168539325843\nScore 50 78.27715355805243\nScore 51 78.27715355805243\nScore 52 78.65168539325843\nScore 53 77.90262172284645\nScore 54 77.90262172284645\nScore 55 77.15355805243446\nScore 56 77.90262172284645\nScore 57 76.77902621722846\nScore 58 76.77902621722846\nScore 59 77.15355805243446\nScore 60 77.15355805243446\nScore 61 77.52808988764045\nScore 62 77.15355805243446\nScore 63 76.40449438202246\nScore 64 75.65543071161048\nScore 65 75.65543071161048\nScore 66 74.90636704119851\nScore 67 76.02996254681648\nScore 68 75.65543071161048\nScore 69 76.40449438202246\nScore 70 75.65543071161048\nScore 71 76.02996254681648\nScore 72 76.02996254681648\nScore 73 76.02996254681648\nScore 74 75.65543071161048\nScore 75 76.02996254681648\nScore 76 76.02996254681648\nScore 77 76.40449438202246\nScore 78 76.40449438202246\nScore 79 75.65543071161048\nScore 80 75.28089887640449\nScore 81 74.90636704119851\nScore 82 74.15730337078652\nScore 83 74.15730337078652\nScore 84 74.15730337078652\nScore 85 74.53183520599251\nScore 86 74.90636704119851\nScore 87 74.90636704119851\nScore 88 74.90636704119851\nScore 89 75.28089887640449\nScore 90 75.65543071161048\nScore 91 75.65543071161048\nScore 92 75.65543071161048\nScore 93 75.28089887640449\nScore 94 75.65543071161048\nScore 95 75.65543071161048\nScore 96 75.28089887640449\nScore 97 74.53183520599251\nScore 98 74.90636704119851\nScore 99 73.40823970037454\nScore 100 74.15730337078652\nScore 101 73.03370786516854\nScore 102 73.03370786516854\nScore 103 73.03370786516854\nScore 104 73.03370786516854\nScore 105 73.40823970037454\nScore 106 73.78277153558052\nScore 107 73.78277153558052\nScore 108 74.15730337078652\nScore 109 74.15730337078652\nScore 110 74.53183520599251\nScore 111 74.90636704119851\nScore 112 74.90636704119851\nScore 113 74.90636704119851\nScore 114 74.90636704119851\nScore 115 74.90636704119851\nScore 116 74.90636704119851\nScore 117 74.90636704119851\nScore 118 74.90636704119851\nScore 119 74.53183520599251\nScore 120 74.53183520599251\nScore 121 74.53183520599251\nScore 122 74.90636704119851\nScore 123 74.53183520599251\nScore 124 74.53183520599251\nScore 125 74.53183520599251\nScore 126 74.53183520599251\nScore 127 74.53183520599251\nScore 128 74.53183520599251\nScore 129 74.90636704119851\nScore 130 75.65543071161048\nScore 131 75.65543071161048\nScore 132 76.02996254681648\nScore 133 75.65543071161048\nScore 134 75.65543071161048\nScore 135 75.65543071161048\nScore 136 75.65543071161048\nScore 137 75.65543071161048\nScore 138 75.65543071161048\nScore 139 75.65543071161048\nScore 140 75.65543071161048\nScore 141 76.02996254681648\nScore 142 76.02996254681648\nScore 143 76.40449438202246\nScore 144 76.40449438202246\nScore 145 76.40449438202246\nScore 146 76.40449438202246\nScore 147 76.40449438202246\nScore 148 76.40449438202246\nScore 149 76.40449438202246\nScore 150 76.40449438202246\nScore 151 76.40449438202246\nScore 152 76.02996254681648\nScore 153 76.02996254681648\nScore 154 76.02996254681648\nScore 155 76.02996254681648\nScore 156 76.02996254681648\nScore 157 76.02996254681648\nScore 158 76.02996254681648\nScore 159 76.02996254681648\nScore 160 76.02996254681648\nScore 161 76.02996254681648\nScore 162 76.40449438202246\nScore 163 76.40449438202246\nScore 164 76.02996254681648\nScore 165 76.02996254681648\nScore 166 76.02996254681648\nScore 167 75.65543071161048\nScore 168 75.65543071161048\nScore 169 75.65543071161048\nScore 170 76.02996254681648\nScore 171 75.65543071161048\nScore 172 76.02996254681648\nScore 173 75.65543071161048\nScore 174 74.90636704119851\nScore 175 75.65543071161048\nScore 176 75.65543071161048\nScore 177 75.65543071161048\nScore 178 75.65543071161048\nScore 179 74.90636704119851\nScore 180 74.90636704119851\nScore 181 74.90636704119851\nScore 182 74.90636704119851\nScore 183 74.90636704119851\nScore 184 74.90636704119851\nScore 185 74.53183520599251\nScore 186 74.53183520599251\nScore 187 74.15730337078652\nScore 188 74.15730337078652\nScore 189 74.15730337078652\nScore 190 74.90636704119851\nScore 191 74.15730337078652\nScore 192 73.40823970037454\nScore 193 73.40823970037454\nScore 194 73.40823970037454\nScore 195 73.40823970037454\nScore 196 73.40823970037454\nScore 197 73.03370786516854\nScore 198 72.65917602996255\nScore 199 72.65917602996255\nScore 200 72.65917602996255\nScore 201 72.65917602996255\nScore 202 72.65917602996255\nScore 203 72.65917602996255\nScore 204 72.65917602996255\nScore 205 72.65917602996255\nScore 206 72.65917602996255\nScore 207 72.65917602996255\nScore 208 72.65917602996255\nScore 209 72.65917602996255\nScore 210 72.65917602996255\nScore 211 72.65917602996255\nScore 212 72.65917602996255\nScore 213 72.65917602996255\nScore 214 72.65917602996255\nScore 215 72.65917602996255\nScore 216 72.65917602996255\nScore 217 72.28464419475655\nScore 218 72.28464419475655\nScore 219 72.28464419475655\nScore 220 72.28464419475655\nScore 221 72.28464419475655\nScore 222 72.28464419475655\nScore 223 72.28464419475655\nScore 224 72.28464419475655\nScore 225 72.28464419475655\nScore 226 72.28464419475655\nScore 227 72.28464419475655\nScore 228 72.28464419475655\nScore 229 72.28464419475655\nScore 230 72.28464419475655\nScore 231 72.28464419475655\nScore 232 72.28464419475655\nScore 233 72.28464419475655\nScore 234 72.28464419475655\nScore 235 72.28464419475655\nScore 236 72.28464419475655\nScore 237 72.28464419475655\nScore 238 72.28464419475655\nScore 239 72.28464419475655\nScore 240 72.28464419475655\nScore 241 72.28464419475655\nScore 242 72.28464419475655\nScore 243 72.28464419475655\nScore 244 72.28464419475655\nScore 245 72.28464419475655\nScore 246 72.28464419475655\nScore 247 72.28464419475655\nScore 248 72.28464419475655\nScore 249 71.91011235955057\nScore 250 71.91011235955057\nScore 251 71.91011235955057\nScore 252 71.91011235955057\nScore 253 71.91011235955057\nScore 254 71.91011235955057\nScore 255 71.91011235955057\nScore 256 71.91011235955057\nScore 257 71.91011235955057\nScore 258 71.91011235955057\nScore 259 71.91011235955057\nScore 260 71.91011235955057\nScore 261 71.91011235955057\nScore 262 71.91011235955057\nScore 263 71.91011235955057\nScore 264 71.91011235955057\nScore 265 71.91011235955057\nScore 266 71.91011235955057\n"
    }
   ],
   "source": [
    "y = (df['Pclass']).astype('int')\n",
    "x = (df.drop(['Pclass','PassengerId'],axis = 1)).astype('int')\n",
    "x_train, x_test, y_train, y_test = train_test_split(x, y, test_size = 0.3, random_state = 0)    \n",
    "for j in range(1,267):\n",
    "    knn = KNeighborsClassifier(n_neighbors=int(j),p=2,metric='minkowski')\n",
    "    print(\"Score\",j,(knn.fit(x_train,y_train).score(x_test,y_test)*100))\n",
    "    #y_pred = knn.predict(x_test)\n",
    "    #print(\"Confusion_Matrix:\",j,confusion_matrix(y_test,y_pred))"
   ]
  },
  {
   "cell_type": "code",
   "execution_count": 11,
   "metadata": {
    "tags": []
   },
   "outputs": [
    {
     "output_type": "stream",
     "name": "stdout",
     "text": "Score Survived 64.7940074906367\nConfusion_Matrix: Survived [[132  25]\n [ 69  41]]\nScore Pclass 86.14232209737828\nConfusion_Matrix: Pclass [[ 63   6   1]\n [  8  28  13]\n [  8   1 139]]\nScore Sex 64.04494382022472\nConfusion_Matrix: Sex [[ 30  68]\n [ 28 141]]\nScore Age 19.475655430711612\nConfusion_Matrix: Age [[0 0 0 ... 0 0 0]\n [0 0 0 ... 0 0 0]\n [0 0 0 ... 0 0 0]\n ...\n [0 0 0 ... 0 0 0]\n [0 0 0 ... 0 0 0]\n [0 0 0 ... 0 0 0]]\nScore Embarked 77.15355805243446\nConfusion_Matrix: Embarked [[  6   1  42]\n [  0   6  16]\n [  1   1 194]]\nScore Parch 79.02621722846442\nConfusion_Matrix: Parch [[197   1   0   0   0]\n [ 32   8   0   0   0]\n [ 18   3   6   0   0]\n [  1   0   0   0   0]\n [  1   0   0   0   0]]\nScore SibSp 73.03370786516854\nConfusion_Matrix: SibSp [[167  14   1   0   0   0   0]\n [ 40  24   1   0   0   0   0]\n [  6   2   0   0   0   0   0]\n [  2   5   0   0   0   0   0]\n [  1   0   0   0   1   0   0]\n [  0   0   0   0   0   1   0]\n [  0   0   0   0   0   0   2]]\nScore Fare 31.46067415730337\nConfusion_Matrix: Fare [[ 1  0  2 ...  0  0  0]\n [ 0  0  4 ...  0  0  0]\n [ 0  0 63 ...  0  0  0]\n ...\n [ 0  0  1 ...  0  0  0]\n [ 0  0  1 ...  0  0  0]\n [ 0  0  0 ...  0  0  0]]\n"
    }
   ],
   "source": [
    "# SVM Algorithm\n",
    "Variables = ['Survived','Pclass','Sex','Age','Embarked','Parch','SibSp','Fare']\n",
    "for i in  Variables:\n",
    "    y = (df[i]).astype('int')\n",
    "    x = (df.drop([i,'PassengerId'],axis = 1)).astype('int')\n",
    "    x_train, x_test, y_train, y_test = train_test_split(x, y, test_size = 0.3, random_state = 0)\n",
    "    svm = SVC(kernel='rbf', random_state=0, gamma=.10, C=1.0)\n",
    "    print(\"Score\",i,(svm.fit(x_train,y_train).score(x_test,y_test)*100))\n",
    "    y_pred = svm.predict(x_test)\n",
    "    print(\"Confusion_Matrix:\",i,confusion_matrix(y_test,y_pred))"
   ]
  },
  {
   "cell_type": "code",
   "execution_count": null,
   "metadata": {},
   "outputs": [],
   "source": []
  }
 ]
}