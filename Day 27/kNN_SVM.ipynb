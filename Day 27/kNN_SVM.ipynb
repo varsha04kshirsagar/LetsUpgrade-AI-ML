{
 "metadata": {
  "language_info": {
   "codemirror_mode": {
    "name": "ipython",
    "version": 3
   },
   "file_extension": ".py",
   "mimetype": "text/x-python",
   "name": "python",
   "nbconvert_exporter": "python",
   "pygments_lexer": "ipython3",
   "version": 3
  },
  "orig_nbformat": 2,
  "kernelspec": {
   "name": "python_defaultSpec_1597281471754",
   "display_name": "Python 3.7.4 64-bit ('ProgramData': virtualenv)"
  }
 },
 "nbformat": 4,
 "nbformat_minor": 2,
 "cells": [
  {
   "cell_type": "code",
   "execution_count": 27,
   "metadata": {},
   "outputs": [],
   "source": [
    "import  pandas as pd\n",
    "from sklearn import preprocessing\n",
    "from sklearn.model_selection import train_test_split\n",
    "from sklearn.metrics import accuracy_score\n",
    "from sklearn.metrics import confusion_matrix\n",
    "from sklearn.neighbors import KNeighborsClassifier\n",
    "from sklearn.svm import SVC"
   ]
  },
  {
   "cell_type": "code",
   "execution_count": 28,
   "metadata": {},
   "outputs": [],
   "source": [
    "df = pd.read_excel(\"naive.xlsx\",sheet_name=0)"
   ]
  },
  {
   "cell_type": "code",
   "execution_count": 29,
   "metadata": {},
   "outputs": [
    {
     "output_type": "execute_result",
     "data": {
      "text/plain": "Index(['PassengerId', 'Survived', 'Pclass', 'Sex', 'Age', 'SibSp', 'Parch',\n       'Fare', 'Embarked'],\n      dtype='object')"
     },
     "metadata": {},
     "execution_count": 29
    }
   ],
   "source": [
    "df.columns"
   ]
  },
  {
   "cell_type": "code",
   "execution_count": 30,
   "metadata": {},
   "outputs": [],
   "source": [
    "le = preprocessing.LabelEncoder()"
   ]
  },
  {
   "cell_type": "code",
   "execution_count": 31,
   "metadata": {},
   "outputs": [],
   "source": [
    "df['Sex'] = le.fit_transform(df['Sex'])\n",
    "df['Embarked'] = le.fit_transform(df['Embarked'])"
   ]
  },
  {
   "cell_type": "code",
   "execution_count": 32,
   "metadata": {},
   "outputs": [
    {
     "output_type": "execute_result",
     "data": {
      "text/plain": "   Survived  Sex   Age  SibSp  Parch     Fare  Embarked\n0         0    1  22.0      1      0   7.2500         2\n1         1    0  38.0      1      0  71.2833         0\n2         1    0  26.0      0      0   7.9250         2\n3         1    0  35.0      1      0  53.1000         2\n4         0    1  35.0      0      0   8.0500         2",
      "text/html": "<div>\n<style scoped>\n    .dataframe tbody tr th:only-of-type {\n        vertical-align: middle;\n    }\n\n    .dataframe tbody tr th {\n        vertical-align: top;\n    }\n\n    .dataframe thead th {\n        text-align: right;\n    }\n</style>\n<table border=\"1\" class=\"dataframe\">\n  <thead>\n    <tr style=\"text-align: right;\">\n      <th></th>\n      <th>Survived</th>\n      <th>Sex</th>\n      <th>Age</th>\n      <th>SibSp</th>\n      <th>Parch</th>\n      <th>Fare</th>\n      <th>Embarked</th>\n    </tr>\n  </thead>\n  <tbody>\n    <tr>\n      <td>0</td>\n      <td>0</td>\n      <td>1</td>\n      <td>22.0</td>\n      <td>1</td>\n      <td>0</td>\n      <td>7.2500</td>\n      <td>2</td>\n    </tr>\n    <tr>\n      <td>1</td>\n      <td>1</td>\n      <td>0</td>\n      <td>38.0</td>\n      <td>1</td>\n      <td>0</td>\n      <td>71.2833</td>\n      <td>0</td>\n    </tr>\n    <tr>\n      <td>2</td>\n      <td>1</td>\n      <td>0</td>\n      <td>26.0</td>\n      <td>0</td>\n      <td>0</td>\n      <td>7.9250</td>\n      <td>2</td>\n    </tr>\n    <tr>\n      <td>3</td>\n      <td>1</td>\n      <td>0</td>\n      <td>35.0</td>\n      <td>1</td>\n      <td>0</td>\n      <td>53.1000</td>\n      <td>2</td>\n    </tr>\n    <tr>\n      <td>4</td>\n      <td>0</td>\n      <td>1</td>\n      <td>35.0</td>\n      <td>0</td>\n      <td>0</td>\n      <td>8.0500</td>\n      <td>2</td>\n    </tr>\n  </tbody>\n</table>\n</div>"
     },
     "metadata": {},
     "execution_count": 32
    }
   ],
   "source": [
    "y = df['Pclass']\n",
    "x = df.drop(['Pclass','PassengerId'],axis = 1)\n",
    "x.head()"
   ]
  },
  {
   "cell_type": "code",
   "execution_count": 33,
   "metadata": {
    "tags": []
   },
   "outputs": [
    {
     "output_type": "stream",
     "name": "stdout",
     "text": "Score Survived 3 0.6891385767790262\nConfusion_Matrix: Survived 3 [[122  35]\n [ 48  62]]\nScore Survived 4 0.6591760299625468\nConfusion_Matrix: Survived 4 [[133  24]\n [ 67  43]]\nScore Survived 5 0.6966292134831461\nConfusion_Matrix: Survived 5 [[125  32]\n [ 49  61]]\nScore Survived 6 0.6891385767790262\nConfusion_Matrix: Survived 6 [[130  27]\n [ 56  54]]\nScore Survived 7 0.6928838951310862\nConfusion_Matrix: Survived 7 [[124  33]\n [ 49  61]]\nScore Pclass 3 0.8576779026217228\nConfusion_Matrix: Pclass 3 [[ 62   6   2]\n [  8  28  13]\n [  3   6 139]]\nScore Pclass 4 0.8239700374531835\nConfusion_Matrix: Pclass 4 [[ 60   7   3]\n [  8  31  10]\n [  5  14 129]]\nScore Pclass 5 0.8164794007490637\nConfusion_Matrix: Pclass 5 [[ 57  10   3]\n [  8  26  15]\n [  4   9 135]]\nScore Pclass 6 0.8314606741573034\nConfusion_Matrix: Pclass 6 [[ 63   5   2]\n [  7  31  11]\n [  4  16 128]]\nScore Pclass 7 0.8352059925093633\nConfusion_Matrix: Pclass 7 [[ 59   8   3]\n [  7  29  13]\n [  4   9 135]]\nScore Sex 3 0.6404494382022472\nConfusion_Matrix: Sex 3 [[ 49  49]\n [ 47 122]]\nScore Sex 4 0.6367041198501873\nConfusion_Matrix: Sex 4 [[ 64  34]\n [ 63 106]]\nScore Sex 5 0.704119850187266\nConfusion_Matrix: Sex 5 [[ 56  42]\n [ 37 132]]\nScore Sex 6 0.6741573033707865\nConfusion_Matrix: Sex 6 [[ 59  39]\n [ 48 121]]\nScore Sex 7 0.651685393258427\nConfusion_Matrix: Sex 7 [[ 45  53]\n [ 40 129]]\nScore Age 3 0.08239700374531835\nConfusion_Matrix: Age 3 [[1 0 1 ... 0 0 0]\n [0 0 0 ... 0 0 0]\n [0 0 0 ... 0 0 0]\n ...\n [0 0 0 ... 0 0 0]\n [0 0 0 ... 0 0 0]\n [0 0 0 ... 0 0 0]]\nScore Age 4 0.09737827715355805\nConfusion_Matrix: Age 4 [[1 0 1 ... 0 0 0]\n [0 0 0 ... 0 0 0]\n [0 0 0 ... 0 0 0]\n ...\n [0 0 0 ... 0 0 0]\n [0 0 0 ... 0 0 0]\n [0 0 0 ... 0 0 0]]\nScore Age 5 0.12359550561797752\nConfusion_Matrix: Age 5 [[1 0 1 ... 0 0 0]\n [0 0 0 ... 0 0 0]\n [0 0 0 ... 0 0 0]\n ...\n [0 0 0 ... 0 0 0]\n [0 0 0 ... 0 0 0]\n [0 0 0 ... 0 0 0]]\nScore Age 6 0.15355805243445692\nConfusion_Matrix: Age 6 [[1 1 1 ... 0 0 0]\n [0 0 0 ... 0 0 0]\n [0 0 1 ... 0 0 0]\n ...\n [0 0 0 ... 0 0 0]\n [0 0 0 ... 0 0 0]\n [0 0 0 ... 0 0 0]]\nScore Age 7 0.15355805243445692\nConfusion_Matrix: Age 7 [[1 0 1 ... 0 0 0]\n [0 0 0 ... 0 0 0]\n [0 0 1 ... 0 0 0]\n ...\n [0 0 0 ... 0 0 0]\n [0 0 0 ... 0 0 0]\n [0 0 0 ... 0 0 0]]\nScore Embarked 3 0.700374531835206\nConfusion_Matrix: Embarked 3 [[ 17   3  29]\n [  1   8  13]\n [ 30   4 162]]\nScore Embarked 4 0.7228464419475655\nConfusion_Matrix: Embarked 4 [[ 24   5  20]\n [  2  10  10]\n [ 27  10 159]]\nScore Embarked 5 0.7602996254681648\nConfusion_Matrix: Embarked 5 [[ 21   5  23]\n [  1   9  12]\n [ 18   5 173]]\nScore Embarked 6 0.7378277153558053\nConfusion_Matrix: Embarked 6 [[ 23   6  20]\n [  1   8  13]\n [ 23   7 166]]\nScore Embarked 7 0.7453183520599251\nConfusion_Matrix: Embarked 7 [[ 18   7  24]\n [  1   7  14]\n [ 19   3 174]]\nScore Parch 3 0.7865168539325843\nConfusion_Matrix: Parch 3 [[190   7   1   0   0]\n [ 26  13   1   0   0]\n [ 15   5   7   0   0]\n [  1   0   0   0   0]\n [  1   0   0   0   0]]\nScore Parch 4 0.7865168539325843\nConfusion_Matrix: Parch 4 [[193   4   1   0   0]\n [ 29  11   0   0   0]\n [ 15   6   6   0   0]\n [  0   1   0   0   0]\n [  1   0   0   0   0]]\nScore Parch 5 0.7865168539325843\nConfusion_Matrix: Parch 5 [[193   4   1   0   0]\n [ 28   9   3   0   0]\n [ 15   4   8   0   0]\n [  0   1   0   0   0]\n [  1   0   0   0   0]]\nScore Parch 6 0.797752808988764\nConfusion_Matrix: Parch 6 [[197   0   1   0   0]\n [ 29   8   3   0   0]\n [ 15   4   8   0   0]\n [  0   0   1   0   0]\n [  1   0   0   0   0]]\nScore Parch 7 0.7940074906367042\nConfusion_Matrix: Parch 7 [[196   1   1   0   0]\n [ 29   8   3   0   0]\n [ 15   4   8   0   0]\n [  0   1   0   0   0]\n [  1   0   0   0   0]]\nScore SibSp 3 0.7340823970037453\nConfusion_Matrix: SibSp 3 [[157  22   1   0   2   0   0]\n [ 27  31   3   2   2   0   0]\n [  5   1   1   1   0   0   0]\n [  1   3   0   3   0   0   0]\n [  0   1   0   0   1   0   0]\n [  0   0   0   0   0   1   0]\n [  0   0   0   0   0   0   2]]\nScore SibSp 4 0.7078651685393258\nConfusion_Matrix: SibSp 4 [[163  16   1   0   2   0   0]\n [ 38  20   3   2   2   0   0]\n [  5   1   0   2   0   0   0]\n [  1   4   0   2   0   0   0]\n [  0   0   1   0   1   0   0]\n [  0   0   0   0   0   1   0]\n [  0   0   0   0   0   0   2]]\nScore SibSp 5 0.7265917602996255\nConfusion_Matrix: SibSp 5 [[159  20   1   0   2   0   0]\n [ 30  30   3   0   1   0   1]\n [  5   1   1   1   0   0   0]\n [  2   5   0   0   0   0   0]\n [  0   0   1   0   1   0   0]\n [  0   0   0   0   0   1   0]\n [  0   0   0   0   0   0   2]]\nScore SibSp 6 0.7265917602996255\nConfusion_Matrix: SibSp 6 [[161  19   1   0   1   0   0]\n [ 33  29   0   0   2   0   1]\n [  6   2   0   0   0   0   0]\n [  1   5   0   0   1   0   0]\n [  0   0   1   0   1   0   0]\n [  0   0   0   0   0   1   0]\n [  0   0   0   0   0   0   2]]\nScore SibSp 7 0.7228464419475655\nConfusion_Matrix: SibSp 7 [[157  23   1   0   1   0   0]\n [ 30  32   0   0   2   0   1]\n [  6   2   0   0   0   0   0]\n [  1   4   0   0   2   0   0]\n [  0   0   1   0   1   0   0]\n [  0   0   0   0   0   1   0]\n [  0   0   0   0   0   0   2]]\nScore Fare 3 0.27715355805243447\nConfusion_Matrix: Fare 3 [[ 3  0  1 ...  0  0  0]\n [ 0  0  2 ...  0  0  0]\n [ 0  0 51 ...  0  0  0]\n ...\n [ 0  0  0 ...  0  0  0]\n [ 0  0  1 ...  0  0  0]\n [ 0  0  0 ...  0  0  0]]\nScore Fare 4 0.27340823970037453\nConfusion_Matrix: Fare 4 [[3 0 0 ... 0 0 0]\n [0 0 0 ... 0 0 0]\n [0 0 0 ... 0 0 0]\n ...\n [0 0 0 ... 0 0 0]\n [0 0 0 ... 0 0 0]\n [0 0 0 ... 0 0 0]]\nScore Fare 5 0.2696629213483146\nConfusion_Matrix: Fare 5 [[ 2  0  1 ...  0  0  0]\n [ 0  0  2 ...  0  0  0]\n [ 1  1 51 ...  0  0  0]\n ...\n [ 0  0  0 ...  0  0  0]\n [ 0  0  1 ...  0  0  0]\n [ 0  0  0 ...  0  0  1]]\nScore Fare 6 0.26217228464419473\nConfusion_Matrix: Fare 6 [[ 2  0  2 ...  0  0  0]\n [ 0  0  3 ...  0  0  0]\n [ 1  0 56 ...  0  0  0]\n ...\n [ 0  0  0 ...  0  0  0]\n [ 0  0  1 ...  0  0  0]\n [ 0  0  0 ...  0  0  1]]\nScore Fare 7 0.250936329588015\nConfusion_Matrix: Fare 7 [[ 2  0  2 ...  0  0  0]\n [ 0  0  3 ...  0  0  0]\n [ 1  0 53 ...  0  0  0]\n ...\n [ 0  0  0 ...  0  0  0]\n [ 0  0  1 ...  0  0  0]\n [ 0  0  0 ...  0  0  1]]\n"
    }
   ],
   "source": [
    "#k-NN Algorithm\n",
    "Variables = ['Survived','Pclass','Sex','Age','Embarked','Parch','SibSp','Fare']\n",
    "for i in  Variables:\n",
    "    y = (df[i]).astype('int')\n",
    "    x = (df.drop([i,'PassengerId'],axis = 1)).astype('int')\n",
    "    x_train, x_test, y_train, y_test = train_test_split(x, y, test_size = 0.3, random_state = 0)\n",
    "    k = [3,4,5,6,7]\n",
    "    for j in k:\n",
    "        #print(j, end=', ')\n",
    "        knn = KNeighborsClassifier(n_neighbors=int(j),p=2,metric='minkowski')\n",
    "        print(\"Score\",i,j,knn.fit(x_train,y_train).score(x_test,y_test))\n",
    "        y_pred = knn.predict(x_test)\n",
    "        print(\"Confusion_Matrix:\",i,j,confusion_matrix(y_test,y_pred))\n",
    "    "
   ]
  },
  {
   "cell_type": "code",
   "execution_count": 36,
   "metadata": {
    "tags": []
   },
   "outputs": [
    {
     "output_type": "stream",
     "name": "stdout",
     "text": "Score Survived 0.6479400749063671\nConfusion_Matrix: Survived [[132  25]\n [ 69  41]]\nScore Pclass 0.8614232209737828\nConfusion_Matrix: Pclass [[ 63   6   1]\n [  8  28  13]\n [  8   1 139]]\nScore Sex 0.6404494382022472\nConfusion_Matrix: Sex [[ 30  68]\n [ 28 141]]\nScore Age 0.1947565543071161\nConfusion_Matrix: Age [[0 0 0 ... 0 0 0]\n [0 0 0 ... 0 0 0]\n [0 0 0 ... 0 0 0]\n ...\n [0 0 0 ... 0 0 0]\n [0 0 0 ... 0 0 0]\n [0 0 0 ... 0 0 0]]\nScore Embarked 0.7715355805243446\nConfusion_Matrix: Embarked [[  6   1  42]\n [  0   6  16]\n [  1   1 194]]\nScore Parch 0.7902621722846442\nConfusion_Matrix: Parch [[197   1   0   0   0]\n [ 32   8   0   0   0]\n [ 18   3   6   0   0]\n [  1   0   0   0   0]\n [  1   0   0   0   0]]\nScore SibSp 0.7303370786516854\nConfusion_Matrix: SibSp [[167  14   1   0   0   0   0]\n [ 40  24   1   0   0   0   0]\n [  6   2   0   0   0   0   0]\n [  2   5   0   0   0   0   0]\n [  1   0   0   0   1   0   0]\n [  0   0   0   0   0   1   0]\n [  0   0   0   0   0   0   2]]\nScore Fare 0.3146067415730337\nConfusion_Matrix: Fare [[ 1  0  2 ...  0  0  0]\n [ 0  0  4 ...  0  0  0]\n [ 0  0 63 ...  0  0  0]\n ...\n [ 0  0  1 ...  0  0  0]\n [ 0  0  1 ...  0  0  0]\n [ 0  0  0 ...  0  0  0]]\n"
    }
   ],
   "source": [
    "# SVM Algorithm\n",
    "Variables = ['Survived','Pclass','Sex','Age','Embarked','Parch','SibSp','Fare']\n",
    "for i in  Variables:\n",
    "    y = (df[i]).astype('int')\n",
    "    x = (df.drop([i,'PassengerId'],axis = 1)).astype('int')\n",
    "    x_train, x_test, y_train, y_test = train_test_split(x, y, test_size = 0.3, random_state = 0)\n",
    "    svm = SVC(kernel='rbf', random_state=0, gamma=.10, C=1.0)\n",
    "    print(\"Score\",i,svm.fit(x_train,y_train).score(x_test,y_test))\n",
    "    y_pred = svm.predict(x_test)\n",
    "    print(\"Confusion_Matrix:\",i,confusion_matrix(y_test,y_pred))"
   ]
  },
  {
   "cell_type": "code",
   "execution_count": null,
   "metadata": {},
   "outputs": [],
   "source": []
  }
 ]
}