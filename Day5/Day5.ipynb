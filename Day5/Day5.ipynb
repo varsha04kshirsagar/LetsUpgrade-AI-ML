{
  "nbformat": 4,
  "nbformat_minor": 0,
  "metadata": {
    "colab": {
      "name": "Day5.ipynb",
      "provenance": [],
      "collapsed_sections": []
    },
    "kernelspec": {
      "name": "python3",
      "display_name": "Python 3"
    }
  },
  "cells": [
    {
      "cell_type": "markdown",
      "metadata": {
        "id": "06pJ-6DmsUxR",
        "colab_type": "text"
      },
      "source": [
        "**Q.1 Write a Python program to find the first 20 non-even prime natural numbers.**\n"
      ]
    },
    {
      "cell_type": "code",
      "metadata": {
        "id": "RDvhFhwlsYXZ",
        "colab_type": "code",
        "colab": {
          "base_uri": "https://localhost:8080/",
          "height": 374
        },
        "outputId": "b408b352-561f-401e-a925-30bc271e7696"
      },
      "source": [
        "prime_number = []\n",
        "noneven_prime_number = []\n",
        "for num in range(1,200):\n",
        "  if num >2:\n",
        "    for i in range(2,num):\n",
        "      if (num % i) ==0:\n",
        "        break\n",
        "    else:\n",
        "      prime_number.append(num)\n",
        "      #print(\"prime number\", prime_number)\n",
        "      n_prime_number = prime_number\n",
        "\n",
        "print(\"prime number\",n_prime_number)       \n",
        "for k in range(0,20):\n",
        "  noneven_prime_number.append(n_prime_number[k])\n",
        "  print(\"first 20 noneven prime number is:\", noneven_prime_number)\n",
        "\n"
      ],
      "execution_count": 7,
      "outputs": [
        {
          "output_type": "stream",
          "text": [
            "prime number [3, 5, 7, 11, 13, 17, 19, 23, 29, 31, 37, 41, 43, 47, 53, 59, 61, 67, 71, 73, 79, 83, 89, 97, 101, 103, 107, 109, 113, 127, 131, 137, 139, 149, 151, 157, 163, 167, 173, 179, 181, 191, 193, 197, 199]\n",
            "first 20 noneven prime number is: [3]\n",
            "first 20 noneven prime number is: [3, 5]\n",
            "first 20 noneven prime number is: [3, 5, 7]\n",
            "first 20 noneven prime number is: [3, 5, 7, 11]\n",
            "first 20 noneven prime number is: [3, 5, 7, 11, 13]\n",
            "first 20 noneven prime number is: [3, 5, 7, 11, 13, 17]\n",
            "first 20 noneven prime number is: [3, 5, 7, 11, 13, 17, 19]\n",
            "first 20 noneven prime number is: [3, 5, 7, 11, 13, 17, 19, 23]\n",
            "first 20 noneven prime number is: [3, 5, 7, 11, 13, 17, 19, 23, 29]\n",
            "first 20 noneven prime number is: [3, 5, 7, 11, 13, 17, 19, 23, 29, 31]\n",
            "first 20 noneven prime number is: [3, 5, 7, 11, 13, 17, 19, 23, 29, 31, 37]\n",
            "first 20 noneven prime number is: [3, 5, 7, 11, 13, 17, 19, 23, 29, 31, 37, 41]\n",
            "first 20 noneven prime number is: [3, 5, 7, 11, 13, 17, 19, 23, 29, 31, 37, 41, 43]\n",
            "first 20 noneven prime number is: [3, 5, 7, 11, 13, 17, 19, 23, 29, 31, 37, 41, 43, 47]\n",
            "first 20 noneven prime number is: [3, 5, 7, 11, 13, 17, 19, 23, 29, 31, 37, 41, 43, 47, 53]\n",
            "first 20 noneven prime number is: [3, 5, 7, 11, 13, 17, 19, 23, 29, 31, 37, 41, 43, 47, 53, 59]\n",
            "first 20 noneven prime number is: [3, 5, 7, 11, 13, 17, 19, 23, 29, 31, 37, 41, 43, 47, 53, 59, 61]\n",
            "first 20 noneven prime number is: [3, 5, 7, 11, 13, 17, 19, 23, 29, 31, 37, 41, 43, 47, 53, 59, 61, 67]\n",
            "first 20 noneven prime number is: [3, 5, 7, 11, 13, 17, 19, 23, 29, 31, 37, 41, 43, 47, 53, 59, 61, 67, 71]\n",
            "first 20 noneven prime number is: [3, 5, 7, 11, 13, 17, 19, 23, 29, 31, 37, 41, 43, 47, 53, 59, 61, 67, 71, 73]\n"
          ],
          "name": "stdout"
        }
      ]
    },
    {
      "cell_type": "markdown",
      "metadata": {
        "id": "xjfi2lLP5i7V",
        "colab_type": "text"
      },
      "source": [
        "**Write a Python program to implement 15 functions of string**"
      ]
    },
    {
      "cell_type": "code",
      "metadata": {
        "id": "JfUFhX965p56",
        "colab_type": "code",
        "colab": {
          "base_uri": "https://localhost:8080/",
          "height": 663
        },
        "outputId": "57152a9a-439b-4e22-ced3-995926acca44"
      },
      "source": [
        "String_var = 'LetsUpgrade'\n",
        "print(String_var)\n",
        "\n",
        "#1.Replece and store in another variable\n",
        "String_Var = String_var.replace(\"LetsUpgrade\",\"AI/ML Program\")\n",
        "print(String_Var)\n",
        "\n",
        "#2.Access Individual Characters of a String\n",
        "String_var = 'LetsUpgrade'\n",
        "print (String_var[0])       # return 1st character\n",
        "print (String_var[-1])       # return last character\n",
        "print (String_var[-2])       # return second last character\n",
        "\n",
        "#3.Slice a String in Python\n",
        "String_var = 'LetsUpgrade'\n",
        "print (String_var[3:5])\t    #return a range of character\n",
        "print (String_var[4:])      # return all characters from index 4\n",
        "\n",
        "#4.String Operators - Concatenation (+)\n",
        "var1 = 'Python'\n",
        "var2 = 'String'\n",
        "print (var1+var2)\n",
        "\n",
        "#5.String Operators - Repetition (*)\n",
        "var1 = 'Python'\n",
        "print (var1*3)\n",
        "\n",
        "#5.String Operators - Membership (in)\n",
        "var1 = 'Python'\n",
        "print ('n' in var1)\n",
        "\n",
        "#6.String Operators - Membership (not in)\n",
        "var1 = 'Python'\n",
        "print ('N' not in var1)\n",
        "\n",
        "#7.String Operators - Iterating (for)\n",
        "for var in var1: print (var, end =\"\")\n",
        "\n",
        "#8.capitalize()\n",
        "var = 'PYTHON'\n",
        "print (var.capitalize())\n",
        "\n",
        "#9.lower() \n",
        "var = 'TechBeamers'\n",
        "print (var.lower())\n",
        "\n",
        "#10. upper()\n",
        "var = 'TechBeamers'\n",
        "print (var.upper())\n",
        "\n",
        "#11.swapcase()\n",
        "var = 'TechBeamers'\n",
        "print (var.swapcase())\n",
        "\n",
        "#12.title()\n",
        "var = 'welcome to Python programming'\n",
        "print (var.title())\n",
        "\n",
        "#13.count( str[, beg [, end]])\n",
        "var='TechBeamers'\n",
        "str='e'\n",
        "print (var.count(str))\n",
        "\n",
        "var2='Eagle Eyes'\n",
        "print (var2.count('E',0,5))\n",
        "\n",
        "#14.islower()\n",
        "var='Python'\n",
        "print (var.islower())\n",
        "\n",
        "#15.isupper()\n",
        "var='Python'\n",
        "print (var.isupper())\n",
        "\n",
        "#16.isdecimal() \n",
        "\n",
        "num=u'2016'\n",
        "print (num.isdecimal())\n",
        "\n",
        "#17.isdigit() \n",
        "print ('2'.isdigit())\n",
        "\n",
        "#18.isnumeric() \n",
        "num=u'2016'\n",
        "print (num.isnumeric())\n",
        "\n",
        "# isalpha()\n",
        "print ('python'.isalpha())\n",
        "print ('python3'.isalpha())\n",
        "\n",
        "#isalnum() \n",
        "print ('python'.isalnum())\n",
        "print ('python3'.isalnum())\n",
        "\n",
        "#rjust(width[,fillchar]) \n",
        "\n",
        "var='Python'\n",
        "print (var.rjust(10))\n",
        "\n",
        "print (var.rjust(10,'-'))\n",
        "\n",
        "#ljust(width[,fillchar]) –\n",
        "var='Python'\n",
        "print (var.ljust(10))\n",
        "\n",
        "print (var.ljust(10,'-'))\n",
        "\n",
        "#center(width[,fillchar])\n",
        "var='Python'\n",
        "print (var.center(20))\n",
        "\n",
        "print (var.center(20,'*'))\n",
        "\n",
        "#zfill(width) \n",
        "var='Python'\n",
        "print (var.zfill(10))\n",
        "\n",
        "var='+Python'\n",
        "print (var.zfill(10))\n",
        "\n",
        "#find(str [,i [,j]])\n",
        "var=\"Tech Beamers\"\n",
        "str=\"Beam\"\n",
        "print (var.find(str))\n",
        "\n",
        "#index(str[,i [,j]]) \n",
        "var='Tech Beamers'\n",
        "str='Beam'\n",
        "print (var.index(str))\n",
        "\n",
        "#rfind(str[,i [,j]])\n",
        "var='This is a good example'\n",
        "str='is'\n",
        "print (var.rfind(str,0,10))\n",
        "\n"
      ],
      "execution_count": 19,
      "outputs": [
        {
          "output_type": "stream",
          "text": [
            "LetsUpgrade\n",
            "AI/ML Program\n",
            "L\n",
            "e\n",
            "d\n",
            "sU\n",
            "Upgrade\n",
            "PythonString\n",
            "PythonPythonPython\n",
            "True\n",
            "True\n",
            "PythonPython\n",
            "techbeamers\n",
            "TECHBEAMERS\n",
            "tECHbEAMERS\n",
            "Welcome To Python Programming\n",
            "3\n",
            "1\n",
            "False\n",
            "False\n",
            "True\n",
            "True\n",
            "True\n",
            "True\n",
            "False\n",
            "True\n",
            "True\n",
            "    Python\n",
            "----Python\n",
            "Python    \n",
            "Python----\n",
            "       Python       \n",
            "*******Python*******\n",
            "0000Python\n",
            "+000Python\n",
            "5\n",
            "5\n",
            "5\n"
          ],
          "name": "stdout"
        }
      ]
    },
    {
      "cell_type": "markdown",
      "metadata": {
        "id": "293bWOTAKZ9c",
        "colab_type": "text"
      },
      "source": [
        "**Write a Python program to check if the given string is a Palindrome or Anagram or None of them. Display the message accordingly to the user.**\n"
      ]
    },
    {
      "cell_type": "code",
      "metadata": {
        "id": "oX69IwNEKgiq",
        "colab_type": "code",
        "colab": {}
      },
      "source": [
        "# Function to check whether two strings are anagram of each other\n",
        "def areAnagram(str1, str2):\n",
        "  string1 = sorted(str1)\n",
        "  string2 = sorted(str2)\n",
        "  if string1 == string2 :\n",
        "    print(\"The two strings are Anagaram of each othe\")\n",
        "  else:\n",
        "    print(\"The two strings aren't Anagram of each other\")   \n",
        "\n",
        "# Function to check given string is palindrome or not\n",
        "def arePalindrome(str1):\n",
        "  if str1 == str1[::-1]:\n",
        "    print(\"Given string is Palindrome\")\n",
        "  else:\n",
        "    print(\"Given string is not Palindrome\")  \n"
      ],
      "execution_count": 23,
      "outputs": []
    },
    {
      "cell_type": "code",
      "metadata": {
        "id": "2r0v2ESmRGB3",
        "colab_type": "code",
        "colab": {
          "base_uri": "https://localhost:8080/",
          "height": 51
        },
        "outputId": "f334deb4-3d8d-4d7f-d005-8c238d89384d"
      },
      "source": [
        "Var = areAnagram('code','dcoe')\n",
        "Var1 = arePalindrome('malayalam')"
      ],
      "execution_count": 24,
      "outputs": [
        {
          "output_type": "stream",
          "text": [
            "The two strings are Anagaram of each othe\n",
            "Given string is Palindrome\n"
          ],
          "name": "stdout"
        }
      ]
    },
    {
      "cell_type": "code",
      "metadata": {
        "id": "G_jYA5NoRScu",
        "colab_type": "code",
        "colab": {
          "base_uri": "https://localhost:8080/",
          "height": 51
        },
        "outputId": "30e5d05d-adf7-494c-86ca-0ad58a71d81b"
      },
      "source": [
        "var = areAnagram('code','speedy')\n",
        "var1 = arePalindrome('python')"
      ],
      "execution_count": 25,
      "outputs": [
        {
          "output_type": "stream",
          "text": [
            "The two strings aren't Anagram of each other\n",
            "Given string is not Palindrome\n"
          ],
          "name": "stdout"
        }
      ]
    },
    {
      "cell_type": "markdown",
      "metadata": {
        "id": "ahuVCCWhS6IE",
        "colab_type": "text"
      },
      "source": [
        "**Write a Python's user defined function that removes all the additional characters from the string and converts it finally to lower case using built-in lower()**"
      ]
    },
    {
      "cell_type": "code",
      "metadata": {
        "id": "B4H4f7mVTmm0",
        "colab_type": "code",
        "colab": {
          "base_uri": "https://localhost:8080/",
          "height": 68
        },
        "outputId": "239450ce-b7bc-4271-fee4-952da8d2d569"
      },
      "source": [
        "String1 = input(\"Enter given string\")\n",
        "print(\"Orignal string is  \" + String1)\n",
        "\n",
        "res_str = String1.replace('@', '')\n",
        "final_str = res_str.lower()\n",
        "print(\"The string after removal of character  \" + final_str)"
      ],
      "execution_count": 28,
      "outputs": [
        {
          "output_type": "stream",
          "text": [
            "Enter given stringDr.DaneshIngle@LetsUpgarde\n",
            "Orignal string is  Dr.DaneshIngle@LetsUpgarde\n",
            "The string after removal of character  dr.daneshingleletsupgarde\n"
          ],
          "name": "stdout"
        }
      ]
    }
  ]
}