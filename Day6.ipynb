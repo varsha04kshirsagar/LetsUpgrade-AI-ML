{
  "nbformat": 4,
  "nbformat_minor": 0,
  "metadata": {
    "colab": {
      "name": "Day6.ipynb",
      "provenance": [],
      "collapsed_sections": [],
      "authorship_tag": "ABX9TyOY+KqlL63HBBBtaH46Ek83",
      "include_colab_link": true
    },
    "kernelspec": {
      "name": "python3",
      "display_name": "Python 3"
    }
  },
  "cells": [
    {
      "cell_type": "markdown",
      "metadata": {
        "id": "view-in-github",
        "colab_type": "text"
      },
      "source": [
        "<a href=\"https://colab.research.google.com/github/varsha04kshirsagar/LetsUpgrade-AI-ML/blob/master/Day6.ipynb\" target=\"_parent\"><img src=\"https://colab.research.google.com/assets/colab-badge.svg\" alt=\"Open In Colab\"/></a>"
      ]
    },
    {
      "cell_type": "markdown",
      "metadata": {
        "id": "6bydQjhp7qCK",
        "colab_type": "text"
      },
      "source": [
        "**Q.1 Assuming that we have some email addresses in the \"username@companyname.com\" format, please write program to print the company name of a given email address. Both user names and company names are composed of letters\n",
        "only**"
      ]
    },
    {
      "cell_type": "code",
      "metadata": {
        "id": "eEf74k5q75-I",
        "colab_type": "code",
        "colab": {
          "base_uri": "https://localhost:8080/",
          "height": 72
        },
        "outputId": "59a12814-982e-4fd5-fef7-0b8885fff831"
      },
      "source": [
        "import re\n",
        "email = input(\"Enter given Email Address is\")\n",
        "pat2 = \"(\\w+)@(\\w+).(com)\"\n",
        "r2 = re.match(pat2,email)\n",
        "print (r2.group(2))"
      ],
      "execution_count": 7,
      "outputs": [
        {
          "output_type": "stream",
          "text": [
            "Enter given Email Address isvarsha@google.com\n",
            "google\n"
          ],
          "name": "stdout"
        }
      ]
    },
    {
      "cell_type": "markdown",
      "metadata": {
        "id": "Dwx4xkpQ-QFZ",
        "colab_type": "text"
      },
      "source": [
        "**Q.2 Write a program that accepts a comma-separated sequence of words as input and prints the words in a comma\n",
        "separated sequence after sorting them alphabetically.**\n"
      ]
    },
    {
      "cell_type": "code",
      "metadata": {
        "id": "O5UErjJy-dpj",
        "colab_type": "code",
        "colab": {
          "base_uri": "https://localhost:8080/",
          "height": 72
        },
        "outputId": "bcd7dd31-019c-4122-8c5d-c53478b2a0c5"
      },
      "source": [
        "items = [x for x in input(\"enter data to sort  \").split(',')]\n",
        "items.sort()\n",
        "print (\"Sorted data are  \",' '.join(items))\n"
      ],
      "execution_count": 12,
      "outputs": [
        {
          "output_type": "stream",
          "text": [
            "enter data to sort  ram,anita,rajeev,madan,radhika,rahul,vinay,jaisingh\n",
            "Sorted data are   anita jaisingh madan radhika rahul rajeev ram vinay\n"
          ],
          "name": "stdout"
        }
      ]
    },
    {
      "cell_type": "markdown",
      "metadata": {
        "id": "5csh6Bow_y09",
        "colab_type": "text"
      },
      "source": [
        "**Q.3 Create your own Jupyter Notebook for Sets**"
      ]
    },
    {
      "cell_type": "code",
      "metadata": {
        "id": "NHTQkwiiAPSF",
        "colab_type": "code",
        "colab": {
          "base_uri": "https://localhost:8080/",
          "height": 139
        },
        "outputId": "f22dcb9d-886d-40f3-c489-c6c89114b4c1"
      },
      "source": [
        "my_set = {\"apple\", \"banana\", \"cherry\"}\n",
        "print(my_set)\n",
        "\n",
        "for x in my_set:\n",
        "  print(x)\n",
        "\n",
        "my_set.add(\"orange\")\n",
        "print(my_set)  \n",
        "\n",
        "print(len(my_set))\n",
        "\n",
        "my_set.discard(\"banana\")\n",
        "print(my_set)"
      ],
      "execution_count": 17,
      "outputs": [
        {
          "output_type": "stream",
          "text": [
            "{'apple', 'cherry', 'banana'}\n",
            "apple\n",
            "cherry\n",
            "banana\n",
            "{'orange', 'apple', 'cherry', 'banana'}\n",
            "4\n",
            "{'orange', 'apple', 'cherry'}\n"
          ],
          "name": "stdout"
        }
      ]
    },
    {
      "cell_type": "markdown",
      "metadata": {
        "id": "Z39Y6enyBCVS",
        "colab_type": "text"
      },
      "source": [
        "**Q.4 Given a list of n-1 numbers ranging from 1 to n, your task is to find the missing number. There are no duplicates.**"
      ]
    },
    {
      "cell_type": "code",
      "metadata": {
        "id": "_-yPJNLCBHBF",
        "colab_type": "code",
        "colab": {
          "base_uri": "https://localhost:8080/",
          "height": 35
        },
        "outputId": "9a98074a-4ece-41a0-ad30-5cc55c8e518a"
      },
      "source": [
        "def getMissingNo(A): \n",
        "    n = len(A) \n",
        "    total = (n + 1)*(n + 2)/2\n",
        "    sum_of_A = sum(A) \n",
        "    return total - sum_of_A \n",
        "A = [1, 2, 4, 5, 6] \n",
        "miss = getMissingNo(A) \n",
        "print(miss) \n"
      ],
      "execution_count": 19,
      "outputs": [
        {
          "output_type": "stream",
          "text": [
            "3.0\n"
          ],
          "name": "stdout"
        }
      ]
    },
    {
      "cell_type": "markdown",
      "metadata": {
        "id": "vXGX1DBAB0_p",
        "colab_type": "text"
      },
      "source": [
        "**Q.5 With a given list L, write a program to print this list L after removing all duplicate values with original order reserved**"
      ]
    },
    {
      "cell_type": "code",
      "metadata": {
        "id": "lVUT3gkoB_3l",
        "colab_type": "code",
        "colab": {
          "base_uri": "https://localhost:8080/",
          "height": 35
        },
        "outputId": "334ef0ee-cf60-4264-d579-d765de6b9551"
      },
      "source": [
        "def unique(l):\n",
        "  list_set = set(l)\n",
        "  unique_list = (list(list_set))\n",
        "  return unique_list\n",
        "\n",
        "l = [12, 24, 35, 24, 88, 120, 155, 88 ,120, 155]\n",
        "uniqe_list = unique(l)\n",
        "uniqe_list.sort()\n",
        "list1 = ''.join(str(uniqe_list))\n",
        "print(uniqe_list)"
      ],
      "execution_count": 28,
      "outputs": [
        {
          "output_type": "stream",
          "text": [
            "[12, 24, 35, 88, 120, 155]\n"
          ],
          "name": "stdout"
        }
      ]
    }
  ]
}