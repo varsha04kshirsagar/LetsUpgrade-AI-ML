{
 "metadata": {
  "language_info": {
   "codemirror_mode": {
    "name": "ipython",
    "version": 3
   },
   "file_extension": ".py",
   "mimetype": "text/x-python",
   "name": "python",
   "nbconvert_exporter": "python",
   "pygments_lexer": "ipython3",
   "version": "3.7.4-final"
  },
  "orig_nbformat": 2,
  "kernelspec": {
   "name": "python_defaultSpec_1597736909125",
   "display_name": "Python 3.7.4 64-bit ('base': conda)"
  }
 },
 "nbformat": 4,
 "nbformat_minor": 2,
 "cells": [
  {
   "cell_type": "code",
   "execution_count": 4,
   "metadata": {},
   "outputs": [],
   "source": [
    "#Import Python package\n",
    "import os\n",
    "import sys\n",
    "import numpy as np\n",
    "import pandas as pd\n",
    "\n",
    "from sklearn.model_selection import train_test_split\n",
    "from scipy.io import loadmat \n"
   ]
  },
  {
   "cell_type": "code",
   "execution_count": 5,
   "metadata": {},
   "outputs": [],
   "source": [
    "# Import Pyod Packages and the methods\n",
    "from pyod.models.pca import PCA\n",
    "from pyod.models.mcd import MCD\n",
    "from pyod.models.ocsvm import OCSVM\n",
    "from pyod.models.lof import LOF\n",
    "from pyod.models.cblof import CBLOF\n",
    "from pyod.models.knn import KNN\n",
    "from pyod.models.hbos import HBOS\n",
    "from pyod.models.abod import ABOD\n",
    "from pyod.models.iforest import IForest\n",
    "from pyod.models.feature_bagging import FeatureBagging"
   ]
  },
  {
   "cell_type": "code",
   "execution_count": 6,
   "metadata": {},
   "outputs": [],
   "source": [
    "# Import Metrics Packages\n",
    "from pyod.utils.utility import standardizer\n",
    "from pyod.utils.utility import precision_n_scores\n",
    "from sklearn.metrics import roc_auc_score"
   ]
  },
  {
   "cell_type": "code",
   "execution_count": 7,
   "metadata": {},
   "outputs": [],
   "source": [
    "mat_file_list = ['arrhythmia.mat', 'cardio.mat','glass.mat','ionosphere.mat','letter.mat','lympho.mat','mnist.mat','musk.mat','optdigits.mat','pendigits.mat','pima.mat','satellite.mat','satimage-2.mat','shuttle.mat','vertebral.mat','vowels.mat','wbc.mat']"
   ]
  },
  {
   "cell_type": "code",
   "execution_count": 8,
   "metadata": {},
   "outputs": [
    {
     "output_type": "execute_result",
     "data": {
      "text/plain": "{'__header__': b'MATLAB 5.0 MAT-file, written by Octave 3.8.0, 2014-12-18 10:48:09 UTC',\n '__version__': '1.0',\n '__globals__': [],\n 'X': array([[ 0.00491231,  0.69319077, -0.20364049, ...,  0.23149795,\n         -0.28978574, -0.49329397],\n        [ 0.11072935, -0.07990259, -0.20364049, ...,  0.09356344,\n         -0.25638541, -0.49329397],\n        [ 0.21654639, -0.27244466, -0.20364049, ...,  0.02459619,\n         -0.25638541,  1.14001753],\n        ...,\n        [-0.41835583, -0.91998844, -0.16463485, ..., -1.49268341,\n          0.24461959, -0.49329397],\n        [-0.41835583, -0.91998844, -0.15093411, ..., -1.42371616,\n          0.14441859, -0.49329397],\n        [-0.41835583, -0.91998844, -0.20364049, ..., -1.28578165,\n          3.58465295, -0.49329397]]),\n 'y': array([[0.],\n        [0.],\n        [0.],\n        ...,\n        [1.],\n        [1.],\n        [1.]])}"
     },
     "metadata": {},
     "execution_count": 8
    }
   ],
   "source": [
    "#Load Mat file\n",
    "data = loadmat('data/cardio.mat')\n",
    "data"
   ]
  },
  {
   "cell_type": "code",
   "execution_count": 9,
   "metadata": {},
   "outputs": [
    {
     "output_type": "execute_result",
     "data": {
      "text/plain": "5"
     },
     "metadata": {},
     "execution_count": 9
    }
   ],
   "source": [
    "len(data)"
   ]
  },
  {
   "cell_type": "code",
   "execution_count": 10,
   "metadata": {},
   "outputs": [
    {
     "output_type": "execute_result",
     "data": {
      "text/plain": "dict_keys(['__header__', '__version__', '__globals__', 'X', 'y'])"
     },
     "metadata": {},
     "execution_count": 10
    }
   ],
   "source": [
    "data.keys()"
   ]
  },
  {
   "cell_type": "code",
   "execution_count": 11,
   "metadata": {},
   "outputs": [
    {
     "output_type": "execute_result",
     "data": {
      "text/plain": "dict_values([b'MATLAB 5.0 MAT-file, written by Octave 3.8.0, 2014-12-18 10:48:09 UTC', '1.0', [], array([[ 0.00491231,  0.69319077, -0.20364049, ...,  0.23149795,\n        -0.28978574, -0.49329397],\n       [ 0.11072935, -0.07990259, -0.20364049, ...,  0.09356344,\n        -0.25638541, -0.49329397],\n       [ 0.21654639, -0.27244466, -0.20364049, ...,  0.02459619,\n        -0.25638541,  1.14001753],\n       ...,\n       [-0.41835583, -0.91998844, -0.16463485, ..., -1.49268341,\n         0.24461959, -0.49329397],\n       [-0.41835583, -0.91998844, -0.15093411, ..., -1.42371616,\n         0.14441859, -0.49329397],\n       [-0.41835583, -0.91998844, -0.20364049, ..., -1.28578165,\n         3.58465295, -0.49329397]]), array([[0.],\n       [0.],\n       [0.],\n       ...,\n       [1.],\n       [1.],\n       [1.]])])"
     },
     "metadata": {},
     "execution_count": 11
    }
   ],
   "source": [
    "data.values()"
   ]
  },
  {
   "cell_type": "code",
   "execution_count": 16,
   "metadata": {},
   "outputs": [],
   "source": [
    "df_columns=['Data','#Sample','#Dimensions','Outlier Perc','PCA','MCD','OCSVM','LOF','CBLOF','KNN','HBOS','ABOD','IFOREST','FEATUREBAGGING']"
   ]
  },
  {
   "cell_type": "code",
   "execution_count": 17,
   "metadata": {},
   "outputs": [
    {
     "output_type": "execute_result",
     "data": {
      "text/plain": "(numpy.ndarray, (1831, 21))"
     },
     "metadata": {},
     "execution_count": 17
    }
   ],
   "source": [
    "#Input(Independent) Feature shapes in Mat file\n",
    "type(data['X']),data['X'].shape"
   ]
  },
  {
   "cell_type": "code",
   "execution_count": 18,
   "metadata": {},
   "outputs": [
    {
     "output_type": "execute_result",
     "data": {
      "text/plain": "(numpy.ndarray, (1831, 1))"
     },
     "metadata": {},
     "execution_count": 18
    }
   ],
   "source": [
    "# Dependent/ Target/Output Freature shape\n",
    "type(data['y']),data['y'].shape"
   ]
  },
  {
   "cell_type": "code",
   "execution_count": 21,
   "metadata": {
    "tags": []
   },
   "outputs": [
    {
     "output_type": "stream",
     "name": "stdout",
     "text": "Empty DataFrame\nColumns: [Data, #Sample, #Dimensions, Outlier Perc, PCA, MCD, OCSVM, LOF, CBLOF, KNN, HBOS, ABOD, IFOREST, FEATUREBAGGING]\nIndex: [] Empty DataFrame\nColumns: [Data, #Sample, #Dimensions, Outlier Perc, PCA, MCD, OCSVM, LOF, CBLOF, KNN, HBOS, ABOD, IFOREST, FEATUREBAGGING]\nIndex: [] Empty DataFrame\nColumns: [Data, #Sample, #Dimensions, Outlier Perc, PCA, MCD, OCSVM, LOF, CBLOF, KNN, HBOS, ABOD, IFOREST, FEATUREBAGGING]\nIndex: []\n"
    }
   ],
   "source": [
    "#Precision Time and Roc evolution tables creation\n",
    "roc_df=pd.DataFrame(columns=df_columns)\n",
    "prn_df=pd.DataFrame(columns=df_columns)\n",
    "time_df=pd.DataFrame(columns=df_columns)\n",
    "print(roc_df,prn_df,time_df)"
   ]
  },
  {
   "cell_type": "code",
   "execution_count": 22,
   "metadata": {},
   "outputs": [],
   "source": [
    "# Exploring All mat files\n",
    "from time import time\n",
    "random_state  = np.random.RandomState(42)"
   ]
  },
  {
   "cell_type": "code",
   "execution_count": 20,
   "metadata": {
    "tags": []
   },
   "outputs": [
    {
     "output_type": "stream",
     "name": "stdout",
     "text": "\n....Processing arrhythmia.mat ....\nAngle-based Outlier Detector (ABOD) ROC:0.7687, precision @ rank n:0.3571, execution time: 0.1127s\nCluster-based Local Outlier Factor ROC:0.7789, precision @ rank n:0.4643, execution time: 0.1127s\nFeature Bagging ROC:0.7796, precision @ rank n:0.4643, execution time: 0.4678s\nHistogram-base Outlier Detection (HBOS) ROC:0.8511, precision @ rank n:0.5714, execution time: 0.0499s\nIsolation Forest ROC:0.8637, precision @ rank n:0.6071, execution time: 0.2543s\nK Nearest Neighbors (KNN) ROC:0.782, precision @ rank n:0.5, execution time: 0.0679s\nLocal Outlier Factor (LOF) ROC:0.7787, precision @ rank n:0.4643, execution time: 0.0589s\nMinimum Covariance Determinant (MCD) ROC:0.8228, precision @ rank n:0.4286, execution time: 0.7096s\nOne-class SVM (OCSVM) ROC:0.7986, precision @ rank n:0.5, execution time: 0.0389s\nPrincipal Component Analysis (PCA) ROC:0.7997, precision @ rank n:0.5, execution time: 0.0499s\n"
    },
    {
     "output_type": "error",
     "ename": "NameError",
     "evalue": "name 'time_df' is not defined",
     "traceback": [
      "\u001b[1;31m---------------------------------------------------------------------------\u001b[0m",
      "\u001b[1;31mNameError\u001b[0m                                 Traceback (most recent call last)",
      "\u001b[1;32m<ipython-input-20-c0fd589f5cd4>\u001b[0m in \u001b[0;36m<module>\u001b[1;34m\u001b[0m\n\u001b[0;32m     60\u001b[0m     \u001b[0mtemp_df\u001b[0m \u001b[1;33m=\u001b[0m \u001b[0mpd\u001b[0m\u001b[1;33m.\u001b[0m\u001b[0mDataFrame\u001b[0m\u001b[1;33m(\u001b[0m\u001b[0mtime_list\u001b[0m\u001b[1;33m)\u001b[0m\u001b[1;33m.\u001b[0m\u001b[0mtranspose\u001b[0m\u001b[1;33m(\u001b[0m\u001b[1;33m)\u001b[0m\u001b[1;33m\u001b[0m\u001b[1;33m\u001b[0m\u001b[0m\n\u001b[0;32m     61\u001b[0m     \u001b[0mtemp_df\u001b[0m\u001b[1;33m.\u001b[0m\u001b[0mcolumns\u001b[0m \u001b[1;33m=\u001b[0m \u001b[0mdf_columns\u001b[0m\u001b[1;33m\u001b[0m\u001b[1;33m\u001b[0m\u001b[0m\n\u001b[1;32m---> 62\u001b[1;33m     \u001b[0mtime_df\u001b[0m \u001b[1;33m=\u001b[0m \u001b[0mpd\u001b[0m\u001b[1;33m.\u001b[0m\u001b[0mconcat\u001b[0m\u001b[1;33m(\u001b[0m\u001b[1;33m[\u001b[0m\u001b[0mtime_df\u001b[0m\u001b[1;33m,\u001b[0m \u001b[0mtemp_df\u001b[0m\u001b[1;33m]\u001b[0m\u001b[1;33m,\u001b[0m \u001b[0maxis\u001b[0m\u001b[1;33m=\u001b[0m\u001b[1;36m0\u001b[0m\u001b[1;33m)\u001b[0m\u001b[1;33m\u001b[0m\u001b[1;33m\u001b[0m\u001b[0m\n\u001b[0m\u001b[0;32m     63\u001b[0m \u001b[1;33m\u001b[0m\u001b[0m\n\u001b[0;32m     64\u001b[0m     \u001b[0mtemp_df\u001b[0m \u001b[1;33m=\u001b[0m \u001b[0mpd\u001b[0m\u001b[1;33m.\u001b[0m\u001b[0mDataFrame\u001b[0m\u001b[1;33m(\u001b[0m\u001b[0mroc_list\u001b[0m\u001b[1;33m)\u001b[0m\u001b[1;33m.\u001b[0m\u001b[0mtranspose\u001b[0m\u001b[1;33m(\u001b[0m\u001b[1;33m)\u001b[0m\u001b[1;33m\u001b[0m\u001b[1;33m\u001b[0m\u001b[0m\n",
      "\u001b[1;31mNameError\u001b[0m: name 'time_df' is not defined"
     ]
    }
   ],
   "source": [
    "for mat_file in mat_file_list:\n",
    "    print(\"\\n....Processing\", mat_file,'....')\n",
    "    mat = loadmat(os.path.join('data',mat_file))\n",
    "\n",
    "    X = mat['X']\n",
    "    y = mat['y'].ravel()\n",
    "    outliers_fraction = np.count_nonzero(y) / len(y)\n",
    "    outliers_percentage = round(outliers_fraction * 100, ndigits=4)\n",
    "\n",
    "   # construct containers for saving results\n",
    "    roc_list = [mat_file[:-4], X.shape[0], X.shape[1], outliers_percentage]\n",
    "    prn_list = [mat_file[:-4], X.shape[0], X.shape[1], outliers_percentage]\n",
    "    time_list = [mat_file[:-4], X.shape[0], X.shape[1], outliers_percentage]\n",
    "\n",
    "   # 60% data for training and 40% for testing\n",
    "    X_train, X_test, y_train, y_test = train_test_split(X, y, test_size=0.4,                           random_state=random_state)\n",
    "\n",
    "   # standardizing data for processing\n",
    "    X_train_norm, X_test_norm = standardizer(X_train, X_test)\n",
    "\n",
    "    classifiers = {'Angle-based Outlier Detector (ABOD)': ABOD(\n",
    "       contamination=outliers_fraction),\n",
    "       'Cluster-based Local Outlier Factor': CBLOF(\n",
    "           contamination=outliers_fraction, check_estimator=False,\n",
    "           random_state=random_state),\n",
    "       'Feature Bagging': FeatureBagging(contamination=outliers_fraction,\n",
    "                                         random_state=random_state),\n",
    "       'Histogram-base Outlier Detection (HBOS)': HBOS(\n",
    "           contamination=outliers_fraction),\n",
    "       'Isolation Forest': IForest(contamination=outliers_fraction,\n",
    "                                   random_state=random_state),\n",
    "       'K Nearest Neighbors (KNN)': KNN(contamination=outliers_fraction),\n",
    "       'Local Outlier Factor (LOF)': LOF(\n",
    "           contamination=outliers_fraction),\n",
    "       'Minimum Covariance Determinant (MCD)': MCD(\n",
    "           contamination=outliers_fraction, random_state=random_state),\n",
    "       'One-class SVM (OCSVM)': OCSVM(contamination=outliers_fraction),\n",
    "       'Principal Component Analysis (PCA)': PCA(\n",
    "           contamination=outliers_fraction, random_state=random_state),\n",
    "    }\n",
    "\n",
    "    for clf_name, clf in classifiers.items():\n",
    "        t0 = time()\n",
    "        clf.fit(X_train_norm)\n",
    "        test_scores = clf.decision_function(X_test_norm)\n",
    "        t1 = time()\n",
    "        duration = round(t1 - t0, ndigits=4)\n",
    "        time_list.append(duration)\n",
    "\n",
    "        roc = round(roc_auc_score(y_test, test_scores), ndigits=4)\n",
    "        prn = round(precision_n_scores(y_test, test_scores), ndigits=4)\n",
    "\n",
    "        print('{clf_name} ROC:{roc}, precision @ rank n:{prn}, '\n",
    "             'execution time: {duration}s'.format(\n",
    "           clf_name=clf_name, roc=roc, prn=prn, duration=duration))\n",
    "\n",
    "        roc_list.append(roc)\n",
    "        prn_list.append(prn)\n",
    "        \n",
    "    temp_df = pd.DataFrame(time_list).transpose()\n",
    "    temp_df.columns = df_columns\n",
    "    time_df = pd.concat([time_df, temp_df], axis=0)\n",
    "\n",
    "    temp_df = pd.DataFrame(roc_list).transpose()\n",
    "    temp_df.columns = df_columns\n",
    "    roc_df = pd.concat([roc_df, temp_df], axis=0)\n",
    "\n",
    "    temp_df = pd.DataFrame(prn_list).transpose()\n",
    "    temp_df.columns = df_columns\n",
    "    prn_df = pd.concat([prn_df, temp_df], axis=0)"
   ]
  },
  {
   "cell_type": "code",
   "execution_count": null,
   "metadata": {},
   "outputs": [],
   "source": []
  }
 ]
}