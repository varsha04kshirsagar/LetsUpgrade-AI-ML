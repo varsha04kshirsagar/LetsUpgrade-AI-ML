{
 "metadata": {
  "language_info": {
   "codemirror_mode": {
    "name": "ipython",
    "version": 3
   },
   "file_extension": ".py",
   "mimetype": "text/x-python",
   "name": "python",
   "nbconvert_exporter": "python",
   "pygments_lexer": "ipython3",
   "version": 3
  },
  "orig_nbformat": 2,
  "kernelspec": {
   "name": "python_defaultSpec_1597066948111",
   "display_name": "Python 3.7.4 64-bit ('base': conda)"
  }
 },
 "nbformat": 4,
 "nbformat_minor": 2,
 "cells": [
  {
   "cell_type": "code",
   "execution_count": 2,
   "metadata": {},
   "outputs": [],
   "source": [
    "import  pandas as pd"
   ]
  },
  {
   "cell_type": "code",
   "execution_count": 3,
   "metadata": {},
   "outputs": [],
   "source": [
    "df = pd.read_excel(\"naive.xlsx\",sheet_name=0)"
   ]
  },
  {
   "cell_type": "code",
   "execution_count": 4,
   "metadata": {},
   "outputs": [
    {
     "output_type": "execute_result",
     "data": {
      "text/plain": "Index(['PassengerId', 'Survived', 'Pclass', 'Sex', 'Age', 'SibSp', 'Parch',\n       'Fare', 'Embarked'],\n      dtype='object')"
     },
     "metadata": {},
     "execution_count": 4
    }
   ],
   "source": [
    "df.columns"
   ]
  },
  {
   "cell_type": "code",
   "execution_count": 66,
   "metadata": {},
   "outputs": [],
   "source": [
    "from sklearn import preprocessing\n",
    "from sklearn.model_selection import train_test_split\n",
    "from sklearn.naive_bayes import GaussianNB\n",
    "from sklearn.metrics import accuracy_score\n",
    "from sklearn.metrics import confusion_matrix\n",
    "from sklearn.naive_bayes import *"
   ]
  },
  {
   "cell_type": "code",
   "execution_count": 67,
   "metadata": {},
   "outputs": [],
   "source": [
    "le = preprocessing.LabelEncoder()\n"
   ]
  },
  {
   "cell_type": "code",
   "execution_count": 68,
   "metadata": {},
   "outputs": [],
   "source": [
    "df['Sex'] = le.fit_transform(df['Sex'])\n",
    "df['Embarked'] = le.fit_transform(df['Embarked'])"
   ]
  },
  {
   "cell_type": "code",
   "execution_count": 69,
   "metadata": {
    "tags": []
   },
   "outputs": [
    {
     "output_type": "stream",
     "name": "stdout",
     "text": "Accuracy_Score: 0.7528089887640449\nConfusion_Matrx: [[121  36]\n [ 30  80]]\n"
    }
   ],
   "source": [
    "# Dependent variable is Survived\n",
    "y = df['Survived']\n",
    "x = df.drop(['Survived','PassengerId'],axis = 1) \n",
    "x_train, x_test, y_train, y_test = train_test_split(x, y, test_size = 0.3, random_state = 0)\n",
    "clf = GaussianNB()\n",
    "y_pred = clf.fit(x_train,y_train).predict(x_test)\n",
    "print(\"Accuracy_Score:\",accuracy_score(y_test,y_pred,normalize=True))\n",
    "print(\"Confusion_Matrx:\",confusion_matrix(y_test,y_pred))"
   ]
  },
  {
   "cell_type": "code",
   "execution_count": 70,
   "metadata": {
    "tags": []
   },
   "outputs": [
    {
     "output_type": "stream",
     "name": "stdout",
     "text": "Accuracy_Score: 0.6966292134831461\nConfusion_Matrx: [[ 52  13   5]\n [  5  25  19]\n [  5  34 109]]\n"
    }
   ],
   "source": [
    "# Dependent variable is Pclass\n",
    "y = df['Pclass']\n",
    "x = df.drop(['Pclass','PassengerId'],axis = 1) \n",
    "x_train, x_test, y_train, y_test = train_test_split(x, y, test_size = 0.3, random_state = 0)\n",
    "clf = GaussianNB()\n",
    "y_pred = clf.fit(x_train,y_train).predict(x_test)\n",
    "print(\"Accuracy_Score:\",accuracy_score(y_test,y_pred,normalize=True))\n",
    "print(\"Confusion_Matrx:\",confusion_matrix(y_test,y_pred))"
   ]
  },
  {
   "cell_type": "code",
   "execution_count": 49,
   "metadata": {
    "tags": []
   },
   "outputs": [
    {
     "output_type": "stream",
     "name": "stdout",
     "text": "Accuracy_Score: 0.7153558052434457\nConfusion_Matrx: [[ 52  46]\n [ 30 139]]\n"
    }
   ],
   "source": [
    "# Dependent variable is Sex\n",
    "y = df['Sex']\n",
    "x = df.drop(['Sex','PassengerId'],axis = 1) \n",
    "x_train, x_test, y_train, y_test = train_test_split(x, y, test_size = 0.3, random_state = 0)\n",
    "clf = GaussianNB()\n",
    "y_pred = clf.fit(x_train,y_train).predict(x_test)\n",
    "print(\"Accuracy_Score:\",accuracy_score(y_test,y_pred,normalize=True))\n",
    "print(\"Confusion_Matrx:\",confusion_matrix(y_test,y_pred))"
   ]
  },
  {
   "cell_type": "code",
   "execution_count": 50,
   "metadata": {
    "tags": []
   },
   "outputs": [
    {
     "output_type": "stream",
     "name": "stdout",
     "text": "Accuracy_Score: 0.5543071161048689\nConfusion_Matrx: [[130   8   2  40   2   0   0]\n [ 29   9   0  25   2   0   0]\n [  6   0   1   0   1   0   0]\n [  1   0   0   3   3   0   0]\n [  0   0   0   0   2   0   0]\n [  0   0   0   0   0   1   0]\n [  0   0   0   0   0   0   2]]\n"
    }
   ],
   "source": [
    "#Dependent variable is SibSp\n",
    "y = df['SibSp']\n",
    "x = df.drop(['SibSp','PassengerId'],axis = 1) \n",
    "x_train, x_test, y_train, y_test = train_test_split(x, y, test_size = 0.3, random_state = 0)\n",
    "clf = GaussianNB()\n",
    "y_pred = clf.fit(x_train,y_train).predict(x_test)\n",
    "print(\"Accuracy_Score:\",accuracy_score(y_test,y_pred,normalize=True))\n",
    "print(\"Confusion_Matrx:\",confusion_matrix(y_test,y_pred))"
   ]
  },
  {
   "cell_type": "code",
   "execution_count": 51,
   "metadata": {
    "tags": []
   },
   "outputs": [
    {
     "output_type": "stream",
     "name": "stdout",
     "text": "Accuracy_Score: 0.5805243445692884\nConfusion_Matrx: [[143   9   2  31  13]\n [ 17   5   2  12   4]\n [  7   5   7   6   2]\n [  0   0   0   0   1]\n [  0   0   0   1   0]]\n"
    }
   ],
   "source": [
    "#Dependent variable is Parch\n",
    "y = df['Parch']\n",
    "x = df.drop(['Parch','PassengerId'],axis = 1) \n",
    "x_train, x_test, y_train, y_test = train_test_split(x, y, test_size = 0.3, random_state = 0)\n",
    "clf = GaussianNB()\n",
    "y_pred = clf.fit(x_train,y_train).predict(x_test)\n",
    "print(\"Accuracy_Score:\",accuracy_score(y_test,y_pred,normalize=True))\n",
    "print(\"Confusion_Matrx:\",confusion_matrix(y_test,y_pred))"
   ]
  },
  {
   "cell_type": "code",
   "execution_count": 52,
   "metadata": {
    "tags": []
   },
   "outputs": [
    {
     "output_type": "stream",
     "name": "stdout",
     "text": "Accuracy_Score: 0.6928838951310862\nConfusion_Matrx: [[ 23   3  23]\n [  0  10  12]\n [ 23  21 152]]\n"
    }
   ],
   "source": [
    "#Dependent variable is Embarked\n",
    "y = df['Embarked']\n",
    "x = df.drop(['Embarked','PassengerId'],axis = 1) \n",
    "x_train, x_test, y_train, y_test = train_test_split(x, y, test_size = 0.3, random_state = 0)\n",
    "clf = GaussianNB()\n",
    "y_pred = clf.fit(x_train,y_train).predict(x_test)\n",
    "print(\"Accuracy_Score:\",accuracy_score(y_test,y_pred,normalize=True))\n",
    "print(\"Confusion_Matrx:\",confusion_matrix(y_test,y_pred))"
   ]
  },
  {
   "cell_type": "code",
   "execution_count": 75,
   "metadata": {},
   "outputs": [],
   "source": [
    "df['Sex'] = le.fit_transform(df['Sex'])\n",
    "df['Embarked'] = le.fit_transform(df['Embarked'])"
   ]
  },
  {
   "cell_type": "code",
   "execution_count": 78,
   "metadata": {
    "tags": []
   },
   "outputs": [
    {
     "output_type": "stream",
     "name": "stdout",
     "text": "Accuracy_Score of:  Survived 0.7528089887640449\nConfusion_Matrx of: Survived [[121  36]\n [ 30  80]]\nAccuracy_Score of:  Pclass 0.7078651685393258\nConfusion_Matrx of: Pclass [[ 52  12   6]\n [  5  26  18]\n [  5  32 111]]\nAccuracy_Score of:  Sex 0.7153558052434457\nConfusion_Matrx of: Sex [[ 52  46]\n [ 30 139]]\nAccuracy_Score of:  Age 0.011235955056179775\nConfusion_Matrx of: Age [[2 0 0 ... 0 0 0]\n [0 0 0 ... 0 0 0]\n [0 0 0 ... 0 0 0]\n ...\n [0 0 0 ... 0 0 0]\n [0 0 0 ... 0 0 0]\n [0 0 0 ... 0 0 0]]\nAccuracy_Score of:  Embarked 0.6928838951310862\nConfusion_Matrx of: Embarked [[ 23   3  23]\n [  0  10  12]\n [ 23  21 152]]\nAccuracy_Score of:  Parch 0.5805243445692884\nConfusion_Matrx of: Parch [[143   9   2  31  13]\n [ 17   5   2  12   4]\n [  7   5   7   6   2]\n [  0   0   0   0   1]\n [  0   0   0   1   0]]\nAccuracy_Score of:  SibSp 0.5543071161048689\nConfusion_Matrx of: SibSp [[130   9   2  40   1   0   0]\n [ 29   9   0  25   2   0   0]\n [  6   0   1   0   1   0   0]\n [  1   0   0   3   3   0   0]\n [  0   0   0   0   2   0   0]\n [  0   0   0   0   0   1   0]\n [  0   0   0   0   0   0   2]]\nAccuracy_Score of:  Fare 0.0749063670411985\nConfusion_Matrx of: Fare [[ 2  1  0 ...  0  0  0]\n [ 1  1  0 ...  0  0  0]\n [10 28  2 ...  0  0  0]\n ...\n [ 0  0  0 ...  0  0  0]\n [ 0  0  0 ...  0  1  0]\n [ 0  0  0 ...  0  0  0]]\n"
    }
   ],
   "source": [
    "#using for loop\n",
    "Variables = ['Survived','Pclass','Sex','Age','Embarked','Parch','SibSp','Fare']\n",
    "for i in  Variables:\n",
    "    y = (df[i]).astype('int')\n",
    "    x = (df.drop([i,'PassengerId'],axis = 1)).astype('int') \n",
    "    x_train, x_test, y_train, y_test = train_test_split(x, y, test_size = 0.3, random_state = 0)\n",
    "    clf = GaussianNB()\n",
    "    y_pred = clf.fit(x_train,y_train).predict(x_test)\n",
    "    print(\"Accuracy_Score of: \",i,accuracy_score(y_test,y_pred,normalize=True))\n",
    "    print(\"Confusion_Matrx of:\",i,confusion_matrix(y_test,y_pred))"
   ]
  },
  {
   "cell_type": "code",
   "execution_count": null,
   "metadata": {},
   "outputs": [],
   "source": []
  }
 ]
}